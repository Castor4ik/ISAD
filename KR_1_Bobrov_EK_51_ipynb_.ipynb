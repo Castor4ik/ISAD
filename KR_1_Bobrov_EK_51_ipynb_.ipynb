{
  "nbformat": 4,
  "nbformat_minor": 0,
  "metadata": {
    "kernelspec": {
      "display_name": "Python 3",
      "language": "python",
      "name": "python3"
    },
    "language_info": {
      "codemirror_mode": {
        "name": "ipython",
        "version": 3
      },
      "file_extension": ".py",
      "mimetype": "text/x-python",
      "name": "python",
      "nbconvert_exporter": "python",
      "pygments_lexer": "ipython3",
      "version": "3.8.3"
    },
    "colab": {
      "name": "Копия блокнота \"KR 1 Bobrov EK-51.ipynb\"",
      "provenance": []
    }
  },
  "cells": [
    {
      "cell_type": "code",
      "metadata": {
        "id": "Zu_L3ks9WbrA"
      },
      "source": [
        "#импорт основных библиотек\n",
        "\n",
        "import numpy as np\n",
        "import matplotlib.pyplot as plt\n",
        "import pandas as pd"
      ],
      "execution_count": 177,
      "outputs": []
    },
    {
      "cell_type": "code",
      "metadata": {
        "id": "0yAZ-jvDZzXf",
        "colab": {
          "resources": {
            "http://localhost:8080/nbextensions/google.colab/files.js": {
              "data": "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",
              "ok": true,
              "headers": [
                [
                  "content-type",
                  "application/javascript"
                ]
              ],
              "status": 200,
              "status_text": ""
            }
          },
          "base_uri": "https://localhost:8080/",
          "height": 72
        },
        "outputId": "0c44d152-5969-4cd9-c3ab-c1ea38fcdadc"
      },
      "source": [
        "#импорт датасета\n",
        "\n",
        "from google.colab import files \n",
        "uploaded = files.upload()"
      ],
      "execution_count": 178,
      "outputs": [
        {
          "output_type": "display_data",
          "data": {
            "text/html": [
              "\n",
              "     <input type=\"file\" id=\"files-6f0e4824-33ee-4dbd-89ab-b3463f562e7f\" name=\"files[]\" multiple disabled\n",
              "        style=\"border:none\" />\n",
              "     <output id=\"result-6f0e4824-33ee-4dbd-89ab-b3463f562e7f\">\n",
              "      Upload widget is only available when the cell has been executed in the\n",
              "      current browser session. Please rerun this cell to enable.\n",
              "      </output>\n",
              "      <script src=\"/nbextensions/google.colab/files.js\"></script> "
            ],
            "text/plain": [
              "<IPython.core.display.HTML object>"
            ]
          },
          "metadata": {}
        },
        {
          "output_type": "stream",
          "name": "stdout",
          "text": [
            "Saving КР-1.xlsx to КР-1 (3).xlsx\n"
          ]
        }
      ]
    },
    {
      "cell_type": "code",
      "metadata": {
        "colab": {
          "base_uri": "https://localhost:8080/",
          "height": 436
        },
        "id": "x_xAcF7jWbrC",
        "outputId": "624ba628-bcf5-4016-b54c-e925891226a7"
      },
      "source": [
        "#начальный вид датасета\n",
        "\n",
        "df = pd.read_excel('КР-1.xlsx', sheet_name='Вар (1)')\n",
        "df"
      ],
      "execution_count": 179,
      "outputs": [
        {
          "output_type": "execute_result",
          "data": {
            "text/html": [
              "<div>\n",
              "<style scoped>\n",
              "    .dataframe tbody tr th:only-of-type {\n",
              "        vertical-align: middle;\n",
              "    }\n",
              "\n",
              "    .dataframe tbody tr th {\n",
              "        vertical-align: top;\n",
              "    }\n",
              "\n",
              "    .dataframe thead th {\n",
              "        text-align: right;\n",
              "    }\n",
              "</style>\n",
              "<table border=\"1\" class=\"dataframe\">\n",
              "  <thead>\n",
              "    <tr style=\"text-align: right;\">\n",
              "      <th></th>\n",
              "      <th>Площадь загальна кв.м</th>\n",
              "      <th>Этаж</th>\n",
              "      <th>Количество сотрудников в магазине</th>\n",
              "      <th>Тип</th>\n",
              "      <th>Кількість відгуків в гуглі</th>\n",
              "      <th>Количество чеков</th>\n",
              "      <th>Среднее количество единиц в чеке</th>\n",
              "      <th>Населення</th>\n",
              "      <th>Середній дохід наелення,грн</th>\n",
              "      <th>Магазин мобільного звязку</th>\n",
              "      <th>Продуктовий ринок</th>\n",
              "      <th>Речовий ринок</th>\n",
              "      <th>Транзитна зупинка міжміського ГТ</th>\n",
              "      <th>Зупинка ГТ</th>\n",
              "    </tr>\n",
              "  </thead>\n",
              "  <tbody>\n",
              "    <tr>\n",
              "      <th>0</th>\n",
              "      <td>9.00</td>\n",
              "      <td>1</td>\n",
              "      <td>1</td>\n",
              "      <td>Соціальний</td>\n",
              "      <td>NaN</td>\n",
              "      <td>571.0</td>\n",
              "      <td>1.56</td>\n",
              "      <td>108.0</td>\n",
              "      <td>13884.0</td>\n",
              "      <td>0</td>\n",
              "      <td>0</td>\n",
              "      <td>0</td>\n",
              "      <td>0</td>\n",
              "      <td>1</td>\n",
              "    </tr>\n",
              "    <tr>\n",
              "      <th>1</th>\n",
              "      <td>30.00</td>\n",
              "      <td>1</td>\n",
              "      <td>1</td>\n",
              "      <td>Соціальний</td>\n",
              "      <td>8.0</td>\n",
              "      <td>1197.0</td>\n",
              "      <td>2.03</td>\n",
              "      <td>750.0</td>\n",
              "      <td>11700.0</td>\n",
              "      <td>0</td>\n",
              "      <td>0</td>\n",
              "      <td>0</td>\n",
              "      <td>1</td>\n",
              "      <td>1</td>\n",
              "    </tr>\n",
              "    <tr>\n",
              "      <th>2</th>\n",
              "      <td>15.00</td>\n",
              "      <td>1</td>\n",
              "      <td>1</td>\n",
              "      <td>Соціальний</td>\n",
              "      <td>NaN</td>\n",
              "      <td>402.0</td>\n",
              "      <td>1.81</td>\n",
              "      <td>0.0</td>\n",
              "      <td>6786.0</td>\n",
              "      <td>0</td>\n",
              "      <td>0</td>\n",
              "      <td>0</td>\n",
              "      <td>1</td>\n",
              "      <td>1</td>\n",
              "    </tr>\n",
              "    <tr>\n",
              "      <th>3</th>\n",
              "      <td>20.00</td>\n",
              "      <td>1</td>\n",
              "      <td>1</td>\n",
              "      <td>Стандартний</td>\n",
              "      <td>NaN</td>\n",
              "      <td>1036.0</td>\n",
              "      <td>2.18</td>\n",
              "      <td>0.0</td>\n",
              "      <td>12948.0</td>\n",
              "      <td>0</td>\n",
              "      <td>0</td>\n",
              "      <td>0</td>\n",
              "      <td>1</td>\n",
              "      <td>1</td>\n",
              "    </tr>\n",
              "    <tr>\n",
              "      <th>4</th>\n",
              "      <td>30.00</td>\n",
              "      <td>1</td>\n",
              "      <td>1</td>\n",
              "      <td>Соціальний</td>\n",
              "      <td>NaN</td>\n",
              "      <td>513.0</td>\n",
              "      <td>1.63</td>\n",
              "      <td>0.0</td>\n",
              "      <td>11427.0</td>\n",
              "      <td>0</td>\n",
              "      <td>0</td>\n",
              "      <td>0</td>\n",
              "      <td>0</td>\n",
              "      <td>0</td>\n",
              "    </tr>\n",
              "    <tr>\n",
              "      <th>...</th>\n",
              "      <td>...</td>\n",
              "      <td>...</td>\n",
              "      <td>...</td>\n",
              "      <td>...</td>\n",
              "      <td>...</td>\n",
              "      <td>...</td>\n",
              "      <td>...</td>\n",
              "      <td>...</td>\n",
              "      <td>...</td>\n",
              "      <td>...</td>\n",
              "      <td>...</td>\n",
              "      <td>...</td>\n",
              "      <td>...</td>\n",
              "      <td>...</td>\n",
              "    </tr>\n",
              "    <tr>\n",
              "      <th>64</th>\n",
              "      <td>51.77</td>\n",
              "      <td>1</td>\n",
              "      <td>3</td>\n",
              "      <td>Преміальний</td>\n",
              "      <td>4.0</td>\n",
              "      <td>6669.0</td>\n",
              "      <td>1.89</td>\n",
              "      <td>963.0</td>\n",
              "      <td>9399.0</td>\n",
              "      <td>0</td>\n",
              "      <td>0</td>\n",
              "      <td>0</td>\n",
              "      <td>0</td>\n",
              "      <td>0</td>\n",
              "    </tr>\n",
              "    <tr>\n",
              "      <th>65</th>\n",
              "      <td>27.26</td>\n",
              "      <td>1</td>\n",
              "      <td>2</td>\n",
              "      <td>Преміальний</td>\n",
              "      <td>3.0</td>\n",
              "      <td>2877.0</td>\n",
              "      <td>1.85</td>\n",
              "      <td>0.0</td>\n",
              "      <td>14079.0</td>\n",
              "      <td>0</td>\n",
              "      <td>1</td>\n",
              "      <td>1</td>\n",
              "      <td>0</td>\n",
              "      <td>0</td>\n",
              "    </tr>\n",
              "    <tr>\n",
              "      <th>66</th>\n",
              "      <td>148.91</td>\n",
              "      <td>1</td>\n",
              "      <td>1</td>\n",
              "      <td>Стандартний</td>\n",
              "      <td>12.0</td>\n",
              "      <td>2146.0</td>\n",
              "      <td>1.99</td>\n",
              "      <td>315.0</td>\n",
              "      <td>11427.0</td>\n",
              "      <td>0</td>\n",
              "      <td>0</td>\n",
              "      <td>0</td>\n",
              "      <td>0</td>\n",
              "      <td>0</td>\n",
              "    </tr>\n",
              "    <tr>\n",
              "      <th>67</th>\n",
              "      <td>50.93</td>\n",
              "      <td>1</td>\n",
              "      <td>2</td>\n",
              "      <td>Соціальний</td>\n",
              "      <td>17.0</td>\n",
              "      <td>413.0</td>\n",
              "      <td>1.73</td>\n",
              "      <td>0.0</td>\n",
              "      <td>13338.0</td>\n",
              "      <td>0</td>\n",
              "      <td>1</td>\n",
              "      <td>1</td>\n",
              "      <td>0</td>\n",
              "      <td>0</td>\n",
              "    </tr>\n",
              "    <tr>\n",
              "      <th>68</th>\n",
              "      <td>30.00</td>\n",
              "      <td>1</td>\n",
              "      <td>2</td>\n",
              "      <td>Преміальний</td>\n",
              "      <td>12.0</td>\n",
              "      <td>3156.0</td>\n",
              "      <td>2.13</td>\n",
              "      <td>678.0</td>\n",
              "      <td>10296.0</td>\n",
              "      <td>0</td>\n",
              "      <td>0</td>\n",
              "      <td>0</td>\n",
              "      <td>0</td>\n",
              "      <td>0</td>\n",
              "    </tr>\n",
              "  </tbody>\n",
              "</table>\n",
              "<p>69 rows × 14 columns</p>\n",
              "</div>"
            ],
            "text/plain": [
              "    Площадь загальна кв.м  Этаж  ...  Транзитна зупинка міжміського ГТ Зупинка ГТ\n",
              "0                    9.00     1  ...                                 0          1\n",
              "1                   30.00     1  ...                                 1          1\n",
              "2                   15.00     1  ...                                 1          1\n",
              "3                   20.00     1  ...                                 1          1\n",
              "4                   30.00     1  ...                                 0          0\n",
              "..                    ...   ...  ...                               ...        ...\n",
              "64                  51.77     1  ...                                 0          0\n",
              "65                  27.26     1  ...                                 0          0\n",
              "66                 148.91     1  ...                                 0          0\n",
              "67                  50.93     1  ...                                 0          0\n",
              "68                  30.00     1  ...                                 0          0\n",
              "\n",
              "[69 rows x 14 columns]"
            ]
          },
          "metadata": {},
          "execution_count": 179
        }
      ]
    },
    {
      "cell_type": "code",
      "metadata": {
        "colab": {
          "base_uri": "https://localhost:8080/"
        },
        "id": "XYaaarEJWbrD",
        "outputId": "dc717e65-3cc1-44bb-e739-09844f0dd851"
      },
      "source": [
        "#проверка на нулевые значения. Видим, что особенно в этом плане выделяется количество отзывов\n",
        "\n",
        "df.isna().sum()"
      ],
      "execution_count": 180,
      "outputs": [
        {
          "output_type": "execute_result",
          "data": {
            "text/plain": [
              "Площадь загальна кв.м                  0\n",
              "Этаж                                   0\n",
              "Количество сотрудников в магазине      0\n",
              "Тип                                    0\n",
              "Кількість відгуків в гуглі            30\n",
              "Количество чеков                       0\n",
              "Среднее количество единиц в чеке       7\n",
              "Населення                              5\n",
              "Середній дохід наелення,грн            5\n",
              "Магазин мобільного звязку              0\n",
              "Продуктовий ринок                      0\n",
              "Речовий ринок                          0\n",
              "Транзитна зупинка міжміського ГТ       0\n",
              "Зупинка ГТ                             0\n",
              "dtype: int64"
            ]
          },
          "metadata": {},
          "execution_count": 180
        }
      ]
    },
    {
      "cell_type": "code",
      "metadata": {
        "id": "jh12Apn0WbrE"
      },
      "source": [
        "#!pip install sklearn"
      ],
      "execution_count": 181,
      "outputs": []
    },
    {
      "cell_type": "code",
      "metadata": {
        "id": "NBcRx1D2WbrF"
      },
      "source": [
        "#заполним все пропуски, так как у нас достаточно мало данных\n",
        "\n",
        "dfm = df\n",
        "\n",
        "from sklearn.impute import SimpleImputer\n",
        "#numeric\n",
        "'''SimpleImputer - класс\n",
        "imputer_mean - экземпляр\n",
        "fit - метод класса'''\n",
        "\n",
        "imputer_mean = SimpleImputer(missing_values=np.nan, strategy='mean')\n",
        "dfm[['Кількість відгуків в гуглі']] = imputer_mean.fit_transform(dfm[['Кількість відгуків в гуглі']]).round()\n",
        "\n",
        "imputer_mean = SimpleImputer(missing_values=np.nan, strategy='mean')\n",
        "dfm[['Среднее количество единиц в чеке']] = imputer_mean.fit_transform(dfm[['Среднее количество единиц в чеке']]).round()\n",
        "\n",
        "imputer_mean = SimpleImputer(missing_values=np.nan, strategy='mean')\n",
        "dfm[['Населення']] = imputer_mean.fit_transform(dfm[['Населення']]).round()\n",
        "\n",
        "imputer_mean = SimpleImputer(missing_values=np.nan, strategy='mean')\n",
        "dfm[['Середній дохід наелення,грн']] = imputer_mean.fit_transform(dfm[['Середній дохід наелення,грн']]).round()"
      ],
      "execution_count": 182,
      "outputs": []
    },
    {
      "cell_type": "code",
      "metadata": {
        "colab": {
          "base_uri": "https://localhost:8080/",
          "height": 314
        },
        "id": "r9h13RtiWbrF",
        "outputId": "ccd919c7-c571-461b-8f5f-3c0ac12e2cac"
      },
      "source": [
        "#подробная статистика всех переменных. Видим, что у нас есть и бинарные переменные в большом количестве. Далее рассмотрим каждый из параметров более подробно и выберем тот, который будем прогнозировать\n",
        "\n",
        "df.describe()"
      ],
      "execution_count": 183,
      "outputs": [
        {
          "output_type": "execute_result",
          "data": {
            "text/html": [
              "<div>\n",
              "<style scoped>\n",
              "    .dataframe tbody tr th:only-of-type {\n",
              "        vertical-align: middle;\n",
              "    }\n",
              "\n",
              "    .dataframe tbody tr th {\n",
              "        vertical-align: top;\n",
              "    }\n",
              "\n",
              "    .dataframe thead th {\n",
              "        text-align: right;\n",
              "    }\n",
              "</style>\n",
              "<table border=\"1\" class=\"dataframe\">\n",
              "  <thead>\n",
              "    <tr style=\"text-align: right;\">\n",
              "      <th></th>\n",
              "      <th>Площадь загальна кв.м</th>\n",
              "      <th>Этаж</th>\n",
              "      <th>Количество сотрудников в магазине</th>\n",
              "      <th>Кількість відгуків в гуглі</th>\n",
              "      <th>Количество чеков</th>\n",
              "      <th>Среднее количество единиц в чеке</th>\n",
              "      <th>Населення</th>\n",
              "      <th>Середній дохід наелення,грн</th>\n",
              "      <th>Магазин мобільного звязку</th>\n",
              "      <th>Продуктовий ринок</th>\n",
              "      <th>Речовий ринок</th>\n",
              "      <th>Транзитна зупинка міжміського ГТ</th>\n",
              "      <th>Зупинка ГТ</th>\n",
              "    </tr>\n",
              "  </thead>\n",
              "  <tbody>\n",
              "    <tr>\n",
              "      <th>count</th>\n",
              "      <td>69.000000</td>\n",
              "      <td>69.0</td>\n",
              "      <td>69.000000</td>\n",
              "      <td>69.000000</td>\n",
              "      <td>69.000000</td>\n",
              "      <td>69.000000</td>\n",
              "      <td>69.000000</td>\n",
              "      <td>69.000000</td>\n",
              "      <td>69.000000</td>\n",
              "      <td>69.000000</td>\n",
              "      <td>69.000000</td>\n",
              "      <td>69.000000</td>\n",
              "      <td>69.000000</td>\n",
              "    </tr>\n",
              "    <tr>\n",
              "      <th>mean</th>\n",
              "      <td>47.412725</td>\n",
              "      <td>1.0</td>\n",
              "      <td>1.869565</td>\n",
              "      <td>42.898551</td>\n",
              "      <td>3021.576882</td>\n",
              "      <td>1.971014</td>\n",
              "      <td>295.956522</td>\n",
              "      <td>11306.855072</td>\n",
              "      <td>0.057971</td>\n",
              "      <td>0.173913</td>\n",
              "      <td>0.130435</td>\n",
              "      <td>0.101449</td>\n",
              "      <td>0.362319</td>\n",
              "    </tr>\n",
              "    <tr>\n",
              "      <th>std</th>\n",
              "      <td>37.862989</td>\n",
              "      <td>0.0</td>\n",
              "      <td>0.838645</td>\n",
              "      <td>61.280489</td>\n",
              "      <td>1904.285820</td>\n",
              "      <td>0.240772</td>\n",
              "      <td>310.467836</td>\n",
              "      <td>2347.336283</td>\n",
              "      <td>0.235401</td>\n",
              "      <td>0.381812</td>\n",
              "      <td>0.339248</td>\n",
              "      <td>0.304135</td>\n",
              "      <td>0.484192</td>\n",
              "    </tr>\n",
              "    <tr>\n",
              "      <th>min</th>\n",
              "      <td>4.000000</td>\n",
              "      <td>1.0</td>\n",
              "      <td>1.000000</td>\n",
              "      <td>1.000000</td>\n",
              "      <td>369.000000</td>\n",
              "      <td>1.000000</td>\n",
              "      <td>0.000000</td>\n",
              "      <td>0.000000</td>\n",
              "      <td>0.000000</td>\n",
              "      <td>0.000000</td>\n",
              "      <td>0.000000</td>\n",
              "      <td>0.000000</td>\n",
              "      <td>0.000000</td>\n",
              "    </tr>\n",
              "    <tr>\n",
              "      <th>25%</th>\n",
              "      <td>26.720000</td>\n",
              "      <td>1.0</td>\n",
              "      <td>1.000000</td>\n",
              "      <td>12.000000</td>\n",
              "      <td>1651.000000</td>\n",
              "      <td>2.000000</td>\n",
              "      <td>0.000000</td>\n",
              "      <td>10296.000000</td>\n",
              "      <td>0.000000</td>\n",
              "      <td>0.000000</td>\n",
              "      <td>0.000000</td>\n",
              "      <td>0.000000</td>\n",
              "      <td>0.000000</td>\n",
              "    </tr>\n",
              "    <tr>\n",
              "      <th>50%</th>\n",
              "      <td>32.300000</td>\n",
              "      <td>1.0</td>\n",
              "      <td>2.000000</td>\n",
              "      <td>43.000000</td>\n",
              "      <td>2679.000000</td>\n",
              "      <td>2.000000</td>\n",
              "      <td>253.000000</td>\n",
              "      <td>11427.000000</td>\n",
              "      <td>0.000000</td>\n",
              "      <td>0.000000</td>\n",
              "      <td>0.000000</td>\n",
              "      <td>0.000000</td>\n",
              "      <td>0.000000</td>\n",
              "    </tr>\n",
              "    <tr>\n",
              "      <th>75%</th>\n",
              "      <td>56.240000</td>\n",
              "      <td>1.0</td>\n",
              "      <td>2.000000</td>\n",
              "      <td>43.000000</td>\n",
              "      <td>3826.000000</td>\n",
              "      <td>2.000000</td>\n",
              "      <td>545.000000</td>\n",
              "      <td>12948.000000</td>\n",
              "      <td>0.000000</td>\n",
              "      <td>0.000000</td>\n",
              "      <td>0.000000</td>\n",
              "      <td>0.000000</td>\n",
              "      <td>1.000000</td>\n",
              "    </tr>\n",
              "    <tr>\n",
              "      <th>max</th>\n",
              "      <td>232.300000</td>\n",
              "      <td>1.0</td>\n",
              "      <td>4.000000</td>\n",
              "      <td>367.000000</td>\n",
              "      <td>7852.000000</td>\n",
              "      <td>3.000000</td>\n",
              "      <td>963.000000</td>\n",
              "      <td>14937.000000</td>\n",
              "      <td>1.000000</td>\n",
              "      <td>1.000000</td>\n",
              "      <td>1.000000</td>\n",
              "      <td>1.000000</td>\n",
              "      <td>1.000000</td>\n",
              "    </tr>\n",
              "  </tbody>\n",
              "</table>\n",
              "</div>"
            ],
            "text/plain": [
              "       Площадь загальна кв.м  ...  Зупинка ГТ\n",
              "count              69.000000  ...   69.000000\n",
              "mean               47.412725  ...    0.362319\n",
              "std                37.862989  ...    0.484192\n",
              "min                 4.000000  ...    0.000000\n",
              "25%                26.720000  ...    0.000000\n",
              "50%                32.300000  ...    0.000000\n",
              "75%                56.240000  ...    1.000000\n",
              "max               232.300000  ...    1.000000\n",
              "\n",
              "[8 rows x 13 columns]"
            ]
          },
          "metadata": {},
          "execution_count": 183
        }
      ]
    },
    {
      "cell_type": "code",
      "metadata": {
        "id": "7OJjF8EUWbrG"
      },
      "source": [
        "#для удобства работы необходимо переименовать все колонки, в том числе, чтобы построить графики распределения\n",
        "\n",
        "df.rename(columns={'Площадь загальна кв.м': 'square'}, inplace=True)\n",
        "df.rename(columns={'Этаж': 'floor'}, inplace=True)\n",
        "df.rename(columns={'Количество чеков': 'receipt'}, inplace=True)\n",
        "df.rename(columns={'Кількість відгуків в гуглі': 'Google_marks'}, inplace=True)\n",
        "df.rename(columns={'Среднее количество единиц в чеке': 'midQ_receipt'}, inplace=True)\n",
        "df.rename(columns={'Населення': 'People'}, inplace=True)\n",
        "df.rename(columns={'Середній дохід наелення,грн': 'mid_income'}, inplace=True)\n",
        "df.rename(columns={'Магазин мобільного звязку': 'mobile'}, inplace=True)\n",
        "df.rename(columns={'Продуктовий ринок': 'food_market'}, inplace=True)\n",
        "df.rename(columns={'Речовий ринок': 'product_market'}, inplace=True)\n",
        "df.rename(columns={'Транзитна зупинка міжміського ГТ': 'int_stop'}, inplace=True)\n",
        "df.rename(columns={'Зупинка ГТ': 'city_stop'}, inplace=True)\n",
        "df.rename(columns={'Тип': 'type'}, inplace=True)\n",
        "df.rename(columns={'Количество сотрудников в магазине ': 'ds'}, inplace=True)"
      ],
      "execution_count": 184,
      "outputs": []
    },
    {
      "cell_type": "code",
      "metadata": {
        "scrolled": true,
        "colab": {
          "base_uri": "https://localhost:8080/"
        },
        "id": "9wnzUgasWbrH",
        "outputId": "96c87a4d-739d-4981-c43f-a6fb0c3e9767"
      },
      "source": [
        "#проверка типов данных. Один из параметров - текстовый и категориальный, что будет важно в дальнейшем\n",
        "\n",
        "df.dtypes"
      ],
      "execution_count": 185,
      "outputs": [
        {
          "output_type": "execute_result",
          "data": {
            "text/plain": [
              "square            float64\n",
              "floor               int64\n",
              "ds                  int64\n",
              "type               object\n",
              "Google_marks      float64\n",
              "receipt           float64\n",
              "midQ_receipt      float64\n",
              "People            float64\n",
              "mid_income        float64\n",
              "mobile              int64\n",
              "food_market         int64\n",
              "product_market      int64\n",
              "int_stop            int64\n",
              "city_stop           int64\n",
              "dtype: object"
            ]
          },
          "metadata": {},
          "execution_count": 185
        }
      ]
    },
    {
      "cell_type": "code",
      "metadata": {
        "colab": {
          "base_uri": "https://localhost:8080/",
          "height": 268
        },
        "id": "Abl0-VULWbrI",
        "outputId": "201389fb-7839-4a7f-9476-2cea68716493"
      },
      "source": [
        "#распределение площади. По нему видно, что есть небольшой крупный отдельный выброс, который мы удалим без использования дополнительных иструментов\n",
        "\n",
        "df.square.hist()\n",
        "df = df.loc[df['square'] < 180]"
      ],
      "execution_count": 186,
      "outputs": [
        {
          "output_type": "display_data",
          "data": {
            "image/png": "[encoded data removed]",
            "text/plain": [
              "<Figure size 432x288 with 1 Axes>"
            ]
          },
          "metadata": {
            "needs_background": "light"
          }
        }
      ]
    },
    {
      "cell_type": "code",
      "metadata": {
        "colab": {
          "base_uri": "https://localhost:8080/",
          "height": 282
        },
        "id": "Wh_JXn7WWbrI",
        "outputId": "606c90f8-4692-42de-8920-262551235842"
      },
      "source": [
        "#переменная, у которой только 1 значение. Очевидно, что не несет никакого смысла\n",
        "df.floor.hist()"
      ],
      "execution_count": 187,
      "outputs": [
        {
          "output_type": "execute_result",
          "data": {
            "text/plain": [
              "<matplotlib.axes._subplots.AxesSubplot at 0x7fdb0e7fdc10>"
            ]
          },
          "metadata": {},
          "execution_count": 187
        },
        {
          "output_type": "display_data",
          "data": {
            "image/png": "[encoded data removed]",
            "text/plain": [
              "<Figure size 432x288 with 1 Axes>"
            ]
          },
          "metadata": {
            "needs_background": "light"
          }
        }
      ]
    },
    {
      "cell_type": "code",
      "metadata": {
        "colab": {
          "base_uri": "https://localhost:8080/",
          "height": 282
        },
        "id": "A8mhGLLIWbrJ",
        "outputId": "39be875a-705e-4810-f39d-53598b8db67d"
      },
      "source": [
        "#несмотря на наличие выбросов, тут они носят логичный характер и, после заполнения пропущенных участков выглядят адекватно. Тем не менее, на мой взгляд, количество отзывов не повлияют на переменную, которую хотелось бы изучить\n",
        "\n",
        "df.Google_marks.hist()"
      ],
      "execution_count": 188,
      "outputs": [
        {
          "output_type": "execute_result",
          "data": {
            "text/plain": [
              "<matplotlib.axes._subplots.AxesSubplot at 0x7fdb0a3c1050>"
            ]
          },
          "metadata": {},
          "execution_count": 188
        },
        {
          "output_type": "display_data",
          "data": {
            "image/png": "[encoded data removed]",
            "text/plain": [
              "<Figure size 432x288 with 1 Axes>"
            ]
          },
          "metadata": {
            "needs_background": "light"
          }
        }
      ]
    },
    {
      "cell_type": "code",
      "metadata": {
        "colab": {
          "base_uri": "https://localhost:8080/",
          "height": 282
        },
        "id": "xptyj_IMWbrK",
        "outputId": "5b92f613-62ee-4728-b1c9-7493dcf57a99"
      },
      "source": [
        "#переменная, которую хотелось бы объяснить. Нормальное распределение, и в целом интересно оценить количество чека в зависимости от неких переменных\n",
        "\n",
        "df.receipt.hist()"
      ],
      "execution_count": 189,
      "outputs": [
        {
          "output_type": "execute_result",
          "data": {
            "text/plain": [
              "<matplotlib.axes._subplots.AxesSubplot at 0x7fdb09e1bad0>"
            ]
          },
          "metadata": {},
          "execution_count": 189
        },
        {
          "output_type": "display_data",
          "data": {
            "image/png": "[encoded data removed]",
            "text/plain": [
              "<Figure size 432x288 with 1 Axes>"
            ]
          },
          "metadata": {
            "needs_background": "light"
          }
        }
      ]
    },
    {
      "cell_type": "code",
      "metadata": {
        "colab": {
          "base_uri": "https://localhost:8080/",
          "height": 282
        },
        "id": "JKzXy69FWbrK",
        "outputId": "64779ef6-cfa9-4d8b-eb7d-eaf28bf4705a"
      },
      "source": [
        "#бесполезная переменная с парой выбросов. Будет удалена\n",
        "\n",
        "df.midQ_receipt.hist()"
      ],
      "execution_count": 190,
      "outputs": [
        {
          "output_type": "execute_result",
          "data": {
            "text/plain": [
              "<matplotlib.axes._subplots.AxesSubplot at 0x7fdb0a3dc390>"
            ]
          },
          "metadata": {},
          "execution_count": 190
        },
        {
          "output_type": "display_data",
          "data": {
            "image/png": "[encoded data removed]",
            "text/plain": [
              "<Figure size 432x288 with 1 Axes>"
            ]
          },
          "metadata": {
            "needs_background": "light"
          }
        }
      ]
    },
    {
      "cell_type": "code",
      "metadata": {
        "colab": {
          "base_uri": "https://localhost:8080/",
          "height": 282
        },
        "id": "nxoogu3FWbrL",
        "outputId": "d8ab4bed-ad73-428e-b09e-9528e8466e8c"
      },
      "source": [
        "#Население - ок переменная для анализа с адекватным распределением. Возможно, можно было бы ее логарифмировать, но этого делать не будем\n",
        "\n",
        "df.People.hist()"
      ],
      "execution_count": 191,
      "outputs": [
        {
          "output_type": "execute_result",
          "data": {
            "text/plain": [
              "<matplotlib.axes._subplots.AxesSubplot at 0x7fdb048a2910>"
            ]
          },
          "metadata": {},
          "execution_count": 191
        },
        {
          "output_type": "display_data",
          "data": {
            "image/png": "[encoded data removed]",
            "text/plain": [
              "<Figure size 432x288 with 1 Axes>"
            ]
          },
          "metadata": {
            "needs_background": "light"
          }
        }
      ]
    },
    {
      "cell_type": "code",
      "metadata": {
        "colab": {
          "base_uri": "https://localhost:8080/",
          "height": 265
        },
        "id": "kG_ArUrOWbrL",
        "outputId": "bd423db3-77a9-4cc3-8720-0e6b49d351d4"
      },
      "source": [
        "#средний доход. Одна из ключевых переменных. Удаляем выброс с аномально низким значением и двигаемся дальше.\n",
        "df.mid_income.hist()\n",
        "df = df.loc[df['mid_income'] > 5000]"
      ],
      "execution_count": 192,
      "outputs": [
        {
          "output_type": "display_data",
          "data": {
            "image/png": "[encoded data removed]",
            "text/plain": [
              "<Figure size 432x288 with 1 Axes>"
            ]
          },
          "metadata": {
            "needs_background": "light"
          }
        }
      ]
    },
    {
      "cell_type": "code",
      "metadata": {
        "colab": {
          "base_uri": "https://localhost:8080/",
          "height": 282
        },
        "id": "AgblAKazWbrM",
        "outputId": "ad92cf9f-8945-49d7-9123-e8823fca1cf1"
      },
      "source": [
        "#бинарная переменная без особого интереса - слишком малое кол-во этих мобильных точек. Будет удалена\n",
        "\n",
        "df.mobile.hist()"
      ],
      "execution_count": 193,
      "outputs": [
        {
          "output_type": "execute_result",
          "data": {
            "text/plain": [
              "<matplotlib.axes._subplots.AxesSubplot at 0x7fdb03464a10>"
            ]
          },
          "metadata": {},
          "execution_count": 193
        },
        {
          "output_type": "display_data",
          "data": {
            "image/png": "[encoded data removed]",
            "text/plain": [
              "<Figure size 432x288 with 1 Axes>"
            ]
          },
          "metadata": {
            "needs_background": "light"
          }
        }
      ]
    },
    {
      "cell_type": "code",
      "metadata": {
        "colab": {
          "base_uri": "https://localhost:8080/",
          "height": 282
        },
        "id": "N-ieKlHtWbrN",
        "outputId": "349fcfd2-f58b-4982-ca02-be1e3f303bef"
      },
      "source": [
        "#бинарная переменная. Оставим для исследования.\n",
        "\n",
        "df.food_market.hist()"
      ],
      "execution_count": 194,
      "outputs": [
        {
          "output_type": "execute_result",
          "data": {
            "text/plain": [
              "<matplotlib.axes._subplots.AxesSubplot at 0x7fdb033eb910>"
            ]
          },
          "metadata": {},
          "execution_count": 194
        },
        {
          "output_type": "display_data",
          "data": {
            "image/png": "[encoded data removed]",
            "text/plain": [
              "<Figure size 432x288 with 1 Axes>"
            ]
          },
          "metadata": {
            "needs_background": "light"
          }
        }
      ]
    },
    {
      "cell_type": "code",
      "metadata": {
        "colab": {
          "base_uri": "https://localhost:8080/",
          "height": 283
        },
        "id": "ibD5Q4KCWbrN",
        "outputId": "183f6c5e-8515-46a2-8bcd-163c92850a23"
      },
      "source": [
        "#бинарная переменная. Оставим для исследования.\n",
        "\n",
        "df.product_market.hist()"
      ],
      "execution_count": 195,
      "outputs": [
        {
          "output_type": "execute_result",
          "data": {
            "text/plain": [
              "<matplotlib.axes._subplots.AxesSubplot at 0x7fdb089771d0>"
            ]
          },
          "metadata": {},
          "execution_count": 195
        },
        {
          "output_type": "display_data",
          "data": {
            "image/png": "[encoded data removed]",
            "text/plain": [
              "<Figure size 432x288 with 1 Axes>"
            ]
          },
          "metadata": {
            "needs_background": "light"
          }
        }
      ]
    },
    {
      "cell_type": "code",
      "metadata": {
        "colab": {
          "base_uri": "https://localhost:8080/",
          "height": 282
        },
        "id": "sEfp_F-NWbrN",
        "outputId": "1508b260-f6ff-4291-fe92-a7f21729a886"
      },
      "source": [
        "#бинарная переменная. Все же принял ее оставить, возможно, она достаточно влияет на формирование цены\n",
        "df.int_stop.hist()"
      ],
      "execution_count": 196,
      "outputs": [
        {
          "output_type": "execute_result",
          "data": {
            "text/plain": [
              "<matplotlib.axes._subplots.AxesSubplot at 0x7fdb08cd5690>"
            ]
          },
          "metadata": {},
          "execution_count": 196
        },
        {
          "output_type": "display_data",
          "data": {
            "image/png": "[encoded data removed]",
            "text/plain": [
              "<Figure size 432x288 with 1 Axes>"
            ]
          },
          "metadata": {
            "needs_background": "light"
          }
        }
      ]
    },
    {
      "cell_type": "code",
      "metadata": {
        "colab": {
          "base_uri": "https://localhost:8080/",
          "height": 282
        },
        "id": "OnhPrP4QWbrO",
        "outputId": "0e8c05ce-dc00-4463-9225-306fb5dbaf91"
      },
      "source": [
        "#хорошая бинарная переменная\n",
        "\n",
        "df.city_stop.hist()"
      ],
      "execution_count": 197,
      "outputs": [
        {
          "output_type": "execute_result",
          "data": {
            "text/plain": [
              "<matplotlib.axes._subplots.AxesSubplot at 0x7fdb0620dc90>"
            ]
          },
          "metadata": {},
          "execution_count": 197
        },
        {
          "output_type": "display_data",
          "data": {
            "image/png": "[encoded data removed]",
            "text/plain": [
              "<Figure size 432x288 with 1 Axes>"
            ]
          },
          "metadata": {
            "needs_background": "light"
          }
        }
      ]
    },
    {
      "cell_type": "code",
      "metadata": {
        "colab": {
          "base_uri": "https://localhost:8080/",
          "height": 419
        },
        "id": "nCp1gfHAWbrO",
        "outputId": "042bdc19-844b-4a5d-ca0b-ab6b9890b7b9"
      },
      "source": [
        "#бинарное кодирование категориальной переменной с типом магазина. Тип точно влияет на чек, и мы должны создать отдельные переменные\n",
        "\n",
        "from sklearn.preprocessing import OneHotEncoder\n",
        "ohe = OneHotEncoder(sparse=False) # sparse=False categorical_features=...\n",
        "new_ohe_features = ohe.fit_transform(df.type.values.reshape(-1, 1))\n",
        "tmp = pd.DataFrame(new_ohe_features, columns=['type' + str(i) for i in range(new_ohe_features.shape[1])])\n",
        "df = pd.concat([df, tmp], axis=1)\n",
        "df"
      ],
      "execution_count": 198,
      "outputs": [
        {
          "output_type": "execute_result",
          "data": {
            "text/html": [
              "<div>\n",
              "<style scoped>\n",
              "    .dataframe tbody tr th:only-of-type {\n",
              "        vertical-align: middle;\n",
              "    }\n",
              "\n",
              "    .dataframe tbody tr th {\n",
              "        vertical-align: top;\n",
              "    }\n",
              "\n",
              "    .dataframe thead th {\n",
              "        text-align: right;\n",
              "    }\n",
              "</style>\n",
              "<table border=\"1\" class=\"dataframe\">\n",
              "  <thead>\n",
              "    <tr style=\"text-align: right;\">\n",
              "      <th></th>\n",
              "      <th>square</th>\n",
              "      <th>floor</th>\n",
              "      <th>ds</th>\n",
              "      <th>type</th>\n",
              "      <th>Google_marks</th>\n",
              "      <th>receipt</th>\n",
              "      <th>midQ_receipt</th>\n",
              "      <th>People</th>\n",
              "      <th>mid_income</th>\n",
              "      <th>mobile</th>\n",
              "      <th>food_market</th>\n",
              "      <th>product_market</th>\n",
              "      <th>int_stop</th>\n",
              "      <th>city_stop</th>\n",
              "      <th>type0</th>\n",
              "      <th>type1</th>\n",
              "      <th>type2</th>\n",
              "      <th>type3</th>\n",
              "      <th>type4</th>\n",
              "    </tr>\n",
              "  </thead>\n",
              "  <tbody>\n",
              "    <tr>\n",
              "      <th>0</th>\n",
              "      <td>9.00</td>\n",
              "      <td>1.0</td>\n",
              "      <td>1.0</td>\n",
              "      <td>Соціальний</td>\n",
              "      <td>43.0</td>\n",
              "      <td>571.0</td>\n",
              "      <td>2.0</td>\n",
              "      <td>108.0</td>\n",
              "      <td>13884.0</td>\n",
              "      <td>0.0</td>\n",
              "      <td>0.0</td>\n",
              "      <td>0.0</td>\n",
              "      <td>0.0</td>\n",
              "      <td>1.0</td>\n",
              "      <td>0.0</td>\n",
              "      <td>1.0</td>\n",
              "      <td>0.0</td>\n",
              "      <td>0.0</td>\n",
              "      <td>0.0</td>\n",
              "    </tr>\n",
              "    <tr>\n",
              "      <th>1</th>\n",
              "      <td>30.00</td>\n",
              "      <td>1.0</td>\n",
              "      <td>1.0</td>\n",
              "      <td>Соціальний</td>\n",
              "      <td>8.0</td>\n",
              "      <td>1197.0</td>\n",
              "      <td>2.0</td>\n",
              "      <td>750.0</td>\n",
              "      <td>11700.0</td>\n",
              "      <td>0.0</td>\n",
              "      <td>0.0</td>\n",
              "      <td>0.0</td>\n",
              "      <td>1.0</td>\n",
              "      <td>1.0</td>\n",
              "      <td>0.0</td>\n",
              "      <td>1.0</td>\n",
              "      <td>0.0</td>\n",
              "      <td>0.0</td>\n",
              "      <td>0.0</td>\n",
              "    </tr>\n",
              "    <tr>\n",
              "      <th>2</th>\n",
              "      <td>15.00</td>\n",
              "      <td>1.0</td>\n",
              "      <td>1.0</td>\n",
              "      <td>Соціальний</td>\n",
              "      <td>43.0</td>\n",
              "      <td>402.0</td>\n",
              "      <td>2.0</td>\n",
              "      <td>0.0</td>\n",
              "      <td>6786.0</td>\n",
              "      <td>0.0</td>\n",
              "      <td>0.0</td>\n",
              "      <td>0.0</td>\n",
              "      <td>1.0</td>\n",
              "      <td>1.0</td>\n",
              "      <td>0.0</td>\n",
              "      <td>1.0</td>\n",
              "      <td>0.0</td>\n",
              "      <td>0.0</td>\n",
              "      <td>0.0</td>\n",
              "    </tr>\n",
              "    <tr>\n",
              "      <th>3</th>\n",
              "      <td>20.00</td>\n",
              "      <td>1.0</td>\n",
              "      <td>1.0</td>\n",
              "      <td>Стандартний</td>\n",
              "      <td>43.0</td>\n",
              "      <td>1036.0</td>\n",
              "      <td>2.0</td>\n",
              "      <td>0.0</td>\n",
              "      <td>12948.0</td>\n",
              "      <td>0.0</td>\n",
              "      <td>0.0</td>\n",
              "      <td>0.0</td>\n",
              "      <td>1.0</td>\n",
              "      <td>1.0</td>\n",
              "      <td>0.0</td>\n",
              "      <td>0.0</td>\n",
              "      <td>0.0</td>\n",
              "      <td>0.0</td>\n",
              "      <td>1.0</td>\n",
              "    </tr>\n",
              "    <tr>\n",
              "      <th>4</th>\n",
              "      <td>30.00</td>\n",
              "      <td>1.0</td>\n",
              "      <td>1.0</td>\n",
              "      <td>Соціальний</td>\n",
              "      <td>43.0</td>\n",
              "      <td>513.0</td>\n",
              "      <td>2.0</td>\n",
              "      <td>0.0</td>\n",
              "      <td>11427.0</td>\n",
              "      <td>0.0</td>\n",
              "      <td>0.0</td>\n",
              "      <td>0.0</td>\n",
              "      <td>0.0</td>\n",
              "      <td>0.0</td>\n",
              "      <td>0.0</td>\n",
              "      <td>1.0</td>\n",
              "      <td>0.0</td>\n",
              "      <td>0.0</td>\n",
              "      <td>0.0</td>\n",
              "    </tr>\n",
              "    <tr>\n",
              "      <th>...</th>\n",
              "      <td>...</td>\n",
              "      <td>...</td>\n",
              "      <td>...</td>\n",
              "      <td>...</td>\n",
              "      <td>...</td>\n",
              "      <td>...</td>\n",
              "      <td>...</td>\n",
              "      <td>...</td>\n",
              "      <td>...</td>\n",
              "      <td>...</td>\n",
              "      <td>...</td>\n",
              "      <td>...</td>\n",
              "      <td>...</td>\n",
              "      <td>...</td>\n",
              "      <td>...</td>\n",
              "      <td>...</td>\n",
              "      <td>...</td>\n",
              "      <td>...</td>\n",
              "      <td>...</td>\n",
              "    </tr>\n",
              "    <tr>\n",
              "      <th>64</th>\n",
              "      <td>51.77</td>\n",
              "      <td>1.0</td>\n",
              "      <td>3.0</td>\n",
              "      <td>Преміальний</td>\n",
              "      <td>4.0</td>\n",
              "      <td>6669.0</td>\n",
              "      <td>2.0</td>\n",
              "      <td>963.0</td>\n",
              "      <td>9399.0</td>\n",
              "      <td>0.0</td>\n",
              "      <td>0.0</td>\n",
              "      <td>0.0</td>\n",
              "      <td>0.0</td>\n",
              "      <td>0.0</td>\n",
              "      <td>0.0</td>\n",
              "      <td>0.0</td>\n",
              "      <td>0.0</td>\n",
              "      <td>0.0</td>\n",
              "      <td>1.0</td>\n",
              "    </tr>\n",
              "    <tr>\n",
              "      <th>65</th>\n",
              "      <td>27.26</td>\n",
              "      <td>1.0</td>\n",
              "      <td>2.0</td>\n",
              "      <td>Преміальний</td>\n",
              "      <td>3.0</td>\n",
              "      <td>2877.0</td>\n",
              "      <td>2.0</td>\n",
              "      <td>0.0</td>\n",
              "      <td>14079.0</td>\n",
              "      <td>0.0</td>\n",
              "      <td>1.0</td>\n",
              "      <td>1.0</td>\n",
              "      <td>0.0</td>\n",
              "      <td>0.0</td>\n",
              "      <td>0.0</td>\n",
              "      <td>1.0</td>\n",
              "      <td>0.0</td>\n",
              "      <td>0.0</td>\n",
              "      <td>0.0</td>\n",
              "    </tr>\n",
              "    <tr>\n",
              "      <th>66</th>\n",
              "      <td>148.91</td>\n",
              "      <td>1.0</td>\n",
              "      <td>1.0</td>\n",
              "      <td>Стандартний</td>\n",
              "      <td>12.0</td>\n",
              "      <td>2146.0</td>\n",
              "      <td>2.0</td>\n",
              "      <td>315.0</td>\n",
              "      <td>11427.0</td>\n",
              "      <td>0.0</td>\n",
              "      <td>0.0</td>\n",
              "      <td>0.0</td>\n",
              "      <td>0.0</td>\n",
              "      <td>0.0</td>\n",
              "      <td>1.0</td>\n",
              "      <td>0.0</td>\n",
              "      <td>0.0</td>\n",
              "      <td>0.0</td>\n",
              "      <td>0.0</td>\n",
              "    </tr>\n",
              "    <tr>\n",
              "      <th>67</th>\n",
              "      <td>50.93</td>\n",
              "      <td>1.0</td>\n",
              "      <td>2.0</td>\n",
              "      <td>Соціальний</td>\n",
              "      <td>17.0</td>\n",
              "      <td>413.0</td>\n",
              "      <td>2.0</td>\n",
              "      <td>0.0</td>\n",
              "      <td>13338.0</td>\n",
              "      <td>0.0</td>\n",
              "      <td>1.0</td>\n",
              "      <td>1.0</td>\n",
              "      <td>0.0</td>\n",
              "      <td>0.0</td>\n",
              "      <td>NaN</td>\n",
              "      <td>NaN</td>\n",
              "      <td>NaN</td>\n",
              "      <td>NaN</td>\n",
              "      <td>NaN</td>\n",
              "    </tr>\n",
              "    <tr>\n",
              "      <th>68</th>\n",
              "      <td>30.00</td>\n",
              "      <td>1.0</td>\n",
              "      <td>2.0</td>\n",
              "      <td>Преміальний</td>\n",
              "      <td>12.0</td>\n",
              "      <td>3156.0</td>\n",
              "      <td>2.0</td>\n",
              "      <td>678.0</td>\n",
              "      <td>10296.0</td>\n",
              "      <td>0.0</td>\n",
              "      <td>0.0</td>\n",
              "      <td>0.0</td>\n",
              "      <td>0.0</td>\n",
              "      <td>0.0</td>\n",
              "      <td>NaN</td>\n",
              "      <td>NaN</td>\n",
              "      <td>NaN</td>\n",
              "      <td>NaN</td>\n",
              "      <td>NaN</td>\n",
              "    </tr>\n",
              "  </tbody>\n",
              "</table>\n",
              "<p>69 rows × 19 columns</p>\n",
              "</div>"
            ],
            "text/plain": [
              "    square  floor   ds         type  ...  type1  type2  type3  type4\n",
              "0     9.00    1.0  1.0   Соціальний  ...    1.0    0.0    0.0    0.0\n",
              "1    30.00    1.0  1.0   Соціальний  ...    1.0    0.0    0.0    0.0\n",
              "2    15.00    1.0  1.0   Соціальний  ...    1.0    0.0    0.0    0.0\n",
              "3    20.00    1.0  1.0  Стандартний  ...    0.0    0.0    0.0    1.0\n",
              "4    30.00    1.0  1.0   Соціальний  ...    1.0    0.0    0.0    0.0\n",
              "..     ...    ...  ...          ...  ...    ...    ...    ...    ...\n",
              "64   51.77    1.0  3.0  Преміальний  ...    0.0    0.0    0.0    1.0\n",
              "65   27.26    1.0  2.0  Преміальний  ...    1.0    0.0    0.0    0.0\n",
              "66  148.91    1.0  1.0  Стандартний  ...    0.0    0.0    0.0    0.0\n",
              "67   50.93    1.0  2.0   Соціальний  ...    NaN    NaN    NaN    NaN\n",
              "68   30.00    1.0  2.0  Преміальний  ...    NaN    NaN    NaN    NaN\n",
              "\n",
              "[69 rows x 19 columns]"
            ]
          },
          "metadata": {},
          "execution_count": 198
        }
      ]
    },
    {
      "cell_type": "code",
      "metadata": {
        "colab": {
          "base_uri": "https://localhost:8080/",
          "height": 282
        },
        "id": "KqEkLfN6WbrP",
        "outputId": "80efb842-bafc-439b-9370-1b7d4c9443c6"
      },
      "source": [
        "#бинарная переменная. Оставим для исследования.\n",
        "\n",
        "df.type0.hist()"
      ],
      "execution_count": 199,
      "outputs": [
        {
          "output_type": "execute_result",
          "data": {
            "text/plain": [
              "<matplotlib.axes._subplots.AxesSubplot at 0x7fdb08c29450>"
            ]
          },
          "metadata": {},
          "execution_count": 199
        },
        {
          "output_type": "display_data",
          "data": {
            "image/png": "[encoded data removed]",
            "text/plain": [
              "<Figure size 432x288 with 1 Axes>"
            ]
          },
          "metadata": {
            "needs_background": "light"
          }
        }
      ]
    },
    {
      "cell_type": "code",
      "metadata": {
        "colab": {
          "base_uri": "https://localhost:8080/",
          "height": 282
        },
        "id": "jG4Yqi9eWbrP",
        "outputId": "58c935ac-a1e1-432c-f332-1759db306a74"
      },
      "source": [
        "#бинарная переменная. Оставим для исследования.\n",
        "\n",
        "df.type1.hist()"
      ],
      "execution_count": 200,
      "outputs": [
        {
          "output_type": "execute_result",
          "data": {
            "text/plain": [
              "<matplotlib.axes._subplots.AxesSubplot at 0x7fdb0a4cf4d0>"
            ]
          },
          "metadata": {},
          "execution_count": 200
        },
        {
          "output_type": "display_data",
          "data": {
            "image/png": "[encoded data removed]",
            "text/plain": [
              "<Figure size 432x288 with 1 Axes>"
            ]
          },
          "metadata": {
            "needs_background": "light"
          }
        }
      ]
    },
    {
      "cell_type": "code",
      "metadata": {
        "colab": {
          "base_uri": "https://localhost:8080/",
          "height": 282
        },
        "id": "GXvK7m6PWbrQ",
        "outputId": "9eae9df0-01ac-4f3a-cfcc-c544a7ba0338"
      },
      "source": [
        "#бинарная переменная. Слишком редкая и может создать перекос в модели, удаляем\n",
        "\n",
        "df.type2.hist()"
      ],
      "execution_count": 201,
      "outputs": [
        {
          "output_type": "execute_result",
          "data": {
            "text/plain": [
              "<matplotlib.axes._subplots.AxesSubplot at 0x7fdb022bc7d0>"
            ]
          },
          "metadata": {},
          "execution_count": 201
        },
        {
          "output_type": "display_data",
          "data": {
            "image/png": "[encoded data removed]",
            "text/plain": [
              "<Figure size 432x288 with 1 Axes>"
            ]
          },
          "metadata": {
            "needs_background": "light"
          }
        }
      ]
    },
    {
      "cell_type": "code",
      "metadata": {
        "colab": {
          "base_uri": "https://localhost:8080/",
          "height": 282
        },
        "id": "PPrxKB9fWbrQ",
        "outputId": "b73e5114-30c7-4be1-d6f7-68aec275da05"
      },
      "source": [
        "#бинарная переменная. Слишком редкая и может создать перекос в модели, удаляем. Добавлять им замену не будем, пусть эти типы будут пропущены\n",
        "\n",
        "df.type3.hist()"
      ],
      "execution_count": 202,
      "outputs": [
        {
          "output_type": "execute_result",
          "data": {
            "text/plain": [
              "<matplotlib.axes._subplots.AxesSubplot at 0x7fdb0a227890>"
            ]
          },
          "metadata": {},
          "execution_count": 202
        },
        {
          "output_type": "display_data",
          "data": {
            "image/png": "[encoded data removed]",
            "text/plain": [
              "<Figure size 432x288 with 1 Axes>"
            ]
          },
          "metadata": {
            "needs_background": "light"
          }
        }
      ]
    },
    {
      "cell_type": "code",
      "metadata": {
        "colab": {
          "base_uri": "https://localhost:8080/",
          "height": 285
        },
        "id": "jqZX-WJnWbrQ",
        "outputId": "319b929d-b6c0-466b-ad9e-dd7f0cb3802b"
      },
      "source": [
        "#бинарная переменная. Оставим для исследования.\n",
        "\n",
        "df.type4.hist()"
      ],
      "execution_count": 203,
      "outputs": [
        {
          "output_type": "execute_result",
          "data": {
            "text/plain": [
              "<matplotlib.axes._subplots.AxesSubplot at 0x7fdb03549a50>"
            ]
          },
          "metadata": {},
          "execution_count": 203
        },
        {
          "output_type": "display_data",
          "data": {
            "image/png": "[encoded data removed]",
            "text/plain": [
              "<Figure size 432x288 with 1 Axes>"
            ]
          },
          "metadata": {
            "needs_background": "light"
          }
        }
      ]
    },
    {
      "cell_type": "code",
      "metadata": {
        "id": "ySdft6xzWbrR"
      },
      "source": [
        "#Удаляем лишние колонки и заполняем 0 пропущенные в категориальных переменных значения(так как оставшиеся 3 магазина не относятся ни к одному из типов)\n",
        "\n",
        "df = df.drop(columns = ['type3'], );\n",
        "df = df.drop(columns = ['type2'], );\n",
        "df = df.drop(columns = ['midQ_receipt'], );\n",
        "df = df.drop(columns = ['mobile'], );\n",
        "df = df.drop(columns = ['floor'], );\n",
        "df = df.drop(columns = ['type'], );\n",
        "df = df.drop(columns = ['Google_marks'], );\n",
        "df = df.fillna(0) "
      ],
      "execution_count": 204,
      "outputs": []
    },
    {
      "cell_type": "code",
      "metadata": {
        "colab": {
          "base_uri": "https://localhost:8080/",
          "height": 419
        },
        "id": "BXyP8tvUWbrR",
        "outputId": "84513917-792d-4798-f38e-5b3449c946ff"
      },
      "source": [
        "#поменяем порядок колонок и выделим объясняемую переменную справа\n",
        "\n",
        "new_order = [0,1,3,4, 5,6,7,8,9,10,11,2]\n",
        "df = df[df.columns[new_order]]\n",
        "df"
      ],
      "execution_count": 205,
      "outputs": [
        {
          "output_type": "execute_result",
          "data": {
            "text/html": [
              "<div>\n",
              "<style scoped>\n",
              "    .dataframe tbody tr th:only-of-type {\n",
              "        vertical-align: middle;\n",
              "    }\n",
              "\n",
              "    .dataframe tbody tr th {\n",
              "        vertical-align: top;\n",
              "    }\n",
              "\n",
              "    .dataframe thead th {\n",
              "        text-align: right;\n",
              "    }\n",
              "</style>\n",
              "<table border=\"1\" class=\"dataframe\">\n",
              "  <thead>\n",
              "    <tr style=\"text-align: right;\">\n",
              "      <th></th>\n",
              "      <th>square</th>\n",
              "      <th>ds</th>\n",
              "      <th>People</th>\n",
              "      <th>mid_income</th>\n",
              "      <th>food_market</th>\n",
              "      <th>product_market</th>\n",
              "      <th>int_stop</th>\n",
              "      <th>city_stop</th>\n",
              "      <th>type0</th>\n",
              "      <th>type1</th>\n",
              "      <th>type4</th>\n",
              "      <th>receipt</th>\n",
              "    </tr>\n",
              "  </thead>\n",
              "  <tbody>\n",
              "    <tr>\n",
              "      <th>0</th>\n",
              "      <td>9.00</td>\n",
              "      <td>1.0</td>\n",
              "      <td>108.0</td>\n",
              "      <td>13884.0</td>\n",
              "      <td>0.0</td>\n",
              "      <td>0.0</td>\n",
              "      <td>0.0</td>\n",
              "      <td>1.0</td>\n",
              "      <td>0.0</td>\n",
              "      <td>1.0</td>\n",
              "      <td>0.0</td>\n",
              "      <td>571.0</td>\n",
              "    </tr>\n",
              "    <tr>\n",
              "      <th>1</th>\n",
              "      <td>30.00</td>\n",
              "      <td>1.0</td>\n",
              "      <td>750.0</td>\n",
              "      <td>11700.0</td>\n",
              "      <td>0.0</td>\n",
              "      <td>0.0</td>\n",
              "      <td>1.0</td>\n",
              "      <td>1.0</td>\n",
              "      <td>0.0</td>\n",
              "      <td>1.0</td>\n",
              "      <td>0.0</td>\n",
              "      <td>1197.0</td>\n",
              "    </tr>\n",
              "    <tr>\n",
              "      <th>2</th>\n",
              "      <td>15.00</td>\n",
              "      <td>1.0</td>\n",
              "      <td>0.0</td>\n",
              "      <td>6786.0</td>\n",
              "      <td>0.0</td>\n",
              "      <td>0.0</td>\n",
              "      <td>1.0</td>\n",
              "      <td>1.0</td>\n",
              "      <td>0.0</td>\n",
              "      <td>1.0</td>\n",
              "      <td>0.0</td>\n",
              "      <td>402.0</td>\n",
              "    </tr>\n",
              "    <tr>\n",
              "      <th>3</th>\n",
              "      <td>20.00</td>\n",
              "      <td>1.0</td>\n",
              "      <td>0.0</td>\n",
              "      <td>12948.0</td>\n",
              "      <td>0.0</td>\n",
              "      <td>0.0</td>\n",
              "      <td>1.0</td>\n",
              "      <td>1.0</td>\n",
              "      <td>0.0</td>\n",
              "      <td>0.0</td>\n",
              "      <td>1.0</td>\n",
              "      <td>1036.0</td>\n",
              "    </tr>\n",
              "    <tr>\n",
              "      <th>4</th>\n",
              "      <td>30.00</td>\n",
              "      <td>1.0</td>\n",
              "      <td>0.0</td>\n",
              "      <td>11427.0</td>\n",
              "      <td>0.0</td>\n",
              "      <td>0.0</td>\n",
              "      <td>0.0</td>\n",
              "      <td>0.0</td>\n",
              "      <td>0.0</td>\n",
              "      <td>1.0</td>\n",
              "      <td>0.0</td>\n",
              "      <td>513.0</td>\n",
              "    </tr>\n",
              "    <tr>\n",
              "      <th>...</th>\n",
              "      <td>...</td>\n",
              "      <td>...</td>\n",
              "      <td>...</td>\n",
              "      <td>...</td>\n",
              "      <td>...</td>\n",
              "      <td>...</td>\n",
              "      <td>...</td>\n",
              "      <td>...</td>\n",
              "      <td>...</td>\n",
              "      <td>...</td>\n",
              "      <td>...</td>\n",
              "      <td>...</td>\n",
              "    </tr>\n",
              "    <tr>\n",
              "      <th>64</th>\n",
              "      <td>51.77</td>\n",
              "      <td>3.0</td>\n",
              "      <td>963.0</td>\n",
              "      <td>9399.0</td>\n",
              "      <td>0.0</td>\n",
              "      <td>0.0</td>\n",
              "      <td>0.0</td>\n",
              "      <td>0.0</td>\n",
              "      <td>0.0</td>\n",
              "      <td>0.0</td>\n",
              "      <td>1.0</td>\n",
              "      <td>6669.0</td>\n",
              "    </tr>\n",
              "    <tr>\n",
              "      <th>65</th>\n",
              "      <td>27.26</td>\n",
              "      <td>2.0</td>\n",
              "      <td>0.0</td>\n",
              "      <td>14079.0</td>\n",
              "      <td>1.0</td>\n",
              "      <td>1.0</td>\n",
              "      <td>0.0</td>\n",
              "      <td>0.0</td>\n",
              "      <td>0.0</td>\n",
              "      <td>1.0</td>\n",
              "      <td>0.0</td>\n",
              "      <td>2877.0</td>\n",
              "    </tr>\n",
              "    <tr>\n",
              "      <th>66</th>\n",
              "      <td>148.91</td>\n",
              "      <td>1.0</td>\n",
              "      <td>315.0</td>\n",
              "      <td>11427.0</td>\n",
              "      <td>0.0</td>\n",
              "      <td>0.0</td>\n",
              "      <td>0.0</td>\n",
              "      <td>0.0</td>\n",
              "      <td>1.0</td>\n",
              "      <td>0.0</td>\n",
              "      <td>0.0</td>\n",
              "      <td>2146.0</td>\n",
              "    </tr>\n",
              "    <tr>\n",
              "      <th>67</th>\n",
              "      <td>50.93</td>\n",
              "      <td>2.0</td>\n",
              "      <td>0.0</td>\n",
              "      <td>13338.0</td>\n",
              "      <td>1.0</td>\n",
              "      <td>1.0</td>\n",
              "      <td>0.0</td>\n",
              "      <td>0.0</td>\n",
              "      <td>0.0</td>\n",
              "      <td>0.0</td>\n",
              "      <td>0.0</td>\n",
              "      <td>413.0</td>\n",
              "    </tr>\n",
              "    <tr>\n",
              "      <th>68</th>\n",
              "      <td>30.00</td>\n",
              "      <td>2.0</td>\n",
              "      <td>678.0</td>\n",
              "      <td>10296.0</td>\n",
              "      <td>0.0</td>\n",
              "      <td>0.0</td>\n",
              "      <td>0.0</td>\n",
              "      <td>0.0</td>\n",
              "      <td>0.0</td>\n",
              "      <td>0.0</td>\n",
              "      <td>0.0</td>\n",
              "      <td>3156.0</td>\n",
              "    </tr>\n",
              "  </tbody>\n",
              "</table>\n",
              "<p>69 rows × 12 columns</p>\n",
              "</div>"
            ],
            "text/plain": [
              "    square   ds  People  mid_income  ...  type0  type1  type4  receipt\n",
              "0     9.00  1.0   108.0     13884.0  ...    0.0    1.0    0.0    571.0\n",
              "1    30.00  1.0   750.0     11700.0  ...    0.0    1.0    0.0   1197.0\n",
              "2    15.00  1.0     0.0      6786.0  ...    0.0    1.0    0.0    402.0\n",
              "3    20.00  1.0     0.0     12948.0  ...    0.0    0.0    1.0   1036.0\n",
              "4    30.00  1.0     0.0     11427.0  ...    0.0    1.0    0.0    513.0\n",
              "..     ...  ...     ...         ...  ...    ...    ...    ...      ...\n",
              "64   51.77  3.0   963.0      9399.0  ...    0.0    0.0    1.0   6669.0\n",
              "65   27.26  2.0     0.0     14079.0  ...    0.0    1.0    0.0   2877.0\n",
              "66  148.91  1.0   315.0     11427.0  ...    1.0    0.0    0.0   2146.0\n",
              "67   50.93  2.0     0.0     13338.0  ...    0.0    0.0    0.0    413.0\n",
              "68   30.00  2.0   678.0     10296.0  ...    0.0    0.0    0.0   3156.0\n",
              "\n",
              "[69 rows x 12 columns]"
            ]
          },
          "metadata": {},
          "execution_count": 205
        }
      ]
    },
    {
      "cell_type": "code",
      "metadata": {
        "colab": {
          "base_uri": "https://localhost:8080/",
          "height": 621
        },
        "id": "MMVqlD5aWbrR",
        "outputId": "08a51049-a844-47e9-e3ea-614e654a003d"
      },
      "source": [
        "#построим матрицу корреляций. Никаких выводов по ней сделать не можем.\n",
        "\n",
        "from pandas.plotting import scatter_matrix\n",
        "scatter_matrix(df, alpha=0.2, figsize=(10, 10))\n",
        "plt.show()"
      ],
      "execution_count": 206,
      "outputs": [
        {
          "output_type": "display_data",
          "data": {
            "image/png": "[encoded data removed]",
            "text/plain": [
              "<Figure size 720x720 with 144 Axes>"
            ]
          },
          "metadata": {
            "needs_background": "light"
          }
        }
      ]
    },
    {
      "cell_type": "code",
      "metadata": {
        "id": "2DID6ilAWbrR"
      },
      "source": [
        "# Splitting the dataset into the Training set and Test set\n",
        "X = df.iloc[:, :-1]\n",
        "y = df['receipt']\n",
        "from sklearn.model_selection import train_test_split\n",
        "X_train, X_test, y_train, y_test = train_test_split(X, y, test_size=0.2, random_state=10)\n"
      ],
      "execution_count": 207,
      "outputs": []
    },
    {
      "cell_type": "code",
      "metadata": {
        "id": "p63XF0m9WbrS"
      },
      "source": [
        "#!pip install statsmodels"
      ],
      "execution_count": 208,
      "outputs": []
    },
    {
      "cell_type": "code",
      "metadata": {
        "id": "ulZOQA0TdITw"
      },
      "source": [
        "\n",
        "from sklearn.linear_model import LinearRegression"
      ],
      "execution_count": 209,
      "outputs": []
    },
    {
      "cell_type": "code",
      "metadata": {
        "colab": {
          "base_uri": "https://localhost:8080/"
        },
        "id": "Z0S9Bt2KWbrS",
        "outputId": "ff011e5c-235a-4704-a9ef-a7ba9e4b31bb"
      },
      "source": [
        "# Fitting Multiple Regression\n",
        "mr = LinearRegression().fit(X_train, y_train)\n",
        "\n",
        "# Coefficient of determination R^2\n",
        "mr.score(X_train, y_train).round(3)"
      ],
      "execution_count": 210,
      "outputs": [
        {
          "output_type": "execute_result",
          "data": {
            "text/plain": [
              "0.657"
            ]
          },
          "metadata": {},
          "execution_count": 210
        }
      ]
    },
    {
      "cell_type": "code",
      "metadata": {
        "colab": {
          "base_uri": "https://localhost:8080/",
          "height": 688
        },
        "id": "vYBl_r9rWbrT",
        "outputId": "56f5e911-1cb4-4111-f559-176541b84fae"
      },
      "source": [
        "# Checking p-values\n",
        "import statsmodels.api as sm\n",
        "X1 = sm.add_constant(X_train)\n",
        "mr1 = sm.OLS(y_train, X1).fit()\n",
        "#mr1.pvalues\n",
        "mr1.summary()"
      ],
      "execution_count": 211,
      "outputs": [
        {
          "output_type": "execute_result",
          "data": {
            "text/html": [
              "<table class=\"simpletable\">\n",
              "<caption>OLS Regression Results</caption>\n",
              "<tr>\n",
              "  <th>Dep. Variable:</th>         <td>receipt</td>     <th>  R-squared:         </th> <td>   0.657</td>\n",
              "</tr>\n",
              "<tr>\n",
              "  <th>Model:</th>                   <td>OLS</td>       <th>  Adj. R-squared:    </th> <td>   0.569</td>\n",
              "</tr>\n",
              "<tr>\n",
              "  <th>Method:</th>             <td>Least Squares</td>  <th>  F-statistic:       </th> <td>   7.474</td>\n",
              "</tr>\n",
              "<tr>\n",
              "  <th>Date:</th>             <td>Thu, 21 Oct 2021</td> <th>  Prob (F-statistic):</th> <td>5.68e-07</td>\n",
              "</tr>\n",
              "<tr>\n",
              "  <th>Time:</th>                 <td>17:53:49</td>     <th>  Log-Likelihood:    </th> <td> -466.86</td>\n",
              "</tr>\n",
              "<tr>\n",
              "  <th>No. Observations:</th>      <td>    55</td>      <th>  AIC:               </th> <td>   957.7</td>\n",
              "</tr>\n",
              "<tr>\n",
              "  <th>Df Residuals:</th>          <td>    43</td>      <th>  BIC:               </th> <td>   981.8</td>\n",
              "</tr>\n",
              "<tr>\n",
              "  <th>Df Model:</th>              <td>    11</td>      <th>                     </th>     <td> </td>   \n",
              "</tr>\n",
              "<tr>\n",
              "  <th>Covariance Type:</th>      <td>nonrobust</td>    <th>                     </th>     <td> </td>   \n",
              "</tr>\n",
              "</table>\n",
              "<table class=\"simpletable\">\n",
              "<tr>\n",
              "         <td></td>           <th>coef</th>     <th>std err</th>      <th>t</th>      <th>P>|t|</th>  <th>[0.025</th>    <th>0.975]</th>  \n",
              "</tr>\n",
              "<tr>\n",
              "  <th>const</th>          <td> -112.2572</td> <td> 1085.705</td> <td>   -0.103</td> <td> 0.918</td> <td>-2301.791</td> <td> 2077.276</td>\n",
              "</tr>\n",
              "<tr>\n",
              "  <th>square</th>         <td>   -6.8511</td> <td>    9.298</td> <td>   -0.737</td> <td> 0.465</td> <td>  -25.602</td> <td>   11.900</td>\n",
              "</tr>\n",
              "<tr>\n",
              "  <th>ds</th>             <td> 1756.1715</td> <td>  308.598</td> <td>    5.691</td> <td> 0.000</td> <td> 1133.824</td> <td> 2378.519</td>\n",
              "</tr>\n",
              "<tr>\n",
              "  <th>People</th>         <td>    0.0121</td> <td>    0.689</td> <td>    0.018</td> <td> 0.986</td> <td>   -1.377</td> <td>    1.401</td>\n",
              "</tr>\n",
              "<tr>\n",
              "  <th>mid_income</th>     <td>   -0.0222</td> <td>    0.072</td> <td>   -0.307</td> <td> 0.760</td> <td>   -0.168</td> <td>    0.124</td>\n",
              "</tr>\n",
              "<tr>\n",
              "  <th>food_market</th>    <td> -364.0311</td> <td>  660.129</td> <td>   -0.551</td> <td> 0.584</td> <td>-1695.308</td> <td>  967.246</td>\n",
              "</tr>\n",
              "<tr>\n",
              "  <th>product_market</th> <td>  451.6519</td> <td>  736.271</td> <td>    0.613</td> <td> 0.543</td> <td>-1033.180</td> <td> 1936.484</td>\n",
              "</tr>\n",
              "<tr>\n",
              "  <th>int_stop</th>       <td> -999.2337</td> <td>  759.197</td> <td>   -1.316</td> <td> 0.195</td> <td>-2530.300</td> <td>  531.832</td>\n",
              "</tr>\n",
              "<tr>\n",
              "  <th>city_stop</th>      <td>  543.2856</td> <td>  411.394</td> <td>    1.321</td> <td> 0.194</td> <td> -286.370</td> <td> 1372.941</td>\n",
              "</tr>\n",
              "<tr>\n",
              "  <th>type0</th>          <td>    7.7813</td> <td>  783.314</td> <td>    0.010</td> <td> 0.992</td> <td>-1571.922</td> <td> 1587.484</td>\n",
              "</tr>\n",
              "<tr>\n",
              "  <th>type1</th>          <td> -113.5785</td> <td>  779.549</td> <td>   -0.146</td> <td> 0.885</td> <td>-1685.690</td> <td> 1458.533</td>\n",
              "</tr>\n",
              "<tr>\n",
              "  <th>type4</th>          <td> 1071.5901</td> <td>  772.309</td> <td>    1.388</td> <td> 0.172</td> <td> -485.919</td> <td> 2629.099</td>\n",
              "</tr>\n",
              "</table>\n",
              "<table class=\"simpletable\">\n",
              "<tr>\n",
              "  <th>Omnibus:</th>       <td> 0.342</td> <th>  Durbin-Watson:     </th> <td>   1.936</td>\n",
              "</tr>\n",
              "<tr>\n",
              "  <th>Prob(Omnibus):</th> <td> 0.843</td> <th>  Jarque-Bera (JB):  </th> <td>   0.179</td>\n",
              "</tr>\n",
              "<tr>\n",
              "  <th>Skew:</th>          <td>-0.139</td> <th>  Prob(JB):          </th> <td>   0.914</td>\n",
              "</tr>\n",
              "<tr>\n",
              "  <th>Kurtosis:</th>      <td> 2.971</td> <th>  Cond. No.          </th> <td>9.62e+04</td>\n",
              "</tr>\n",
              "</table><br/><br/>Warnings:<br/>[1] Standard Errors assume that the covariance matrix of the errors is correctly specified.<br/>[2] The condition number is large, 9.62e+04. This might indicate that there are<br/>strong multicollinearity or other numerical problems."
            ],
            "text/plain": [
              "<class 'statsmodels.iolib.summary.Summary'>\n",
              "\"\"\"\n",
              "                            OLS Regression Results                            \n",
              "==============================================================================\n",
              "Dep. Variable:                receipt   R-squared:                       0.657\n",
              "Model:                            OLS   Adj. R-squared:                  0.569\n",
              "Method:                 Least Squares   F-statistic:                     7.474\n",
              "Date:                Thu, 21 Oct 2021   Prob (F-statistic):           5.68e-07\n",
              "Time:                        17:53:49   Log-Likelihood:                -466.86\n",
              "No. Observations:                  55   AIC:                             957.7\n",
              "Df Residuals:                      43   BIC:                             981.8\n",
              "Df Model:                          11                                         \n",
              "Covariance Type:            nonrobust                                         \n",
              "==================================================================================\n",
              "                     coef    std err          t      P>|t|      [0.025      0.975]\n",
              "----------------------------------------------------------------------------------\n",
              "const           -112.2572   1085.705     -0.103      0.918   -2301.791    2077.276\n",
              "square            -6.8511      9.298     -0.737      0.465     -25.602      11.900\n",
              "ds              1756.1715    308.598      5.691      0.000    1133.824    2378.519\n",
              "People             0.0121      0.689      0.018      0.986      -1.377       1.401\n",
              "mid_income        -0.0222      0.072     -0.307      0.760      -0.168       0.124\n",
              "food_market     -364.0311    660.129     -0.551      0.584   -1695.308     967.246\n",
              "product_market   451.6519    736.271      0.613      0.543   -1033.180    1936.484\n",
              "int_stop        -999.2337    759.197     -1.316      0.195   -2530.300     531.832\n",
              "city_stop        543.2856    411.394      1.321      0.194    -286.370    1372.941\n",
              "type0              7.7813    783.314      0.010      0.992   -1571.922    1587.484\n",
              "type1           -113.5785    779.549     -0.146      0.885   -1685.690    1458.533\n",
              "type4           1071.5901    772.309      1.388      0.172    -485.919    2629.099\n",
              "==============================================================================\n",
              "Omnibus:                        0.342   Durbin-Watson:                   1.936\n",
              "Prob(Omnibus):                  0.843   Jarque-Bera (JB):                0.179\n",
              "Skew:                          -0.139   Prob(JB):                        0.914\n",
              "Kurtosis:                       2.971   Cond. No.                     9.62e+04\n",
              "==============================================================================\n",
              "\n",
              "Warnings:\n",
              "[1] Standard Errors assume that the covariance matrix of the errors is correctly specified.\n",
              "[2] The condition number is large, 9.62e+04. This might indicate that there are\n",
              "strong multicollinearity or other numerical problems.\n",
              "\"\"\""
            ]
          },
          "metadata": {},
          "execution_count": 211
        }
      ]
    },
    {
      "cell_type": "code",
      "metadata": {
        "id": "HY21xvBF0cHX"
      },
      "source": [
        "#Построение многофакторной регресси дало сравнительно неплохой результат со всеми фичами - некая зависимость действительно есть. Тем не менее огромные оценки говорят про наличие мультиколлинеарности в модели. \n",
        "#Судя по p-значениям, для большой модели стоит взять количество сотрудников, последний тип магазина и количество междугородних остановок"
      ],
      "execution_count": 212,
      "outputs": []
    },
    {
      "cell_type": "code",
      "metadata": {
        "id": "TNdH7OHl1ayM"
      },
      "source": [
        "#применяем метод последовательного исключения для нахождения лучших фич\n",
        "\n",
        "from sklearn.feature_selection import RFE\n",
        "\n",
        "names = [\t'square'\t'ds'\t'People'\t'mid_income'\t'food_market'\t'product_market'\t'int_stop'\t'city_stop'\t'type0'\t'type1'\t'type4'\t'receipt']\n",
        "array = df.values\n",
        "X = array[:,0:11]\n",
        "Y = array[:,11]\n",
        "model = LinearRegression()\n",
        "rfe = RFE(model, 1)\n",
        "fit = rfe.fit(X, Y)"
      ],
      "execution_count": 213,
      "outputs": []
    },
    {
      "cell_type": "code",
      "metadata": {
        "colab": {
          "base_uri": "https://localhost:8080/"
        },
        "id": "TDv_OCym2aVh",
        "outputId": "5b15e1ec-131a-4d75-9145-b58973132b2f"
      },
      "source": [
        "#видим, что те же три параметра проходят и тут ('ds','int_stop'\t'type4')\n",
        "fit.n_features_\n",
        "fit.support_\n",
        "fit.ranking_"
      ],
      "execution_count": 214,
      "outputs": [
        {
          "output_type": "execute_result",
          "data": {
            "text/plain": [
              "array([ 9,  1, 10, 11,  4,  5,  3,  8,  6,  7,  2])"
            ]
          },
          "metadata": {},
          "execution_count": 214
        }
      ]
    },
    {
      "cell_type": "code",
      "metadata": {
        "id": "afwMGHYzWbrT"
      },
      "source": [
        "#меняем формат массивов на датасеты\n",
        "\n",
        "X_train = pd.DataFrame(X_train)\n",
        "X_test = pd.DataFrame(X_test)\n",
        "y_test = pd.DataFrame(y_test)\n",
        "y_train = pd.DataFrame(y_train)\n",
        "y_train = np.asarray(y_train).reshape(-1,1)\n",
        "y_test = np.asarray(y_test).reshape(-1,1)"
      ],
      "execution_count": 215,
      "outputs": []
    },
    {
      "cell_type": "code",
      "metadata": {
        "id": "Ev-AHxcrWbrT"
      },
      "source": [
        "# Шкалируем данные \n",
        "from sklearn.preprocessing import StandardScaler\n",
        "sc_X = StandardScaler().fit(X_train)\n",
        "X_train = sc_X.transform(X_train)\n",
        "X_test = sc_X.transform(X_test)\n",
        "sc_y = StandardScaler().fit(y_train)\n",
        "y_train = sc_y.transform(y_train)\n",
        "y_test = sc_y.transform(y_test)"
      ],
      "execution_count": 216,
      "outputs": []
    },
    {
      "cell_type": "code",
      "metadata": {
        "id": "H1HRzy5fWbrU"
      },
      "source": [
        "#устанавливаем нужные библиотеки для НС\n",
        "\n",
        "#!pip install tensorflow\n",
        "#!pip install keras\n",
        "# Importing the Keras libraries and packages\n",
        "import keras\n",
        "from keras.models import Sequential\n",
        "from keras.layers import Dense\n"
      ],
      "execution_count": 217,
      "outputs": []
    },
    {
      "cell_type": "code",
      "metadata": {
        "id": "baqR6bjZWbrU"
      },
      "source": [
        "\n",
        "# Initialising the ANN\n",
        "rnn = Sequential()\n",
        "\n",
        "# Adding the input layer and the first hidden layer\n",
        "rnn.add(Dense(12, activation = 'tanh', input_dim = 11))\n",
        "\n",
        "# Adding the second hidden layer\n",
        "rnn.add(Dense(7, activation = 'tanh'))\n",
        "\n",
        "\n",
        "# Adding the output layer\n",
        "rnn.add(Dense(1, activation = 'linear'))\n",
        "\n",
        "# Compiling the ANN\n",
        "rnn.compile(optimizer='adam', loss='mean_squared_error', metrics = ['accuracy'])"
      ],
      "execution_count": 218,
      "outputs": []
    },
    {
      "cell_type": "code",
      "metadata": {
        "colab": {
          "base_uri": "https://localhost:8080/"
        },
        "id": "YzHuFlZkXZsO",
        "outputId": "2181ce35-403d-445b-dab2-2a8f0f43ca14"
      },
      "source": [
        "# Fitting the ANN to the Training set\n",
        "k = rnn.fit(X_train, y_train, batch_size = 10, validation_data=(X_test, y_test), epochs = 100)"
      ],
      "execution_count": 219,
      "outputs": [
        {
          "output_type": "stream",
          "name": "stdout",
          "text": [
            "Epoch 1/100\n",
            "6/6 [==============================] - 1s 28ms/step - loss: 0.9655 - accuracy: 0.0000e+00 - val_loss: 0.7101 - val_accuracy: 0.0000e+00\n",
            "Epoch 2/100\n",
            "6/6 [==============================] - 0s 6ms/step - loss: 0.9072 - accuracy: 0.0000e+00 - val_loss: 0.6834 - val_accuracy: 0.0000e+00\n",
            "Epoch 3/100\n",
            "6/6 [==============================] - 0s 6ms/step - loss: 0.8582 - accuracy: 0.0000e+00 - val_loss: 0.6555 - val_accuracy: 0.0000e+00\n",
            "Epoch 4/100\n",
            "6/6 [==============================] - 0s 5ms/step - loss: 0.8202 - accuracy: 0.0000e+00 - val_loss: 0.6292 - val_accuracy: 0.0000e+00\n",
            "Epoch 5/100\n",
            "6/6 [==============================] - 0s 6ms/step - loss: 0.7719 - accuracy: 0.0000e+00 - val_loss: 0.6141 - val_accuracy: 0.0000e+00\n",
            "Epoch 6/100\n",
            "6/6 [==============================] - 0s 5ms/step - loss: 0.7399 - accuracy: 0.0000e+00 - val_loss: 0.5937 - val_accuracy: 0.0000e+00\n",
            "Epoch 7/100\n",
            "6/6 [==============================] - 0s 5ms/step - loss: 0.7052 - accuracy: 0.0000e+00 - val_loss: 0.5808 - val_accuracy: 0.0000e+00\n",
            "Epoch 8/100\n",
            "6/6 [==============================] - 0s 7ms/step - loss: 0.6744 - accuracy: 0.0000e+00 - val_loss: 0.5633 - val_accuracy: 0.0000e+00\n",
            "Epoch 9/100\n",
            "6/6 [==============================] - 0s 5ms/step - loss: 0.6451 - accuracy: 0.0000e+00 - val_loss: 0.5512 - val_accuracy: 0.0000e+00\n",
            "Epoch 10/100\n",
            "6/6 [==============================] - 0s 5ms/step - loss: 0.6212 - accuracy: 0.0000e+00 - val_loss: 0.5357 - val_accuracy: 0.0000e+00\n",
            "Epoch 11/100\n",
            "6/6 [==============================] - 0s 6ms/step - loss: 0.5929 - accuracy: 0.0000e+00 - val_loss: 0.5238 - val_accuracy: 0.0000e+00\n",
            "Epoch 12/100\n",
            "6/6 [==============================] - 0s 6ms/step - loss: 0.5719 - accuracy: 0.0000e+00 - val_loss: 0.5102 - val_accuracy: 0.0000e+00\n",
            "Epoch 13/100\n",
            "6/6 [==============================] - 0s 5ms/step - loss: 0.5512 - accuracy: 0.0000e+00 - val_loss: 0.4981 - val_accuracy: 0.0000e+00\n",
            "Epoch 14/100\n",
            "6/6 [==============================] - 0s 6ms/step - loss: 0.5339 - accuracy: 0.0000e+00 - val_loss: 0.4855 - val_accuracy: 0.0000e+00\n",
            "Epoch 15/100\n",
            "6/6 [==============================] - 0s 5ms/step - loss: 0.5171 - accuracy: 0.0000e+00 - val_loss: 0.4768 - val_accuracy: 0.0000e+00\n",
            "Epoch 16/100\n",
            "6/6 [==============================] - 0s 7ms/step - loss: 0.5011 - accuracy: 0.0000e+00 - val_loss: 0.4706 - val_accuracy: 0.0000e+00\n",
            "Epoch 17/100\n",
            "6/6 [==============================] - 0s 5ms/step - loss: 0.4877 - accuracy: 0.0000e+00 - val_loss: 0.4636 - val_accuracy: 0.0000e+00\n",
            "Epoch 18/100\n",
            "6/6 [==============================] - 0s 6ms/step - loss: 0.4762 - accuracy: 0.0000e+00 - val_loss: 0.4547 - val_accuracy: 0.0000e+00\n",
            "Epoch 19/100\n",
            "6/6 [==============================] - 0s 5ms/step - loss: 0.4648 - accuracy: 0.0000e+00 - val_loss: 0.4474 - val_accuracy: 0.0000e+00\n",
            "Epoch 20/100\n",
            "6/6 [==============================] - 0s 6ms/step - loss: 0.4557 - accuracy: 0.0000e+00 - val_loss: 0.4413 - val_accuracy: 0.0000e+00\n",
            "Epoch 21/100\n",
            "6/6 [==============================] - 0s 6ms/step - loss: 0.4452 - accuracy: 0.0000e+00 - val_loss: 0.4319 - val_accuracy: 0.0000e+00\n",
            "Epoch 22/100\n",
            "6/6 [==============================] - 0s 6ms/step - loss: 0.4379 - accuracy: 0.0000e+00 - val_loss: 0.4265 - val_accuracy: 0.0000e+00\n",
            "Epoch 23/100\n",
            "6/6 [==============================] - 0s 6ms/step - loss: 0.4296 - accuracy: 0.0000e+00 - val_loss: 0.4214 - val_accuracy: 0.0000e+00\n",
            "Epoch 24/100\n",
            "6/6 [==============================] - 0s 5ms/step - loss: 0.4238 - accuracy: 0.0000e+00 - val_loss: 0.4147 - val_accuracy: 0.0000e+00\n",
            "Epoch 25/100\n",
            "6/6 [==============================] - 0s 5ms/step - loss: 0.4178 - accuracy: 0.0000e+00 - val_loss: 0.4137 - val_accuracy: 0.0000e+00\n",
            "Epoch 26/100\n",
            "6/6 [==============================] - 0s 6ms/step - loss: 0.4110 - accuracy: 0.0000e+00 - val_loss: 0.4106 - val_accuracy: 0.0000e+00\n",
            "Epoch 27/100\n",
            "6/6 [==============================] - 0s 7ms/step - loss: 0.4069 - accuracy: 0.0000e+00 - val_loss: 0.4081 - val_accuracy: 0.0000e+00\n",
            "Epoch 28/100\n",
            "6/6 [==============================] - 0s 6ms/step - loss: 0.4004 - accuracy: 0.0000e+00 - val_loss: 0.4069 - val_accuracy: 0.0000e+00\n",
            "Epoch 29/100\n",
            "6/6 [==============================] - 0s 6ms/step - loss: 0.3970 - accuracy: 0.0000e+00 - val_loss: 0.4011 - val_accuracy: 0.0000e+00\n",
            "Epoch 30/100\n",
            "6/6 [==============================] - 0s 5ms/step - loss: 0.3908 - accuracy: 0.0000e+00 - val_loss: 0.3973 - val_accuracy: 0.0000e+00\n",
            "Epoch 31/100\n",
            "6/6 [==============================] - 0s 6ms/step - loss: 0.3870 - accuracy: 0.0000e+00 - val_loss: 0.3923 - val_accuracy: 0.0000e+00\n",
            "Epoch 32/100\n",
            "6/6 [==============================] - 0s 5ms/step - loss: 0.3836 - accuracy: 0.0000e+00 - val_loss: 0.3937 - val_accuracy: 0.0000e+00\n",
            "Epoch 33/100\n",
            "6/6 [==============================] - 0s 6ms/step - loss: 0.3787 - accuracy: 0.0000e+00 - val_loss: 0.3885 - val_accuracy: 0.0000e+00\n",
            "Epoch 34/100\n",
            "6/6 [==============================] - 0s 6ms/step - loss: 0.3742 - accuracy: 0.0000e+00 - val_loss: 0.3822 - val_accuracy: 0.0000e+00\n",
            "Epoch 35/100\n",
            "6/6 [==============================] - 0s 6ms/step - loss: 0.3708 - accuracy: 0.0000e+00 - val_loss: 0.3790 - val_accuracy: 0.0000e+00\n",
            "Epoch 36/100\n",
            "6/6 [==============================] - 0s 5ms/step - loss: 0.3673 - accuracy: 0.0000e+00 - val_loss: 0.3722 - val_accuracy: 0.0000e+00\n",
            "Epoch 37/100\n",
            "6/6 [==============================] - 0s 5ms/step - loss: 0.3636 - accuracy: 0.0000e+00 - val_loss: 0.3690 - val_accuracy: 0.0000e+00\n",
            "Epoch 38/100\n",
            "6/6 [==============================] - 0s 5ms/step - loss: 0.3599 - accuracy: 0.0000e+00 - val_loss: 0.3631 - val_accuracy: 0.0000e+00\n",
            "Epoch 39/100\n",
            "6/6 [==============================] - 0s 6ms/step - loss: 0.3567 - accuracy: 0.0000e+00 - val_loss: 0.3575 - val_accuracy: 0.0000e+00\n",
            "Epoch 40/100\n",
            "6/6 [==============================] - 0s 5ms/step - loss: 0.3535 - accuracy: 0.0000e+00 - val_loss: 0.3537 - val_accuracy: 0.0000e+00\n",
            "Epoch 41/100\n",
            "6/6 [==============================] - 0s 6ms/step - loss: 0.3501 - accuracy: 0.0000e+00 - val_loss: 0.3514 - val_accuracy: 0.0000e+00\n",
            "Epoch 42/100\n",
            "6/6 [==============================] - 0s 6ms/step - loss: 0.3470 - accuracy: 0.0000e+00 - val_loss: 0.3483 - val_accuracy: 0.0000e+00\n",
            "Epoch 43/100\n",
            "6/6 [==============================] - 0s 5ms/step - loss: 0.3438 - accuracy: 0.0000e+00 - val_loss: 0.3465 - val_accuracy: 0.0000e+00\n",
            "Epoch 44/100\n",
            "6/6 [==============================] - 0s 7ms/step - loss: 0.3412 - accuracy: 0.0000e+00 - val_loss: 0.3434 - val_accuracy: 0.0000e+00\n",
            "Epoch 45/100\n",
            "6/6 [==============================] - 0s 5ms/step - loss: 0.3379 - accuracy: 0.0000e+00 - val_loss: 0.3427 - val_accuracy: 0.0000e+00\n",
            "Epoch 46/100\n",
            "6/6 [==============================] - 0s 7ms/step - loss: 0.3349 - accuracy: 0.0000e+00 - val_loss: 0.3387 - val_accuracy: 0.0000e+00\n",
            "Epoch 47/100\n",
            "6/6 [==============================] - 0s 6ms/step - loss: 0.3321 - accuracy: 0.0000e+00 - val_loss: 0.3341 - val_accuracy: 0.0000e+00\n",
            "Epoch 48/100\n",
            "6/6 [==============================] - 0s 7ms/step - loss: 0.3293 - accuracy: 0.0000e+00 - val_loss: 0.3279 - val_accuracy: 0.0000e+00\n",
            "Epoch 49/100\n",
            "6/6 [==============================] - 0s 5ms/step - loss: 0.3273 - accuracy: 0.0000e+00 - val_loss: 0.3212 - val_accuracy: 0.0000e+00\n",
            "Epoch 50/100\n",
            "6/6 [==============================] - 0s 6ms/step - loss: 0.3242 - accuracy: 0.0000e+00 - val_loss: 0.3162 - val_accuracy: 0.0000e+00\n",
            "Epoch 51/100\n",
            "6/6 [==============================] - 0s 5ms/step - loss: 0.3209 - accuracy: 0.0000e+00 - val_loss: 0.3152 - val_accuracy: 0.0000e+00\n",
            "Epoch 52/100\n",
            "6/6 [==============================] - 0s 5ms/step - loss: 0.3185 - accuracy: 0.0000e+00 - val_loss: 0.3125 - val_accuracy: 0.0000e+00\n",
            "Epoch 53/100\n",
            "6/6 [==============================] - 0s 5ms/step - loss: 0.3155 - accuracy: 0.0000e+00 - val_loss: 0.3122 - val_accuracy: 0.0000e+00\n",
            "Epoch 54/100\n",
            "6/6 [==============================] - 0s 6ms/step - loss: 0.3132 - accuracy: 0.0000e+00 - val_loss: 0.3074 - val_accuracy: 0.0000e+00\n",
            "Epoch 55/100\n",
            "6/6 [==============================] - 0s 7ms/step - loss: 0.3110 - accuracy: 0.0000e+00 - val_loss: 0.3067 - val_accuracy: 0.0000e+00\n",
            "Epoch 56/100\n",
            "6/6 [==============================] - 0s 5ms/step - loss: 0.3087 - accuracy: 0.0000e+00 - val_loss: 0.3017 - val_accuracy: 0.0000e+00\n",
            "Epoch 57/100\n",
            "6/6 [==============================] - 0s 6ms/step - loss: 0.3062 - accuracy: 0.0000e+00 - val_loss: 0.2985 - val_accuracy: 0.0000e+00\n",
            "Epoch 58/100\n",
            "6/6 [==============================] - 0s 5ms/step - loss: 0.3033 - accuracy: 0.0000e+00 - val_loss: 0.2971 - val_accuracy: 0.0000e+00\n",
            "Epoch 59/100\n",
            "6/6 [==============================] - 0s 6ms/step - loss: 0.3019 - accuracy: 0.0000e+00 - val_loss: 0.2970 - val_accuracy: 0.0000e+00\n",
            "Epoch 60/100\n",
            "6/6 [==============================] - 0s 5ms/step - loss: 0.2991 - accuracy: 0.0000e+00 - val_loss: 0.2970 - val_accuracy: 0.0000e+00\n",
            "Epoch 61/100\n",
            "6/6 [==============================] - 0s 5ms/step - loss: 0.2969 - accuracy: 0.0000e+00 - val_loss: 0.2956 - val_accuracy: 0.0000e+00\n",
            "Epoch 62/100\n",
            "6/6 [==============================] - 0s 6ms/step - loss: 0.2950 - accuracy: 0.0000e+00 - val_loss: 0.2915 - val_accuracy: 0.0000e+00\n",
            "Epoch 63/100\n",
            "6/6 [==============================] - 0s 6ms/step - loss: 0.2922 - accuracy: 0.0000e+00 - val_loss: 0.2893 - val_accuracy: 0.0000e+00\n",
            "Epoch 64/100\n",
            "6/6 [==============================] - 0s 6ms/step - loss: 0.2908 - accuracy: 0.0000e+00 - val_loss: 0.2887 - val_accuracy: 0.0000e+00\n",
            "Epoch 65/100\n",
            "6/6 [==============================] - 0s 7ms/step - loss: 0.2882 - accuracy: 0.0000e+00 - val_loss: 0.2865 - val_accuracy: 0.0000e+00\n",
            "Epoch 66/100\n",
            "6/6 [==============================] - 0s 6ms/step - loss: 0.2865 - accuracy: 0.0000e+00 - val_loss: 0.2844 - val_accuracy: 0.0000e+00\n",
            "Epoch 67/100\n",
            "6/6 [==============================] - 0s 11ms/step - loss: 0.2846 - accuracy: 0.0000e+00 - val_loss: 0.2807 - val_accuracy: 0.0000e+00\n",
            "Epoch 68/100\n",
            "6/6 [==============================] - 0s 5ms/step - loss: 0.2822 - accuracy: 0.0000e+00 - val_loss: 0.2800 - val_accuracy: 0.0000e+00\n",
            "Epoch 69/100\n",
            "6/6 [==============================] - 0s 5ms/step - loss: 0.2804 - accuracy: 0.0000e+00 - val_loss: 0.2766 - val_accuracy: 0.0000e+00\n",
            "Epoch 70/100\n",
            "6/6 [==============================] - 0s 6ms/step - loss: 0.2789 - accuracy: 0.0000e+00 - val_loss: 0.2721 - val_accuracy: 0.0000e+00\n",
            "Epoch 71/100\n",
            "6/6 [==============================] - 0s 5ms/step - loss: 0.2760 - accuracy: 0.0000e+00 - val_loss: 0.2693 - val_accuracy: 0.0000e+00\n",
            "Epoch 72/100\n",
            "6/6 [==============================] - 0s 7ms/step - loss: 0.2764 - accuracy: 0.0000e+00 - val_loss: 0.2702 - val_accuracy: 0.0000e+00\n",
            "Epoch 73/100\n",
            "6/6 [==============================] - 0s 8ms/step - loss: 0.2717 - accuracy: 0.0000e+00 - val_loss: 0.2655 - val_accuracy: 0.0000e+00\n",
            "Epoch 74/100\n",
            "6/6 [==============================] - 0s 6ms/step - loss: 0.2700 - accuracy: 0.0000e+00 - val_loss: 0.2596 - val_accuracy: 0.0000e+00\n",
            "Epoch 75/100\n",
            "6/6 [==============================] - 0s 6ms/step - loss: 0.2680 - accuracy: 0.0000e+00 - val_loss: 0.2588 - val_accuracy: 0.0000e+00\n",
            "Epoch 76/100\n",
            "6/6 [==============================] - 0s 6ms/step - loss: 0.2657 - accuracy: 0.0000e+00 - val_loss: 0.2581 - val_accuracy: 0.0000e+00\n",
            "Epoch 77/100\n",
            "6/6 [==============================] - 0s 5ms/step - loss: 0.2636 - accuracy: 0.0000e+00 - val_loss: 0.2552 - val_accuracy: 0.0000e+00\n",
            "Epoch 78/100\n",
            "6/6 [==============================] - 0s 6ms/step - loss: 0.2622 - accuracy: 0.0000e+00 - val_loss: 0.2555 - val_accuracy: 0.0000e+00\n",
            "Epoch 79/100\n",
            "6/6 [==============================] - 0s 7ms/step - loss: 0.2604 - accuracy: 0.0000e+00 - val_loss: 0.2546 - val_accuracy: 0.0000e+00\n",
            "Epoch 80/100\n",
            "6/6 [==============================] - 0s 9ms/step - loss: 0.2584 - accuracy: 0.0000e+00 - val_loss: 0.2541 - val_accuracy: 0.0000e+00\n",
            "Epoch 81/100\n",
            "6/6 [==============================] - 0s 5ms/step - loss: 0.2564 - accuracy: 0.0000e+00 - val_loss: 0.2584 - val_accuracy: 0.0000e+00\n",
            "Epoch 82/100\n",
            "6/6 [==============================] - 0s 5ms/step - loss: 0.2546 - accuracy: 0.0000e+00 - val_loss: 0.2590 - val_accuracy: 0.0000e+00\n",
            "Epoch 83/100\n",
            "6/6 [==============================] - 0s 5ms/step - loss: 0.2535 - accuracy: 0.0000e+00 - val_loss: 0.2625 - val_accuracy: 0.0000e+00\n",
            "Epoch 84/100\n",
            "6/6 [==============================] - 0s 6ms/step - loss: 0.2511 - accuracy: 0.0000e+00 - val_loss: 0.2615 - val_accuracy: 0.0000e+00\n",
            "Epoch 85/100\n",
            "6/6 [==============================] - 0s 6ms/step - loss: 0.2491 - accuracy: 0.0000e+00 - val_loss: 0.2612 - val_accuracy: 0.0000e+00\n",
            "Epoch 86/100\n",
            "6/6 [==============================] - 0s 6ms/step - loss: 0.2478 - accuracy: 0.0000e+00 - val_loss: 0.2654 - val_accuracy: 0.0000e+00\n",
            "Epoch 87/100\n",
            "6/6 [==============================] - 0s 7ms/step - loss: 0.2458 - accuracy: 0.0000e+00 - val_loss: 0.2629 - val_accuracy: 0.0000e+00\n",
            "Epoch 88/100\n",
            "6/6 [==============================] - 0s 6ms/step - loss: 0.2441 - accuracy: 0.0000e+00 - val_loss: 0.2566 - val_accuracy: 0.0000e+00\n",
            "Epoch 89/100\n",
            "6/6 [==============================] - 0s 6ms/step - loss: 0.2415 - accuracy: 0.0000e+00 - val_loss: 0.2583 - val_accuracy: 0.0000e+00\n",
            "Epoch 90/100\n",
            "6/6 [==============================] - 0s 5ms/step - loss: 0.2402 - accuracy: 0.0000e+00 - val_loss: 0.2568 - val_accuracy: 0.0000e+00\n",
            "Epoch 91/100\n",
            "6/6 [==============================] - 0s 6ms/step - loss: 0.2386 - accuracy: 0.0000e+00 - val_loss: 0.2544 - val_accuracy: 0.0000e+00\n",
            "Epoch 92/100\n",
            "6/6 [==============================] - 0s 6ms/step - loss: 0.2364 - accuracy: 0.0000e+00 - val_loss: 0.2520 - val_accuracy: 0.0000e+00\n",
            "Epoch 93/100\n",
            "6/6 [==============================] - 0s 6ms/step - loss: 0.2344 - accuracy: 0.0000e+00 - val_loss: 0.2523 - val_accuracy: 0.0000e+00\n",
            "Epoch 94/100\n",
            "6/6 [==============================] - 0s 5ms/step - loss: 0.2330 - accuracy: 0.0000e+00 - val_loss: 0.2557 - val_accuracy: 0.0000e+00\n",
            "Epoch 95/100\n",
            "6/6 [==============================] - 0s 5ms/step - loss: 0.2319 - accuracy: 0.0000e+00 - val_loss: 0.2539 - val_accuracy: 0.0000e+00\n",
            "Epoch 96/100\n",
            "6/6 [==============================] - 0s 7ms/step - loss: 0.2302 - accuracy: 0.0000e+00 - val_loss: 0.2471 - val_accuracy: 0.0000e+00\n",
            "Epoch 97/100\n",
            "6/6 [==============================] - 0s 5ms/step - loss: 0.2282 - accuracy: 0.0000e+00 - val_loss: 0.2469 - val_accuracy: 0.0000e+00\n",
            "Epoch 98/100\n",
            "6/6 [==============================] - 0s 6ms/step - loss: 0.2270 - accuracy: 0.0000e+00 - val_loss: 0.2440 - val_accuracy: 0.0000e+00\n",
            "Epoch 99/100\n",
            "6/6 [==============================] - 0s 6ms/step - loss: 0.2256 - accuracy: 0.0000e+00 - val_loss: 0.2434 - val_accuracy: 0.0000e+00\n",
            "Epoch 100/100\n",
            "6/6 [==============================] - 0s 6ms/step - loss: 0.2238 - accuracy: 0.0000e+00 - val_loss: 0.2504 - val_accuracy: 0.0000e+00\n"
          ]
        }
      ]
    },
    {
      "cell_type": "code",
      "metadata": {
        "id": "-S3lGFehXcr7"
      },
      "source": [
        "# Predicting the Test set results\n",
        "y_pred = rnn.predict(X_test)"
      ],
      "execution_count": 220,
      "outputs": []
    },
    {
      "cell_type": "code",
      "metadata": {
        "colab": {
          "base_uri": "https://localhost:8080/",
          "height": 295
        },
        "id": "zpUK-QSG41jL",
        "outputId": "bf56a856-72ed-4d19-b895-3b6ef91ecf2a"
      },
      "source": [
        "# Plotting loss & accuracy\n",
        "plt.figure()\n",
        "plt.plot(k.history['loss'])\n",
        "plt.plot(k.history['val_loss'])\n",
        "plt.title('model loss')\n",
        "plt.ylabel('loss')\n",
        "plt.xlabel('epoch')\n",
        "plt.legend(['train', 'test'], loc='best')\n",
        "plt.show()"
      ],
      "execution_count": 221,
      "outputs": [
        {
          "output_type": "display_data",
          "data": {
            "image/png": "[encoded data removed]",
            "text/plain": [
              "<Figure size 432x288 with 1 Axes>"
            ]
          },
          "metadata": {
            "needs_background": "light"
          }
        }
      ]
    },
    {
      "cell_type": "code",
      "metadata": {
        "id": "amDrU1TQ6fmS"
      },
      "source": [
        "#Стоит отметить, что на примерно 40-80 эпохах у нас практически нет никакого разрыва! Попробуем построить, возьмем 80 эпох."
      ],
      "execution_count": 222,
      "outputs": []
    },
    {
      "cell_type": "code",
      "metadata": {
        "id": "b9nA73WueZfI"
      },
      "source": [
        "# Inversing scaling\n",
        "from sklearn.preprocessing import StandardScaler\n",
        "y_hat = sc_y.inverse_transform(y_pred)\n",
        "y_test = sc_y.inverse_transform(y_test)\n",
        "X_test = sc_X.inverse_transform(X_test)"
      ],
      "execution_count": 223,
      "outputs": []
    },
    {
      "cell_type": "code",
      "metadata": {
        "id": "7eCAA13web3A",
        "colab": {
          "base_uri": "https://localhost:8080/"
        },
        "outputId": "74485ae2-45f0-474f-8535-35e56b5731f5"
      },
      "source": [
        "# Mean squared error\n",
        "from sklearn.metrics import mean_squared_error\n",
        "mean_squared_error(sc_y.inverse_transform(y_train), sc_y.inverse_transform(rnn.predict(X_train)), squared=False).round(3), mean_squared_error(y_test, y_hat, squared=False).round(3)"
      ],
      "execution_count": 224,
      "outputs": [
        {
          "output_type": "execute_result",
          "data": {
            "text/plain": [
              "(944.64, 1003.644)"
            ]
          },
          "metadata": {},
          "execution_count": 224
        }
      ]
    },
    {
      "cell_type": "code",
      "metadata": {
        "id": "nL0OGGVL4R50"
      },
      "source": [
        ""
      ],
      "execution_count": 224,
      "outputs": []
    },
    {
      "cell_type": "code",
      "metadata": {
        "id": "dYatQ78gedsu",
        "colab": {
          "base_uri": "https://localhost:8080/",
          "height": 419
        },
        "outputId": "d569e439-225f-4c34-85dc-66476ba13fd6"
      },
      "source": [
        "#testing the best features\n",
        "\n",
        "df = df.drop(columns = ['square'], );\n",
        "df = df.drop(columns = ['People'], );\n",
        "df = df.drop(columns = ['mid_income'], );\n",
        "df = df.drop(columns = ['food_market'], );\n",
        "df = df.drop(columns = ['product_market'], );\n",
        "df = df.drop(columns = ['city_stop'], );\n",
        "df = df.drop(columns = ['type0'], );\n",
        "df = df.drop(columns = ['type1'], );\n",
        "df"
      ],
      "execution_count": 225,
      "outputs": [
        {
          "output_type": "execute_result",
          "data": {
            "text/html": [
              "<div>\n",
              "<style scoped>\n",
              "    .dataframe tbody tr th:only-of-type {\n",
              "        vertical-align: middle;\n",
              "    }\n",
              "\n",
              "    .dataframe tbody tr th {\n",
              "        vertical-align: top;\n",
              "    }\n",
              "\n",
              "    .dataframe thead th {\n",
              "        text-align: right;\n",
              "    }\n",
              "</style>\n",
              "<table border=\"1\" class=\"dataframe\">\n",
              "  <thead>\n",
              "    <tr style=\"text-align: right;\">\n",
              "      <th></th>\n",
              "      <th>ds</th>\n",
              "      <th>int_stop</th>\n",
              "      <th>type4</th>\n",
              "      <th>receipt</th>\n",
              "    </tr>\n",
              "  </thead>\n",
              "  <tbody>\n",
              "    <tr>\n",
              "      <th>0</th>\n",
              "      <td>1.0</td>\n",
              "      <td>0.0</td>\n",
              "      <td>0.0</td>\n",
              "      <td>571.0</td>\n",
              "    </tr>\n",
              "    <tr>\n",
              "      <th>1</th>\n",
              "      <td>1.0</td>\n",
              "      <td>1.0</td>\n",
              "      <td>0.0</td>\n",
              "      <td>1197.0</td>\n",
              "    </tr>\n",
              "    <tr>\n",
              "      <th>2</th>\n",
              "      <td>1.0</td>\n",
              "      <td>1.0</td>\n",
              "      <td>0.0</td>\n",
              "      <td>402.0</td>\n",
              "    </tr>\n",
              "    <tr>\n",
              "      <th>3</th>\n",
              "      <td>1.0</td>\n",
              "      <td>1.0</td>\n",
              "      <td>1.0</td>\n",
              "      <td>1036.0</td>\n",
              "    </tr>\n",
              "    <tr>\n",
              "      <th>4</th>\n",
              "      <td>1.0</td>\n",
              "      <td>0.0</td>\n",
              "      <td>0.0</td>\n",
              "      <td>513.0</td>\n",
              "    </tr>\n",
              "    <tr>\n",
              "      <th>...</th>\n",
              "      <td>...</td>\n",
              "      <td>...</td>\n",
              "      <td>...</td>\n",
              "      <td>...</td>\n",
              "    </tr>\n",
              "    <tr>\n",
              "      <th>64</th>\n",
              "      <td>3.0</td>\n",
              "      <td>0.0</td>\n",
              "      <td>1.0</td>\n",
              "      <td>6669.0</td>\n",
              "    </tr>\n",
              "    <tr>\n",
              "      <th>65</th>\n",
              "      <td>2.0</td>\n",
              "      <td>0.0</td>\n",
              "      <td>0.0</td>\n",
              "      <td>2877.0</td>\n",
              "    </tr>\n",
              "    <tr>\n",
              "      <th>66</th>\n",
              "      <td>1.0</td>\n",
              "      <td>0.0</td>\n",
              "      <td>0.0</td>\n",
              "      <td>2146.0</td>\n",
              "    </tr>\n",
              "    <tr>\n",
              "      <th>67</th>\n",
              "      <td>2.0</td>\n",
              "      <td>0.0</td>\n",
              "      <td>0.0</td>\n",
              "      <td>413.0</td>\n",
              "    </tr>\n",
              "    <tr>\n",
              "      <th>68</th>\n",
              "      <td>2.0</td>\n",
              "      <td>0.0</td>\n",
              "      <td>0.0</td>\n",
              "      <td>3156.0</td>\n",
              "    </tr>\n",
              "  </tbody>\n",
              "</table>\n",
              "<p>69 rows × 4 columns</p>\n",
              "</div>"
            ],
            "text/plain": [
              "     ds  int_stop  type4  receipt\n",
              "0   1.0       0.0    0.0    571.0\n",
              "1   1.0       1.0    0.0   1197.0\n",
              "2   1.0       1.0    0.0    402.0\n",
              "3   1.0       1.0    1.0   1036.0\n",
              "4   1.0       0.0    0.0    513.0\n",
              "..  ...       ...    ...      ...\n",
              "64  3.0       0.0    1.0   6669.0\n",
              "65  2.0       0.0    0.0   2877.0\n",
              "66  1.0       0.0    0.0   2146.0\n",
              "67  2.0       0.0    0.0    413.0\n",
              "68  2.0       0.0    0.0   3156.0\n",
              "\n",
              "[69 rows x 4 columns]"
            ]
          },
          "metadata": {},
          "execution_count": 225
        }
      ]
    },
    {
      "cell_type": "code",
      "metadata": {
        "id": "uCbmmlVGqxOS"
      },
      "source": [
        "# Initialising the ANN\n",
        "rnn = Sequential()\n",
        "\n",
        "# Adding the input layer and the first hidden layer\n",
        "rnn.add(Dense(12, activation = 'tanh', input_dim = 11))\n",
        "\n",
        "# Adding the second hidden layer\n",
        "rnn.add(Dense(7, activation = 'tanh'))\n",
        "\n",
        "\n",
        "# Adding the output layer\n",
        "rnn.add(Dense(1, activation = 'linear'))\n",
        "\n",
        "# Compiling the ANN\n",
        "rnn.compile(optimizer='adam', loss='mean_squared_error', metrics = ['accuracy'])"
      ],
      "execution_count": 232,
      "outputs": []
    },
    {
      "cell_type": "code",
      "metadata": {
        "id": "S46rejQUrrJp",
        "colab": {
          "base_uri": "https://localhost:8080/"
        },
        "outputId": "6851b364-d22b-46c2-a94a-4ab8e72d5a5a"
      },
      "source": [
        "# Fitting the ANN to the Training set\n",
        "k = rnn.fit(X_train, y_train, batch_size = 10, validation_data=(X_test, y_test), epochs = 80)"
      ],
      "execution_count": 233,
      "outputs": [
        {
          "output_type": "stream",
          "name": "stdout",
          "text": [
            "Epoch 1/80\n",
            "6/6 [==============================] - 1s 28ms/step - loss: 1.7183 - accuracy: 0.0000e+00 - val_loss: 32705098022912.0000 - val_accuracy: 0.0000e+00\n",
            "Epoch 2/80\n",
            "6/6 [==============================] - 0s 5ms/step - loss: 1.6213 - accuracy: 0.0000e+00 - val_loss: 32705098022912.0000 - val_accuracy: 0.0000e+00\n",
            "Epoch 3/80\n",
            "6/6 [==============================] - 0s 6ms/step - loss: 1.5298 - accuracy: 0.0000e+00 - val_loss: 32705098022912.0000 - val_accuracy: 0.0000e+00\n",
            "Epoch 4/80\n",
            "6/6 [==============================] - 0s 5ms/step - loss: 1.4526 - accuracy: 0.0000e+00 - val_loss: 32705098022912.0000 - val_accuracy: 0.0000e+00\n",
            "Epoch 5/80\n",
            "6/6 [==============================] - 0s 5ms/step - loss: 1.3819 - accuracy: 0.0000e+00 - val_loss: 32705095925760.0000 - val_accuracy: 0.0000e+00\n",
            "Epoch 6/80\n",
            "6/6 [==============================] - 0s 5ms/step - loss: 1.3052 - accuracy: 0.0000e+00 - val_loss: 32705095925760.0000 - val_accuracy: 0.0000e+00\n",
            "Epoch 7/80\n",
            "6/6 [==============================] - 0s 6ms/step - loss: 1.2498 - accuracy: 0.0000e+00 - val_loss: 32705095925760.0000 - val_accuracy: 0.0000e+00\n",
            "Epoch 8/80\n",
            "6/6 [==============================] - 0s 5ms/step - loss: 1.1932 - accuracy: 0.0000e+00 - val_loss: 32705095925760.0000 - val_accuracy: 0.0000e+00\n",
            "Epoch 9/80\n",
            "6/6 [==============================] - 0s 6ms/step - loss: 1.1397 - accuracy: 0.0000e+00 - val_loss: 32705095925760.0000 - val_accuracy: 0.0000e+00\n",
            "Epoch 10/80\n",
            "6/6 [==============================] - 0s 5ms/step - loss: 1.0899 - accuracy: 0.0000e+00 - val_loss: 32705095925760.0000 - val_accuracy: 0.0000e+00\n",
            "Epoch 11/80\n",
            "6/6 [==============================] - 0s 5ms/step - loss: 1.0482 - accuracy: 0.0000e+00 - val_loss: 32705095925760.0000 - val_accuracy: 0.0000e+00\n",
            "Epoch 12/80\n",
            "6/6 [==============================] - 0s 6ms/step - loss: 1.0018 - accuracy: 0.0000e+00 - val_loss: 32705095925760.0000 - val_accuracy: 0.0000e+00\n",
            "Epoch 13/80\n",
            "6/6 [==============================] - 0s 5ms/step - loss: 0.9645 - accuracy: 0.0000e+00 - val_loss: 32705095925760.0000 - val_accuracy: 0.0000e+00\n",
            "Epoch 14/80\n",
            "6/6 [==============================] - 0s 5ms/step - loss: 0.9285 - accuracy: 0.0000e+00 - val_loss: 32705095925760.0000 - val_accuracy: 0.0000e+00\n",
            "Epoch 15/80\n",
            "6/6 [==============================] - 0s 5ms/step - loss: 0.8907 - accuracy: 0.0000e+00 - val_loss: 32705095925760.0000 - val_accuracy: 0.0000e+00\n",
            "Epoch 16/80\n",
            "6/6 [==============================] - 0s 6ms/step - loss: 0.8591 - accuracy: 0.0000e+00 - val_loss: 32705095925760.0000 - val_accuracy: 0.0000e+00\n",
            "Epoch 17/80\n",
            "6/6 [==============================] - 0s 5ms/step - loss: 0.8246 - accuracy: 0.0000e+00 - val_loss: 32705095925760.0000 - val_accuracy: 0.0000e+00\n",
            "Epoch 18/80\n",
            "6/6 [==============================] - 0s 5ms/step - loss: 0.7967 - accuracy: 0.0000e+00 - val_loss: 32705095925760.0000 - val_accuracy: 0.0000e+00\n",
            "Epoch 19/80\n",
            "6/6 [==============================] - 0s 5ms/step - loss: 0.7684 - accuracy: 0.0000e+00 - val_loss: 32705095925760.0000 - val_accuracy: 0.0000e+00\n",
            "Epoch 20/80\n",
            "6/6 [==============================] - 0s 5ms/step - loss: 0.7397 - accuracy: 0.0000e+00 - val_loss: 32705095925760.0000 - val_accuracy: 0.0000e+00\n",
            "Epoch 21/80\n",
            "6/6 [==============================] - 0s 5ms/step - loss: 0.7156 - accuracy: 0.0000e+00 - val_loss: 32705095925760.0000 - val_accuracy: 0.0000e+00\n",
            "Epoch 22/80\n",
            "6/6 [==============================] - 0s 6ms/step - loss: 0.6919 - accuracy: 0.0000e+00 - val_loss: 32705095925760.0000 - val_accuracy: 0.0000e+00\n",
            "Epoch 23/80\n",
            "6/6 [==============================] - 0s 5ms/step - loss: 0.6723 - accuracy: 0.0000e+00 - val_loss: 32705095925760.0000 - val_accuracy: 0.0000e+00\n",
            "Epoch 24/80\n",
            "6/6 [==============================] - 0s 5ms/step - loss: 0.6502 - accuracy: 0.0000e+00 - val_loss: 32705095925760.0000 - val_accuracy: 0.0000e+00\n",
            "Epoch 25/80\n",
            "6/6 [==============================] - 0s 6ms/step - loss: 0.6297 - accuracy: 0.0000e+00 - val_loss: 32705095925760.0000 - val_accuracy: 0.0000e+00\n",
            "Epoch 26/80\n",
            "6/6 [==============================] - 0s 6ms/step - loss: 0.6146 - accuracy: 0.0000e+00 - val_loss: 32705095925760.0000 - val_accuracy: 0.0000e+00\n",
            "Epoch 27/80\n",
            "6/6 [==============================] - 0s 6ms/step - loss: 0.5959 - accuracy: 0.0000e+00 - val_loss: 32705095925760.0000 - val_accuracy: 0.0000e+00\n",
            "Epoch 28/80\n",
            "6/6 [==============================] - 0s 5ms/step - loss: 0.5828 - accuracy: 0.0000e+00 - val_loss: 32705095925760.0000 - val_accuracy: 0.0000e+00\n",
            "Epoch 29/80\n",
            "6/6 [==============================] - 0s 5ms/step - loss: 0.5659 - accuracy: 0.0000e+00 - val_loss: 32705095925760.0000 - val_accuracy: 0.0000e+00\n",
            "Epoch 30/80\n",
            "6/6 [==============================] - 0s 5ms/step - loss: 0.5555 - accuracy: 0.0000e+00 - val_loss: 32705095925760.0000 - val_accuracy: 0.0000e+00\n",
            "Epoch 31/80\n",
            "6/6 [==============================] - 0s 5ms/step - loss: 0.5421 - accuracy: 0.0000e+00 - val_loss: 32705095925760.0000 - val_accuracy: 0.0000e+00\n",
            "Epoch 32/80\n",
            "6/6 [==============================] - 0s 5ms/step - loss: 0.5297 - accuracy: 0.0000e+00 - val_loss: 32705095925760.0000 - val_accuracy: 0.0000e+00\n",
            "Epoch 33/80\n",
            "6/6 [==============================] - 0s 6ms/step - loss: 0.5192 - accuracy: 0.0000e+00 - val_loss: 32705095925760.0000 - val_accuracy: 0.0000e+00\n",
            "Epoch 34/80\n",
            "6/6 [==============================] - 0s 5ms/step - loss: 0.5085 - accuracy: 0.0000e+00 - val_loss: 32705095925760.0000 - val_accuracy: 0.0000e+00\n",
            "Epoch 35/80\n",
            "6/6 [==============================] - 0s 10ms/step - loss: 0.5000 - accuracy: 0.0000e+00 - val_loss: 32705095925760.0000 - val_accuracy: 0.0000e+00\n",
            "Epoch 36/80\n",
            "6/6 [==============================] - 0s 5ms/step - loss: 0.4917 - accuracy: 0.0000e+00 - val_loss: 32705095925760.0000 - val_accuracy: 0.0000e+00\n",
            "Epoch 37/80\n",
            "6/6 [==============================] - 0s 5ms/step - loss: 0.4811 - accuracy: 0.0000e+00 - val_loss: 32705095925760.0000 - val_accuracy: 0.0000e+00\n",
            "Epoch 38/80\n",
            "6/6 [==============================] - 0s 5ms/step - loss: 0.4747 - accuracy: 0.0000e+00 - val_loss: 32705095925760.0000 - val_accuracy: 0.0000e+00\n",
            "Epoch 39/80\n",
            "6/6 [==============================] - 0s 5ms/step - loss: 0.4663 - accuracy: 0.0000e+00 - val_loss: 32705095925760.0000 - val_accuracy: 0.0000e+00\n",
            "Epoch 40/80\n",
            "6/6 [==============================] - 0s 6ms/step - loss: 0.4588 - accuracy: 0.0000e+00 - val_loss: 32705095925760.0000 - val_accuracy: 0.0000e+00\n",
            "Epoch 41/80\n",
            "6/6 [==============================] - 0s 5ms/step - loss: 0.4532 - accuracy: 0.0000e+00 - val_loss: 32705095925760.0000 - val_accuracy: 0.0000e+00\n",
            "Epoch 42/80\n",
            "6/6 [==============================] - 0s 5ms/step - loss: 0.4466 - accuracy: 0.0000e+00 - val_loss: 32705095925760.0000 - val_accuracy: 0.0000e+00\n",
            "Epoch 43/80\n",
            "6/6 [==============================] - 0s 7ms/step - loss: 0.4402 - accuracy: 0.0000e+00 - val_loss: 32705095925760.0000 - val_accuracy: 0.0000e+00\n",
            "Epoch 44/80\n",
            "6/6 [==============================] - 0s 5ms/step - loss: 0.4340 - accuracy: 0.0000e+00 - val_loss: 32705095925760.0000 - val_accuracy: 0.0000e+00\n",
            "Epoch 45/80\n",
            "6/6 [==============================] - 0s 5ms/step - loss: 0.4271 - accuracy: 0.0000e+00 - val_loss: 32705095925760.0000 - val_accuracy: 0.0000e+00\n",
            "Epoch 46/80\n",
            "6/6 [==============================] - 0s 5ms/step - loss: 0.4206 - accuracy: 0.0000e+00 - val_loss: 32705095925760.0000 - val_accuracy: 0.0000e+00\n",
            "Epoch 47/80\n",
            "6/6 [==============================] - 0s 6ms/step - loss: 0.4137 - accuracy: 0.0000e+00 - val_loss: 32705095925760.0000 - val_accuracy: 0.0000e+00\n",
            "Epoch 48/80\n",
            "6/6 [==============================] - 0s 5ms/step - loss: 0.4077 - accuracy: 0.0000e+00 - val_loss: 32705095925760.0000 - val_accuracy: 0.0000e+00\n",
            "Epoch 49/80\n",
            "6/6 [==============================] - 0s 6ms/step - loss: 0.4026 - accuracy: 0.0000e+00 - val_loss: 32705095925760.0000 - val_accuracy: 0.0000e+00\n",
            "Epoch 50/80\n",
            "6/6 [==============================] - 0s 5ms/step - loss: 0.3972 - accuracy: 0.0000e+00 - val_loss: 32705095925760.0000 - val_accuracy: 0.0000e+00\n",
            "Epoch 51/80\n",
            "6/6 [==============================] - 0s 6ms/step - loss: 0.3921 - accuracy: 0.0000e+00 - val_loss: 32705095925760.0000 - val_accuracy: 0.0000e+00\n",
            "Epoch 52/80\n",
            "6/6 [==============================] - 0s 5ms/step - loss: 0.3867 - accuracy: 0.0000e+00 - val_loss: 32705095925760.0000 - val_accuracy: 0.0000e+00\n",
            "Epoch 53/80\n",
            "6/6 [==============================] - 0s 6ms/step - loss: 0.3826 - accuracy: 0.0000e+00 - val_loss: 32705095925760.0000 - val_accuracy: 0.0000e+00\n",
            "Epoch 54/80\n",
            "6/6 [==============================] - 0s 5ms/step - loss: 0.3785 - accuracy: 0.0000e+00 - val_loss: 32705095925760.0000 - val_accuracy: 0.0000e+00\n",
            "Epoch 55/80\n",
            "6/6 [==============================] - 0s 5ms/step - loss: 0.3735 - accuracy: 0.0000e+00 - val_loss: 32705095925760.0000 - val_accuracy: 0.0000e+00\n",
            "Epoch 56/80\n",
            "6/6 [==============================] - 0s 5ms/step - loss: 0.3684 - accuracy: 0.0000e+00 - val_loss: 32705095925760.0000 - val_accuracy: 0.0000e+00\n",
            "Epoch 57/80\n",
            "6/6 [==============================] - 0s 5ms/step - loss: 0.3637 - accuracy: 0.0000e+00 - val_loss: 32705095925760.0000 - val_accuracy: 0.0000e+00\n",
            "Epoch 58/80\n",
            "6/6 [==============================] - 0s 5ms/step - loss: 0.3596 - accuracy: 0.0000e+00 - val_loss: 32705095925760.0000 - val_accuracy: 0.0000e+00\n",
            "Epoch 59/80\n",
            "6/6 [==============================] - 0s 5ms/step - loss: 0.3556 - accuracy: 0.0000e+00 - val_loss: 32705095925760.0000 - val_accuracy: 0.0000e+00\n",
            "Epoch 60/80\n",
            "6/6 [==============================] - 0s 7ms/step - loss: 0.3519 - accuracy: 0.0000e+00 - val_loss: 32705095925760.0000 - val_accuracy: 0.0000e+00\n",
            "Epoch 61/80\n",
            "6/6 [==============================] - 0s 6ms/step - loss: 0.3484 - accuracy: 0.0000e+00 - val_loss: 32705095925760.0000 - val_accuracy: 0.0000e+00\n",
            "Epoch 62/80\n",
            "6/6 [==============================] - 0s 5ms/step - loss: 0.3438 - accuracy: 0.0000e+00 - val_loss: 32705095925760.0000 - val_accuracy: 0.0000e+00\n",
            "Epoch 63/80\n",
            "6/6 [==============================] - 0s 6ms/step - loss: 0.3392 - accuracy: 0.0000e+00 - val_loss: 32705095925760.0000 - val_accuracy: 0.0000e+00\n",
            "Epoch 64/80\n",
            "6/6 [==============================] - 0s 5ms/step - loss: 0.3356 - accuracy: 0.0000e+00 - val_loss: 32705095925760.0000 - val_accuracy: 0.0000e+00\n",
            "Epoch 65/80\n",
            "6/6 [==============================] - 0s 5ms/step - loss: 0.3326 - accuracy: 0.0000e+00 - val_loss: 32705095925760.0000 - val_accuracy: 0.0000e+00\n",
            "Epoch 66/80\n",
            "6/6 [==============================] - 0s 5ms/step - loss: 0.3287 - accuracy: 0.0000e+00 - val_loss: 32705095925760.0000 - val_accuracy: 0.0000e+00\n",
            "Epoch 67/80\n",
            "6/6 [==============================] - 0s 6ms/step - loss: 0.3248 - accuracy: 0.0000e+00 - val_loss: 32705095925760.0000 - val_accuracy: 0.0000e+00\n",
            "Epoch 68/80\n",
            "6/6 [==============================] - 0s 7ms/step - loss: 0.3219 - accuracy: 0.0000e+00 - val_loss: 32705095925760.0000 - val_accuracy: 0.0000e+00\n",
            "Epoch 69/80\n",
            "6/6 [==============================] - 0s 6ms/step - loss: 0.3178 - accuracy: 0.0000e+00 - val_loss: 32705095925760.0000 - val_accuracy: 0.0000e+00\n",
            "Epoch 70/80\n",
            "6/6 [==============================] - 0s 6ms/step - loss: 0.3152 - accuracy: 0.0000e+00 - val_loss: 32705095925760.0000 - val_accuracy: 0.0000e+00\n",
            "Epoch 71/80\n",
            "6/6 [==============================] - 0s 5ms/step - loss: 0.3119 - accuracy: 0.0000e+00 - val_loss: 32705095925760.0000 - val_accuracy: 0.0000e+00\n",
            "Epoch 72/80\n",
            "6/6 [==============================] - 0s 5ms/step - loss: 0.3090 - accuracy: 0.0000e+00 - val_loss: 32705095925760.0000 - val_accuracy: 0.0000e+00\n",
            "Epoch 73/80\n",
            "6/6 [==============================] - 0s 7ms/step - loss: 0.3060 - accuracy: 0.0000e+00 - val_loss: 32705095925760.0000 - val_accuracy: 0.0000e+00\n",
            "Epoch 74/80\n",
            "6/6 [==============================] - 0s 6ms/step - loss: 0.3035 - accuracy: 0.0000e+00 - val_loss: 32705095925760.0000 - val_accuracy: 0.0000e+00\n",
            "Epoch 75/80\n",
            "6/6 [==============================] - 0s 6ms/step - loss: 0.3005 - accuracy: 0.0000e+00 - val_loss: 32705095925760.0000 - val_accuracy: 0.0000e+00\n",
            "Epoch 76/80\n",
            "6/6 [==============================] - 0s 7ms/step - loss: 0.2982 - accuracy: 0.0000e+00 - val_loss: 32705095925760.0000 - val_accuracy: 0.0000e+00\n",
            "Epoch 77/80\n",
            "6/6 [==============================] - 0s 6ms/step - loss: 0.2955 - accuracy: 0.0000e+00 - val_loss: 32705095925760.0000 - val_accuracy: 0.0000e+00\n",
            "Epoch 78/80\n",
            "6/6 [==============================] - 0s 6ms/step - loss: 0.2932 - accuracy: 0.0000e+00 - val_loss: 32705095925760.0000 - val_accuracy: 0.0000e+00\n",
            "Epoch 79/80\n",
            "6/6 [==============================] - 0s 5ms/step - loss: 0.2910 - accuracy: 0.0000e+00 - val_loss: 32705095925760.0000 - val_accuracy: 0.0000e+00\n",
            "Epoch 80/80\n",
            "6/6 [==============================] - 0s 5ms/step - loss: 0.2877 - accuracy: 0.0000e+00 - val_loss: 32705095925760.0000 - val_accuracy: 0.0000e+00\n"
          ]
        }
      ]
    },
    {
      "cell_type": "code",
      "metadata": {
        "id": "bA7Xviwjrt85",
        "colab": {
          "base_uri": "https://localhost:8080/"
        },
        "outputId": "48534f4d-a53e-42fd-fdc9-999ab3707607"
      },
      "source": [
        "# Predicting the Test set results\n",
        "y_pred = rnn.predict(X_test)"
      ],
      "execution_count": 234,
      "outputs": [
        {
          "output_type": "stream",
          "name": "stdout",
          "text": [
            "WARNING:tensorflow:5 out of the last 13 calls to <function Model.make_predict_function.<locals>.predict_function at 0x7fdb076cff80> triggered tf.function retracing. Tracing is expensive and the excessive number of tracings could be due to (1) creating @tf.function repeatedly in a loop, (2) passing tensors with different shapes, (3) passing Python objects instead of tensors. For (1), please define your @tf.function outside of the loop. For (2), @tf.function has experimental_relax_shapes=True option that relaxes argument shapes that can avoid unnecessary retracing. For (3), please refer to https://www.tensorflow.org/guide/function#controlling_retracing and https://www.tensorflow.org/api_docs/python/tf/function for  more details.\n"
          ]
        }
      ]
    },
    {
      "cell_type": "code",
      "metadata": {
        "id": "MG5XPpd1rxEt"
      },
      "source": [
        "# Inversing scaling\n",
        "from sklearn.preprocessing import StandardScaler\n",
        "y_hat = sc_y.inverse_transform(y_pred)\n",
        "y_test = sc_y.inverse_transform(y_test)\n",
        "X_test = sc_X.inverse_transform(X_test)"
      ],
      "execution_count": 235,
      "outputs": []
    },
    {
      "cell_type": "code",
      "metadata": {
        "id": "a7-8WLCYr13f",
        "colab": {
          "base_uri": "https://localhost:8080/"
        },
        "outputId": "31dbe180-d993-4644-c447-295c45dfb178"
      },
      "source": [
        "# Mean squared error\n",
        "from sklearn.metrics import mean_squared_error\n",
        "mean_squared_error(sc_y.inverse_transform(y_train), sc_y.inverse_transform(rnn.predict(X_train)), squared=False).round(3), mean_squared_error(y_test, y_hat, squared=False).round(3)"
      ],
      "execution_count": 236,
      "outputs": [
        {
          "output_type": "execute_result",
          "data": {
            "text/plain": [
              "(1072.277, 11470571538.056)"
            ]
          },
          "metadata": {},
          "execution_count": 236
        }
      ]
    },
    {
      "cell_type": "code",
      "metadata": {
        "id": "9W-hmqNgr5OT"
      },
      "source": [
        "# В целом стоит заметить, что НС не справились с этой моделью. Видимо, для данной зависимости достаточно простой линейной регресси, а вот НС сильно переобучается и оценки сильно смещаются. \\\n",
        "# Возможно, это связано со специфичным набором исходных данных и большим количеством категориальных переменных."
      ],
      "execution_count": 231,
      "outputs": []
    },
    {
      "cell_type": "code",
      "metadata": {
        "id": "ynxiRngj-P4i"
      },
      "source": [
        ""
      ],
      "execution_count": 231,
      "outputs": []
    }
  ]
}