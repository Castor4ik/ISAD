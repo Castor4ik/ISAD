{
  "nbformat": 4,
  "nbformat_minor": 0,
  "metadata": {
    "kernelspec": {
      "display_name": "Python 3",
      "language": "python",
      "name": "python3"
    },
    "language_info": {
      "codemirror_mode": {
        "name": "ipython",
        "version": 3
      },
      "file_extension": ".py",
      "mimetype": "text/x-python",
      "name": "python",
      "nbconvert_exporter": "python",
      "pygments_lexer": "ipython3",
      "version": "3.8.3"
    },
    "colab": {
      "name": "Копия блокнота \"KR2_Bobrov_EK-51.ipynb\"",
      "provenance": []
    }
  },
  "cells": [
    {
      "cell_type": "code",
      "metadata": {
        "id": "e-TYkMXruY4V"
      },
      "source": [
        "#импорт основных библиотек\n",
        "\n",
        "import numpy as np\n",
        "import matplotlib.pyplot as plt\n",
        "import pandas as pd"
      ],
      "execution_count": null,
      "outputs": []
    },
    {
      "cell_type": "code",
      "metadata": {
        "id": "TZ5ggvUM0gVM",
        "colab": {
          "resources": {
            "http://localhost:8080/nbextensions/google.colab/files.js": {
              "data": "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",
              "ok": true,
              "headers": [
                [
                  "content-type",
                  "application/javascript"
                ]
              ],
              "status": 200,
              "status_text": ""
            }
          },
          "base_uri": "https://localhost:8080/",
          "height": 366
        },
        "outputId": "1cfa8d84-a640-4750-93af-742890546444"
      },
      "source": [
        "#импорт датасета\n",
        "\n",
        "from google.colab import files \n",
        "uploaded = files.upload()"
      ],
      "execution_count": null,
      "outputs": [
        {
          "output_type": "display_data",
          "data": {
            "text/html": [
              "\n",
              "     <input type=\"file\" id=\"files-70acef49-d51e-44dc-90cb-4b4b1fbdd781\" name=\"files[]\" multiple disabled\n",
              "        style=\"border:none\" />\n",
              "     <output id=\"result-70acef49-d51e-44dc-90cb-4b4b1fbdd781\">\n",
              "      Upload widget is only available when the cell has been executed in the\n",
              "      current browser session. Please rerun this cell to enable.\n",
              "      </output>\n",
              "      <script src=\"/nbextensions/google.colab/files.js\"></script> "
            ],
            "text/plain": [
              "<IPython.core.display.HTML object>"
            ]
          },
          "metadata": {}
        },
        {
          "output_type": "error",
          "ename": "KeyboardInterrupt",
          "evalue": "ignored",
          "traceback": [
            "\u001b[0;31m---------------------------------------------------------------------------\u001b[0m",
            "\u001b[0;31mKeyboardInterrupt\u001b[0m                         Traceback (most recent call last)",
            "\u001b[0;32m<ipython-input-294-b62bf0fa7ffb>\u001b[0m in \u001b[0;36m<module>\u001b[0;34m()\u001b[0m\n\u001b[1;32m      2\u001b[0m \u001b[0;34m\u001b[0m\u001b[0m\n\u001b[1;32m      3\u001b[0m \u001b[0;32mfrom\u001b[0m \u001b[0mgoogle\u001b[0m\u001b[0;34m.\u001b[0m\u001b[0mcolab\u001b[0m \u001b[0;32mimport\u001b[0m \u001b[0mfiles\u001b[0m\u001b[0;34m\u001b[0m\u001b[0;34m\u001b[0m\u001b[0m\n\u001b[0;32m----> 4\u001b[0;31m \u001b[0muploaded\u001b[0m \u001b[0;34m=\u001b[0m \u001b[0mfiles\u001b[0m\u001b[0;34m.\u001b[0m\u001b[0mupload\u001b[0m\u001b[0;34m(\u001b[0m\u001b[0;34m)\u001b[0m\u001b[0;34m\u001b[0m\u001b[0;34m\u001b[0m\u001b[0m\n\u001b[0m",
            "\u001b[0;32m/usr/local/lib/python3.7/dist-packages/google/colab/files.py\u001b[0m in \u001b[0;36mupload\u001b[0;34m()\u001b[0m\n\u001b[1;32m     62\u001b[0m   result = _output.eval_js(\n\u001b[1;32m     63\u001b[0m       'google.colab._files._uploadFiles(\"{input_id}\", \"{output_id}\")'.format(\n\u001b[0;32m---> 64\u001b[0;31m           input_id=input_id, output_id=output_id))\n\u001b[0m\u001b[1;32m     65\u001b[0m   \u001b[0mfiles\u001b[0m \u001b[0;34m=\u001b[0m \u001b[0m_collections\u001b[0m\u001b[0;34m.\u001b[0m\u001b[0mdefaultdict\u001b[0m\u001b[0;34m(\u001b[0m\u001b[0m_six\u001b[0m\u001b[0;34m.\u001b[0m\u001b[0mbinary_type\u001b[0m\u001b[0;34m)\u001b[0m\u001b[0;34m\u001b[0m\u001b[0;34m\u001b[0m\u001b[0m\n\u001b[1;32m     66\u001b[0m   \u001b[0;31m# Mapping from original filename to filename as saved locally.\u001b[0m\u001b[0;34m\u001b[0m\u001b[0;34m\u001b[0m\u001b[0;34m\u001b[0m\u001b[0m\n",
            "\u001b[0;32m/usr/local/lib/python3.7/dist-packages/google/colab/output/_js.py\u001b[0m in \u001b[0;36meval_js\u001b[0;34m(script, ignore_result, timeout_sec)\u001b[0m\n\u001b[1;32m     38\u001b[0m   \u001b[0;32mif\u001b[0m \u001b[0mignore_result\u001b[0m\u001b[0;34m:\u001b[0m\u001b[0;34m\u001b[0m\u001b[0;34m\u001b[0m\u001b[0m\n\u001b[1;32m     39\u001b[0m     \u001b[0;32mreturn\u001b[0m\u001b[0;34m\u001b[0m\u001b[0;34m\u001b[0m\u001b[0m\n\u001b[0;32m---> 40\u001b[0;31m   \u001b[0;32mreturn\u001b[0m \u001b[0m_message\u001b[0m\u001b[0;34m.\u001b[0m\u001b[0mread_reply_from_input\u001b[0m\u001b[0;34m(\u001b[0m\u001b[0mrequest_id\u001b[0m\u001b[0;34m,\u001b[0m \u001b[0mtimeout_sec\u001b[0m\u001b[0;34m)\u001b[0m\u001b[0;34m\u001b[0m\u001b[0;34m\u001b[0m\u001b[0m\n\u001b[0m\u001b[1;32m     41\u001b[0m \u001b[0;34m\u001b[0m\u001b[0m\n\u001b[1;32m     42\u001b[0m \u001b[0;34m\u001b[0m\u001b[0m\n",
            "\u001b[0;32m/usr/local/lib/python3.7/dist-packages/google/colab/_message.py\u001b[0m in \u001b[0;36mread_reply_from_input\u001b[0;34m(message_id, timeout_sec)\u001b[0m\n\u001b[1;32m     99\u001b[0m     \u001b[0mreply\u001b[0m \u001b[0;34m=\u001b[0m \u001b[0m_read_next_input_message\u001b[0m\u001b[0;34m(\u001b[0m\u001b[0;34m)\u001b[0m\u001b[0;34m\u001b[0m\u001b[0;34m\u001b[0m\u001b[0m\n\u001b[1;32m    100\u001b[0m     \u001b[0;32mif\u001b[0m \u001b[0mreply\u001b[0m \u001b[0;34m==\u001b[0m \u001b[0m_NOT_READY\u001b[0m \u001b[0;32mor\u001b[0m \u001b[0;32mnot\u001b[0m \u001b[0misinstance\u001b[0m\u001b[0;34m(\u001b[0m\u001b[0mreply\u001b[0m\u001b[0;34m,\u001b[0m \u001b[0mdict\u001b[0m\u001b[0;34m)\u001b[0m\u001b[0;34m:\u001b[0m\u001b[0;34m\u001b[0m\u001b[0;34m\u001b[0m\u001b[0m\n\u001b[0;32m--> 101\u001b[0;31m       \u001b[0mtime\u001b[0m\u001b[0;34m.\u001b[0m\u001b[0msleep\u001b[0m\u001b[0;34m(\u001b[0m\u001b[0;36m0.025\u001b[0m\u001b[0;34m)\u001b[0m\u001b[0;34m\u001b[0m\u001b[0;34m\u001b[0m\u001b[0m\n\u001b[0m\u001b[1;32m    102\u001b[0m       \u001b[0;32mcontinue\u001b[0m\u001b[0;34m\u001b[0m\u001b[0;34m\u001b[0m\u001b[0m\n\u001b[1;32m    103\u001b[0m     if (reply.get('type') == 'colab_reply' and\n",
            "\u001b[0;31mKeyboardInterrupt\u001b[0m: "
          ]
        }
      ]
    },
    {
      "cell_type": "code",
      "metadata": {
        "id": "zaUF8yct0iwr",
        "colab": {
          "base_uri": "https://localhost:8080/",
          "height": 458
        },
        "outputId": "b5149496-b1ff-4b6e-8d18-e7e85ff9f0d0"
      },
      "source": [
        "#начальный вид датасета. сразу же кодируем успешный/не успешный магазин значениями 0 и 1 соответственно - это наша задача классификации\n",
        "\n",
        "df = pd.read_excel('КР2.xlsx', sheet_name='Вар (1)')\n",
        "df"
      ],
      "execution_count": null,
      "outputs": [
        {
          "output_type": "execute_result",
          "data": {
            "text/html": [
              "<div>\n",
              "<style scoped>\n",
              "    .dataframe tbody tr th:only-of-type {\n",
              "        vertical-align: middle;\n",
              "    }\n",
              "\n",
              "    .dataframe tbody tr th {\n",
              "        vertical-align: top;\n",
              "    }\n",
              "\n",
              "    .dataframe thead th {\n",
              "        text-align: right;\n",
              "    }\n",
              "</style>\n",
              "<table border=\"1\" class=\"dataframe\">\n",
              "  <thead>\n",
              "    <tr style=\"text-align: right;\">\n",
              "      <th></th>\n",
              "      <th>Площадь загальна кв.м</th>\n",
              "      <th>Этаж</th>\n",
              "      <th>Количество сотрудников в магазине</th>\n",
              "      <th>Тип</th>\n",
              "      <th>Кількість відгуків в гуглі</th>\n",
              "      <th>Количество чеков</th>\n",
              "      <th>Среднее количество единиц в чеке</th>\n",
              "      <th>Населення</th>\n",
              "      <th>Середній дохід наелення,грн</th>\n",
              "      <th>Магазин мобільного звязку</th>\n",
              "      <th>Продуктовий ринок</th>\n",
              "      <th>Речовий ринок</th>\n",
              "      <th>Транзитна зупинка міжміського ГТ</th>\n",
              "      <th>Зупинка ГТ</th>\n",
              "      <th>Успех</th>\n",
              "    </tr>\n",
              "  </thead>\n",
              "  <tbody>\n",
              "    <tr>\n",
              "      <th>0</th>\n",
              "      <td>9.00</td>\n",
              "      <td>1</td>\n",
              "      <td>1</td>\n",
              "      <td>Соціальний</td>\n",
              "      <td>NaN</td>\n",
              "      <td>571.0</td>\n",
              "      <td>1.56</td>\n",
              "      <td>108.0</td>\n",
              "      <td>13884.0</td>\n",
              "      <td>0</td>\n",
              "      <td>0</td>\n",
              "      <td>0</td>\n",
              "      <td>0</td>\n",
              "      <td>1</td>\n",
              "      <td>0</td>\n",
              "    </tr>\n",
              "    <tr>\n",
              "      <th>1</th>\n",
              "      <td>30.00</td>\n",
              "      <td>1</td>\n",
              "      <td>1</td>\n",
              "      <td>Соціальний</td>\n",
              "      <td>8.0</td>\n",
              "      <td>1197.0</td>\n",
              "      <td>2.03</td>\n",
              "      <td>750.0</td>\n",
              "      <td>11700.0</td>\n",
              "      <td>0</td>\n",
              "      <td>0</td>\n",
              "      <td>0</td>\n",
              "      <td>1</td>\n",
              "      <td>1</td>\n",
              "      <td>0</td>\n",
              "    </tr>\n",
              "    <tr>\n",
              "      <th>2</th>\n",
              "      <td>15.00</td>\n",
              "      <td>1</td>\n",
              "      <td>1</td>\n",
              "      <td>Соціальний</td>\n",
              "      <td>NaN</td>\n",
              "      <td>402.0</td>\n",
              "      <td>1.81</td>\n",
              "      <td>0.0</td>\n",
              "      <td>6786.0</td>\n",
              "      <td>0</td>\n",
              "      <td>0</td>\n",
              "      <td>0</td>\n",
              "      <td>1</td>\n",
              "      <td>1</td>\n",
              "      <td>0</td>\n",
              "    </tr>\n",
              "    <tr>\n",
              "      <th>3</th>\n",
              "      <td>20.00</td>\n",
              "      <td>1</td>\n",
              "      <td>1</td>\n",
              "      <td>Стандартний</td>\n",
              "      <td>NaN</td>\n",
              "      <td>1036.0</td>\n",
              "      <td>2.18</td>\n",
              "      <td>0.0</td>\n",
              "      <td>12948.0</td>\n",
              "      <td>0</td>\n",
              "      <td>0</td>\n",
              "      <td>0</td>\n",
              "      <td>1</td>\n",
              "      <td>1</td>\n",
              "      <td>0</td>\n",
              "    </tr>\n",
              "    <tr>\n",
              "      <th>4</th>\n",
              "      <td>30.00</td>\n",
              "      <td>1</td>\n",
              "      <td>1</td>\n",
              "      <td>Соціальний</td>\n",
              "      <td>NaN</td>\n",
              "      <td>513.0</td>\n",
              "      <td>1.63</td>\n",
              "      <td>0.0</td>\n",
              "      <td>11427.0</td>\n",
              "      <td>0</td>\n",
              "      <td>0</td>\n",
              "      <td>0</td>\n",
              "      <td>0</td>\n",
              "      <td>0</td>\n",
              "      <td>0</td>\n",
              "    </tr>\n",
              "    <tr>\n",
              "      <th>...</th>\n",
              "      <td>...</td>\n",
              "      <td>...</td>\n",
              "      <td>...</td>\n",
              "      <td>...</td>\n",
              "      <td>...</td>\n",
              "      <td>...</td>\n",
              "      <td>...</td>\n",
              "      <td>...</td>\n",
              "      <td>...</td>\n",
              "      <td>...</td>\n",
              "      <td>...</td>\n",
              "      <td>...</td>\n",
              "      <td>...</td>\n",
              "      <td>...</td>\n",
              "      <td>...</td>\n",
              "    </tr>\n",
              "    <tr>\n",
              "      <th>64</th>\n",
              "      <td>51.77</td>\n",
              "      <td>1</td>\n",
              "      <td>3</td>\n",
              "      <td>Преміальний</td>\n",
              "      <td>4.0</td>\n",
              "      <td>6669.0</td>\n",
              "      <td>1.89</td>\n",
              "      <td>963.0</td>\n",
              "      <td>9399.0</td>\n",
              "      <td>0</td>\n",
              "      <td>0</td>\n",
              "      <td>0</td>\n",
              "      <td>0</td>\n",
              "      <td>0</td>\n",
              "      <td>1</td>\n",
              "    </tr>\n",
              "    <tr>\n",
              "      <th>65</th>\n",
              "      <td>27.26</td>\n",
              "      <td>1</td>\n",
              "      <td>2</td>\n",
              "      <td>Преміальний</td>\n",
              "      <td>3.0</td>\n",
              "      <td>2877.0</td>\n",
              "      <td>1.85</td>\n",
              "      <td>0.0</td>\n",
              "      <td>14079.0</td>\n",
              "      <td>0</td>\n",
              "      <td>1</td>\n",
              "      <td>1</td>\n",
              "      <td>0</td>\n",
              "      <td>0</td>\n",
              "      <td>1</td>\n",
              "    </tr>\n",
              "    <tr>\n",
              "      <th>66</th>\n",
              "      <td>148.91</td>\n",
              "      <td>1</td>\n",
              "      <td>1</td>\n",
              "      <td>Стандартний</td>\n",
              "      <td>12.0</td>\n",
              "      <td>2146.0</td>\n",
              "      <td>1.99</td>\n",
              "      <td>315.0</td>\n",
              "      <td>11427.0</td>\n",
              "      <td>0</td>\n",
              "      <td>0</td>\n",
              "      <td>0</td>\n",
              "      <td>0</td>\n",
              "      <td>0</td>\n",
              "      <td>0</td>\n",
              "    </tr>\n",
              "    <tr>\n",
              "      <th>67</th>\n",
              "      <td>50.93</td>\n",
              "      <td>1</td>\n",
              "      <td>2</td>\n",
              "      <td>Соціальний</td>\n",
              "      <td>17.0</td>\n",
              "      <td>413.0</td>\n",
              "      <td>1.73</td>\n",
              "      <td>0.0</td>\n",
              "      <td>13338.0</td>\n",
              "      <td>0</td>\n",
              "      <td>1</td>\n",
              "      <td>1</td>\n",
              "      <td>0</td>\n",
              "      <td>0</td>\n",
              "      <td>0</td>\n",
              "    </tr>\n",
              "    <tr>\n",
              "      <th>68</th>\n",
              "      <td>30.00</td>\n",
              "      <td>1</td>\n",
              "      <td>2</td>\n",
              "      <td>Преміальний</td>\n",
              "      <td>12.0</td>\n",
              "      <td>3156.0</td>\n",
              "      <td>2.13</td>\n",
              "      <td>678.0</td>\n",
              "      <td>10296.0</td>\n",
              "      <td>0</td>\n",
              "      <td>0</td>\n",
              "      <td>0</td>\n",
              "      <td>0</td>\n",
              "      <td>0</td>\n",
              "      <td>1</td>\n",
              "    </tr>\n",
              "  </tbody>\n",
              "</table>\n",
              "<p>69 rows × 15 columns</p>\n",
              "</div>"
            ],
            "text/plain": [
              "    Площадь загальна кв.м  Этаж  ...  Зупинка ГТ Успех\n",
              "0                    9.00     1  ...           1     0\n",
              "1                   30.00     1  ...           1     0\n",
              "2                   15.00     1  ...           1     0\n",
              "3                   20.00     1  ...           1     0\n",
              "4                   30.00     1  ...           0     0\n",
              "..                    ...   ...  ...         ...   ...\n",
              "64                  51.77     1  ...           0     1\n",
              "65                  27.26     1  ...           0     1\n",
              "66                 148.91     1  ...           0     0\n",
              "67                  50.93     1  ...           0     0\n",
              "68                  30.00     1  ...           0     1\n",
              "\n",
              "[69 rows x 15 columns]"
            ]
          },
          "metadata": {},
          "execution_count": 295
        }
      ]
    },
    {
      "cell_type": "code",
      "metadata": {
        "id": "W-JCVACg0xqz",
        "colab": {
          "base_uri": "https://localhost:8080/"
        },
        "outputId": "4c6acff7-5ed2-4d18-9dae-fefb64c08bd6"
      },
      "source": [
        "#проверка на нулевые значения. Видим, что особенно в этом плане выделяется количество отзывов\n",
        "\n",
        "df.isna().sum()"
      ],
      "execution_count": null,
      "outputs": [
        {
          "output_type": "execute_result",
          "data": {
            "text/plain": [
              "Площадь загальна кв.м                  0\n",
              "Этаж                                   0\n",
              "Количество сотрудников в магазине      0\n",
              "Тип                                    0\n",
              "Кількість відгуків в гуглі            30\n",
              "Количество чеков                       7\n",
              "Среднее количество единиц в чеке       7\n",
              "Населення                              5\n",
              "Середній дохід наелення,грн            5\n",
              "Магазин мобільного звязку              0\n",
              "Продуктовий ринок                      0\n",
              "Речовий ринок                          0\n",
              "Транзитна зупинка міжміського ГТ       0\n",
              "Зупинка ГТ                             0\n",
              "Успех                                  0\n",
              "dtype: int64"
            ]
          },
          "metadata": {},
          "execution_count": 296
        }
      ]
    },
    {
      "cell_type": "code",
      "metadata": {
        "id": "KojOA8f91F7k"
      },
      "source": [
        "#заполним все пропуски, так как у нас достаточно мало данных\n",
        "\n",
        "dfm = df\n",
        "\n",
        "from sklearn.impute import SimpleImputer\n",
        "#numeric\n",
        "'''SimpleImputer - класс\n",
        "imputer_mean - экземпляр\n",
        "fit - метод класса'''\n",
        "\n",
        "imputer_mean = SimpleImputer(missing_values=np.nan, strategy='mean')\n",
        "dfm[['Кількість відгуків в гуглі']] = imputer_mean.fit_transform(dfm[['Кількість відгуків в гуглі']]).round()\n",
        "\n",
        "imputer_mean = SimpleImputer(missing_values=np.nan, strategy='mean')\n",
        "dfm[['Среднее количество единиц в чеке']] = imputer_mean.fit_transform(dfm[['Среднее количество единиц в чеке']]).round()\n",
        "\n",
        "imputer_mean = SimpleImputer(missing_values=np.nan, strategy='mean')\n",
        "dfm[['Населення']] = imputer_mean.fit_transform(dfm[['Населення']]).round()\n",
        "\n",
        "imputer_mean = SimpleImputer(missing_values=np.nan, strategy='mean')\n",
        "dfm[['Середній дохід наелення,грн']] = imputer_mean.fit_transform(dfm[['Середній дохід наелення,грн']]).round()"
      ],
      "execution_count": null,
      "outputs": []
    },
    {
      "cell_type": "code",
      "metadata": {
        "id": "UfwOBe1v1JkI",
        "colab": {
          "base_uri": "https://localhost:8080/",
          "height": 335
        },
        "outputId": "2a148214-7c2c-4073-d6b5-86731c506715"
      },
      "source": [
        "#подробная статистика всех переменных. Видим, что у нас есть и бинарные переменные в большом количестве. Далее рассмотрим каждый из параметров более подробно и выберем тот, который будем прогнозировать\n",
        "#понимаем, что только успешность является интересным параметром для предсказания - например, параметр \"магазин мобильной связи\" не зависит от остальных факторов\n",
        "df.describe()"
      ],
      "execution_count": null,
      "outputs": [
        {
          "output_type": "execute_result",
          "data": {
            "text/html": [
              "<div>\n",
              "<style scoped>\n",
              "    .dataframe tbody tr th:only-of-type {\n",
              "        vertical-align: middle;\n",
              "    }\n",
              "\n",
              "    .dataframe tbody tr th {\n",
              "        vertical-align: top;\n",
              "    }\n",
              "\n",
              "    .dataframe thead th {\n",
              "        text-align: right;\n",
              "    }\n",
              "</style>\n",
              "<table border=\"1\" class=\"dataframe\">\n",
              "  <thead>\n",
              "    <tr style=\"text-align: right;\">\n",
              "      <th></th>\n",
              "      <th>Площадь загальна кв.м</th>\n",
              "      <th>Этаж</th>\n",
              "      <th>Количество сотрудников в магазине</th>\n",
              "      <th>Кількість відгуків в гуглі</th>\n",
              "      <th>Количество чеков</th>\n",
              "      <th>Среднее количество единиц в чеке</th>\n",
              "      <th>Населення</th>\n",
              "      <th>Середній дохід наелення,грн</th>\n",
              "      <th>Магазин мобільного звязку</th>\n",
              "      <th>Продуктовий ринок</th>\n",
              "      <th>Речовий ринок</th>\n",
              "      <th>Транзитна зупинка міжміського ГТ</th>\n",
              "      <th>Зупинка ГТ</th>\n",
              "      <th>Успех</th>\n",
              "    </tr>\n",
              "  </thead>\n",
              "  <tbody>\n",
              "    <tr>\n",
              "      <th>count</th>\n",
              "      <td>69.000000</td>\n",
              "      <td>69.0</td>\n",
              "      <td>69.000000</td>\n",
              "      <td>69.000000</td>\n",
              "      <td>62.000000</td>\n",
              "      <td>69.000000</td>\n",
              "      <td>69.000000</td>\n",
              "      <td>69.000000</td>\n",
              "      <td>69.000000</td>\n",
              "      <td>69.000000</td>\n",
              "      <td>69.000000</td>\n",
              "      <td>69.000000</td>\n",
              "      <td>69.000000</td>\n",
              "      <td>69.000000</td>\n",
              "    </tr>\n",
              "    <tr>\n",
              "      <th>mean</th>\n",
              "      <td>47.412725</td>\n",
              "      <td>1.0</td>\n",
              "      <td>1.869565</td>\n",
              "      <td>42.898551</td>\n",
              "      <td>3018.112903</td>\n",
              "      <td>1.971014</td>\n",
              "      <td>295.956522</td>\n",
              "      <td>11306.855072</td>\n",
              "      <td>0.057971</td>\n",
              "      <td>0.173913</td>\n",
              "      <td>0.130435</td>\n",
              "      <td>0.101449</td>\n",
              "      <td>0.362319</td>\n",
              "      <td>0.362319</td>\n",
              "    </tr>\n",
              "    <tr>\n",
              "      <th>std</th>\n",
              "      <td>37.862989</td>\n",
              "      <td>0.0</td>\n",
              "      <td>0.838645</td>\n",
              "      <td>61.280489</td>\n",
              "      <td>2009.425047</td>\n",
              "      <td>0.240772</td>\n",
              "      <td>310.467836</td>\n",
              "      <td>2347.336283</td>\n",
              "      <td>0.235401</td>\n",
              "      <td>0.381812</td>\n",
              "      <td>0.339248</td>\n",
              "      <td>0.304135</td>\n",
              "      <td>0.484192</td>\n",
              "      <td>0.484192</td>\n",
              "    </tr>\n",
              "    <tr>\n",
              "      <th>min</th>\n",
              "      <td>4.000000</td>\n",
              "      <td>1.0</td>\n",
              "      <td>1.000000</td>\n",
              "      <td>1.000000</td>\n",
              "      <td>369.000000</td>\n",
              "      <td>1.000000</td>\n",
              "      <td>0.000000</td>\n",
              "      <td>0.000000</td>\n",
              "      <td>0.000000</td>\n",
              "      <td>0.000000</td>\n",
              "      <td>0.000000</td>\n",
              "      <td>0.000000</td>\n",
              "      <td>0.000000</td>\n",
              "      <td>0.000000</td>\n",
              "    </tr>\n",
              "    <tr>\n",
              "      <th>25%</th>\n",
              "      <td>26.720000</td>\n",
              "      <td>1.0</td>\n",
              "      <td>1.000000</td>\n",
              "      <td>12.000000</td>\n",
              "      <td>1475.250000</td>\n",
              "      <td>2.000000</td>\n",
              "      <td>0.000000</td>\n",
              "      <td>10296.000000</td>\n",
              "      <td>0.000000</td>\n",
              "      <td>0.000000</td>\n",
              "      <td>0.000000</td>\n",
              "      <td>0.000000</td>\n",
              "      <td>0.000000</td>\n",
              "      <td>0.000000</td>\n",
              "    </tr>\n",
              "    <tr>\n",
              "      <th>50%</th>\n",
              "      <td>32.300000</td>\n",
              "      <td>1.0</td>\n",
              "      <td>2.000000</td>\n",
              "      <td>43.000000</td>\n",
              "      <td>2467.000000</td>\n",
              "      <td>2.000000</td>\n",
              "      <td>253.000000</td>\n",
              "      <td>11427.000000</td>\n",
              "      <td>0.000000</td>\n",
              "      <td>0.000000</td>\n",
              "      <td>0.000000</td>\n",
              "      <td>0.000000</td>\n",
              "      <td>0.000000</td>\n",
              "      <td>0.000000</td>\n",
              "    </tr>\n",
              "    <tr>\n",
              "      <th>75%</th>\n",
              "      <td>56.240000</td>\n",
              "      <td>1.0</td>\n",
              "      <td>2.000000</td>\n",
              "      <td>43.000000</td>\n",
              "      <td>4103.250000</td>\n",
              "      <td>2.000000</td>\n",
              "      <td>545.000000</td>\n",
              "      <td>12948.000000</td>\n",
              "      <td>0.000000</td>\n",
              "      <td>0.000000</td>\n",
              "      <td>0.000000</td>\n",
              "      <td>0.000000</td>\n",
              "      <td>1.000000</td>\n",
              "      <td>1.000000</td>\n",
              "    </tr>\n",
              "    <tr>\n",
              "      <th>max</th>\n",
              "      <td>232.300000</td>\n",
              "      <td>1.0</td>\n",
              "      <td>4.000000</td>\n",
              "      <td>367.000000</td>\n",
              "      <td>7852.000000</td>\n",
              "      <td>3.000000</td>\n",
              "      <td>963.000000</td>\n",
              "      <td>14937.000000</td>\n",
              "      <td>1.000000</td>\n",
              "      <td>1.000000</td>\n",
              "      <td>1.000000</td>\n",
              "      <td>1.000000</td>\n",
              "      <td>1.000000</td>\n",
              "      <td>1.000000</td>\n",
              "    </tr>\n",
              "  </tbody>\n",
              "</table>\n",
              "</div>"
            ],
            "text/plain": [
              "       Площадь загальна кв.м  Этаж  ...  Зупинка ГТ      Успех\n",
              "count              69.000000  69.0  ...   69.000000  69.000000\n",
              "mean               47.412725   1.0  ...    0.362319   0.362319\n",
              "std                37.862989   0.0  ...    0.484192   0.484192\n",
              "min                 4.000000   1.0  ...    0.000000   0.000000\n",
              "25%                26.720000   1.0  ...    0.000000   0.000000\n",
              "50%                32.300000   1.0  ...    0.000000   0.000000\n",
              "75%                56.240000   1.0  ...    1.000000   1.000000\n",
              "max               232.300000   1.0  ...    1.000000   1.000000\n",
              "\n",
              "[8 rows x 14 columns]"
            ]
          },
          "metadata": {},
          "execution_count": 298
        }
      ]
    },
    {
      "cell_type": "code",
      "metadata": {
        "id": "3ErvpUFP1Mg0"
      },
      "source": [
        "#для удобства работы необходимо переименовать все колонки, в том числе, чтобы построить графики распределения\n",
        "\n",
        "df.rename(columns={'Площадь загальна кв.м': 'square'}, inplace=True)\n",
        "df.rename(columns={'Этаж': 'floor'}, inplace=True)\n",
        "df.rename(columns={'Количество чеков': 'receipt'}, inplace=True)\n",
        "df.rename(columns={'Кількість відгуків в гуглі': 'Google_marks'}, inplace=True)\n",
        "df.rename(columns={'Среднее количество единиц в чеке': 'midQ_receipt'}, inplace=True)\n",
        "df.rename(columns={'Населення': 'People'}, inplace=True)\n",
        "df.rename(columns={'Середній дохід наелення,грн': 'mid_income'}, inplace=True)\n",
        "df.rename(columns={'Магазин мобільного звязку': 'mobile'}, inplace=True)\n",
        "df.rename(columns={'Продуктовий ринок': 'food_market'}, inplace=True)\n",
        "df.rename(columns={'Речовий ринок': 'product_market'}, inplace=True)\n",
        "df.rename(columns={'Транзитна зупинка міжміського ГТ': 'int_stop'}, inplace=True)\n",
        "df.rename(columns={'Зупинка ГТ': 'city_stop'}, inplace=True)\n",
        "df.rename(columns={'Тип': 'type'}, inplace=True)\n",
        "df.rename(columns={'Количество сотрудников в магазине\t': 'ds'}, inplace=True)\n",
        "df.rename(columns={'Успех': 'success'}, inplace=True)"
      ],
      "execution_count": null,
      "outputs": []
    },
    {
      "cell_type": "code",
      "metadata": {
        "id": "kRfh2Kpf3U0c",
        "colab": {
          "base_uri": "https://localhost:8080/"
        },
        "outputId": "20e03d40-4067-4dbe-92fe-cc76a1c2b669"
      },
      "source": [
        "#проверка типов данных. Один из параметров - текстовый и категориальный, что будет важно в дальнейшем\n",
        "\n",
        "df.dtypes"
      ],
      "execution_count": null,
      "outputs": [
        {
          "output_type": "execute_result",
          "data": {
            "text/plain": [
              "square                                float64\n",
              "floor                                   int64\n",
              "Количество сотрудников в магазине       int64\n",
              "type                                   object\n",
              "Google_marks                          float64\n",
              "receipt                               float64\n",
              "midQ_receipt                          float64\n",
              "People                                float64\n",
              "mid_income                            float64\n",
              "mobile                                  int64\n",
              "food_market                             int64\n",
              "product_market                          int64\n",
              "int_stop                                int64\n",
              "city_stop                               int64\n",
              "success                                 int64\n",
              "dtype: object"
            ]
          },
          "metadata": {},
          "execution_count": 300
        }
      ]
    },
    {
      "cell_type": "code",
      "metadata": {
        "id": "idXdGZ8y4DpL",
        "colab": {
          "base_uri": "https://localhost:8080/",
          "height": 268
        },
        "outputId": "a8f828e6-4f93-469e-f4bf-f5c2ac72d9c4"
      },
      "source": [
        "#распределение площади. По нему видно, что есть небольшой крупный отдельный выброс, который мы удалим без использования дополнительных иструментов\n",
        "\n",
        "df.square.hist()\n",
        "df = df.loc[df['square'] < 180]"
      ],
      "execution_count": null,
      "outputs": [
        {
          "output_type": "display_data",
          "data": {
            "image/png": "[encoded data removed]",
            "text/plain": [
              "<Figure size 432x288 with 1 Axes>"
            ]
          },
          "metadata": {
            "needs_background": "light"
          }
        }
      ]
    },
    {
      "cell_type": "code",
      "metadata": {
        "id": "I9u5ueai4HAK",
        "colab": {
          "base_uri": "https://localhost:8080/",
          "height": 282
        },
        "outputId": "65ec0e41-c251-4207-b284-ca773d5d7d35"
      },
      "source": [
        "#переменная, у которой только 1 значение. Очевидно, что не несет никакого смысла\n",
        "df.floor.hist()"
      ],
      "execution_count": null,
      "outputs": [
        {
          "output_type": "execute_result",
          "data": {
            "text/plain": [
              "<matplotlib.axes._subplots.AxesSubplot at 0x7f9916d41750>"
            ]
          },
          "metadata": {},
          "execution_count": 302
        },
        {
          "output_type": "display_data",
          "data": {
            "image/png": "[encoded data removed]",
            "text/plain": [
              "<Figure size 432x288 with 1 Axes>"
            ]
          },
          "metadata": {
            "needs_background": "light"
          }
        }
      ]
    },
    {
      "cell_type": "code",
      "metadata": {
        "id": "AxbmX2dk4J5C",
        "colab": {
          "base_uri": "https://localhost:8080/",
          "height": 282
        },
        "outputId": "59177e42-a42d-44e0-fd13-17bdfe961abd"
      },
      "source": [
        "#несмотря на наличие выбросов, тут они носят логичный характер и, после заполнения пропущенных участков выглядят адекватно. Тем не менее, на мой взгляд, количество отзывов не повлияют на переменную, которую хотелось бы изучить\n",
        "\n",
        "df.Google_marks.hist()"
      ],
      "execution_count": null,
      "outputs": [
        {
          "output_type": "execute_result",
          "data": {
            "text/plain": [
              "<matplotlib.axes._subplots.AxesSubplot at 0x7f99167a89d0>"
            ]
          },
          "metadata": {},
          "execution_count": 303
        },
        {
          "output_type": "display_data",
          "data": {
            "image/png": "[encoded data removed]",
            "text/plain": [
              "<Figure size 432x288 with 1 Axes>"
            ]
          },
          "metadata": {
            "needs_background": "light"
          }
        }
      ]
    },
    {
      "cell_type": "code",
      "metadata": {
        "id": "UhbYsvVx4LMp",
        "colab": {
          "base_uri": "https://localhost:8080/",
          "height": 282
        },
        "outputId": "79c1ced4-0f3c-4489-f7df-2ed5036bc421"
      },
      "source": [
        "#переменная, которую мы уже объясняли и которая может сильно влиять на понятие успешности. Нормальное распределение, поэтому конечно берем в модель\n",
        "\n",
        "df.receipt.hist()"
      ],
      "execution_count": null,
      "outputs": [
        {
          "output_type": "execute_result",
          "data": {
            "text/plain": [
              "<matplotlib.axes._subplots.AxesSubplot at 0x7f9917a561d0>"
            ]
          },
          "metadata": {},
          "execution_count": 304
        },
        {
          "output_type": "display_data",
          "data": {
            "image/png": "[encoded data removed]",
            "text/plain": [
              "<Figure size 432x288 with 1 Axes>"
            ]
          },
          "metadata": {
            "needs_background": "light"
          }
        }
      ]
    },
    {
      "cell_type": "code",
      "metadata": {
        "id": "zT350qMt4YI_",
        "colab": {
          "base_uri": "https://localhost:8080/",
          "height": 282
        },
        "outputId": "9efc1636-f6fc-40b5-869c-5873f89baa6c"
      },
      "source": [
        "#бесполезная переменная с парой выбросов. Будет удалена\n",
        "\n",
        "df.midQ_receipt.hist()"
      ],
      "execution_count": null,
      "outputs": [
        {
          "output_type": "execute_result",
          "data": {
            "text/plain": [
              "<matplotlib.axes._subplots.AxesSubplot at 0x7f9916aa6ed0>"
            ]
          },
          "metadata": {},
          "execution_count": 305
        },
        {
          "output_type": "display_data",
          "data": {
            "image/png": "[encoded data removed]",
            "text/plain": [
              "<Figure size 432x288 with 1 Axes>"
            ]
          },
          "metadata": {
            "needs_background": "light"
          }
        }
      ]
    },
    {
      "cell_type": "code",
      "metadata": {
        "id": "qnabUx4f4Z-Y",
        "colab": {
          "base_uri": "https://localhost:8080/",
          "height": 282
        },
        "outputId": "0d9f3d30-5ab8-4513-848a-c3e7c530bb36"
      },
      "source": [
        "#Население - ок переменная для анализа с адекватным распределением. Возможно, можно было бы ее логарифмировать, но этого делать не будем\n",
        "\n",
        "df.People.hist()"
      ],
      "execution_count": null,
      "outputs": [
        {
          "output_type": "execute_result",
          "data": {
            "text/plain": [
              "<matplotlib.axes._subplots.AxesSubplot at 0x7f99177b4450>"
            ]
          },
          "metadata": {},
          "execution_count": 306
        },
        {
          "output_type": "display_data",
          "data": {
            "image/png": "[encoded data removed]",
            "text/plain": [
              "<Figure size 432x288 with 1 Axes>"
            ]
          },
          "metadata": {
            "needs_background": "light"
          }
        }
      ]
    },
    {
      "cell_type": "code",
      "metadata": {
        "id": "WhnblncO4b1Z",
        "colab": {
          "base_uri": "https://localhost:8080/",
          "height": 265
        },
        "outputId": "d1199c08-3981-4de3-9a5c-7baaedc7b90c"
      },
      "source": [
        "#средний доход. Одна из ключевых переменных. Удаляем выброс с аномально низким значением и двигаемся дальше.\n",
        "df.mid_income.hist()\n",
        "df = df.loc[df['mid_income'] > 5000]"
      ],
      "execution_count": null,
      "outputs": [
        {
          "output_type": "display_data",
          "data": {
            "image/png": "[encoded data removed]",
            "text/plain": [
              "<Figure size 432x288 with 1 Axes>"
            ]
          },
          "metadata": {
            "needs_background": "light"
          }
        }
      ]
    },
    {
      "cell_type": "code",
      "metadata": {
        "id": "229a0toA4fau",
        "colab": {
          "base_uri": "https://localhost:8080/",
          "height": 282
        },
        "outputId": "c0546413-0049-4d97-bc23-2b1fbe9e7247"
      },
      "source": [
        "#бинарная переменная без особого интереса - слишком малое кол-во этих мобильных точек. Будет удалена\n",
        "\n",
        "df.mobile.hist()"
      ],
      "execution_count": null,
      "outputs": [
        {
          "output_type": "execute_result",
          "data": {
            "text/plain": [
              "<matplotlib.axes._subplots.AxesSubplot at 0x7f9916f69690>"
            ]
          },
          "metadata": {},
          "execution_count": 308
        },
        {
          "output_type": "display_data",
          "data": {
            "image/png": "[encoded data removed]",
            "text/plain": [
              "<Figure size 432x288 with 1 Axes>"
            ]
          },
          "metadata": {
            "needs_background": "light"
          }
        }
      ]
    },
    {
      "cell_type": "code",
      "metadata": {
        "id": "NjaF2vAx4iXY",
        "colab": {
          "base_uri": "https://localhost:8080/",
          "height": 282
        },
        "outputId": "c15526c6-3f0e-4b9c-df85-c02564062386"
      },
      "source": [
        "#бинарная переменная. Оставим для исследования.\n",
        "\n",
        "df.food_market.hist()"
      ],
      "execution_count": null,
      "outputs": [
        {
          "output_type": "execute_result",
          "data": {
            "text/plain": [
              "<matplotlib.axes._subplots.AxesSubplot at 0x7f991674fb90>"
            ]
          },
          "metadata": {},
          "execution_count": 309
        },
        {
          "output_type": "display_data",
          "data": {
            "image/png": "[encoded data removed]",
            "text/plain": [
              "<Figure size 432x288 with 1 Axes>"
            ]
          },
          "metadata": {
            "needs_background": "light"
          }
        }
      ]
    },
    {
      "cell_type": "code",
      "metadata": {
        "id": "G-wICAat4lHK",
        "colab": {
          "base_uri": "https://localhost:8080/",
          "height": 283
        },
        "outputId": "90be8567-dd11-4049-9695-c745fb6a76a1"
      },
      "source": [
        "#бинарная переменная. Оставим для исследования.\n",
        "\n",
        "df.product_market.hist()"
      ],
      "execution_count": null,
      "outputs": [
        {
          "output_type": "execute_result",
          "data": {
            "text/plain": [
              "<matplotlib.axes._subplots.AxesSubplot at 0x7f991606f510>"
            ]
          },
          "metadata": {},
          "execution_count": 310
        },
        {
          "output_type": "display_data",
          "data": {
            "image/png": "[encoded data removed]",
            "text/plain": [
              "<Figure size 432x288 with 1 Axes>"
            ]
          },
          "metadata": {
            "needs_background": "light"
          }
        }
      ]
    },
    {
      "cell_type": "code",
      "metadata": {
        "id": "Cgxya_d64nzv",
        "colab": {
          "base_uri": "https://localhost:8080/",
          "height": 282
        },
        "outputId": "ce67be42-438e-48e7-f1aa-19424d60aea4"
      },
      "source": [
        "#бинарная переменная. Все же принял ее оставить, возможно, она достаточно влияет на формирование цены\n",
        "df.int_stop.hist()"
      ],
      "execution_count": null,
      "outputs": [
        {
          "output_type": "execute_result",
          "data": {
            "text/plain": [
              "<matplotlib.axes._subplots.AxesSubplot at 0x7f9915ff1850>"
            ]
          },
          "metadata": {},
          "execution_count": 311
        },
        {
          "output_type": "display_data",
          "data": {
            "image/png": "[encoded data removed]",
            "text/plain": [
              "<Figure size 432x288 with 1 Axes>"
            ]
          },
          "metadata": {
            "needs_background": "light"
          }
        }
      ]
    },
    {
      "cell_type": "code",
      "metadata": {
        "id": "JWvIqDxk4pPW",
        "colab": {
          "base_uri": "https://localhost:8080/",
          "height": 282
        },
        "outputId": "7e6171a2-56cf-4082-e255-530524683f6e"
      },
      "source": [
        "#хорошая бинарная переменная\n",
        "\n",
        "df.city_stop.hist()"
      ],
      "execution_count": null,
      "outputs": [
        {
          "output_type": "execute_result",
          "data": {
            "text/plain": [
              "<matplotlib.axes._subplots.AxesSubplot at 0x7f9916023350>"
            ]
          },
          "metadata": {},
          "execution_count": 312
        },
        {
          "output_type": "display_data",
          "data": {
            "image/png": "[encoded data removed]",
            "text/plain": [
              "<Figure size 432x288 with 1 Axes>"
            ]
          },
          "metadata": {
            "needs_background": "light"
          }
        }
      ]
    },
    {
      "cell_type": "code",
      "metadata": {
        "id": "3DvUitRg4qqE",
        "colab": {
          "base_uri": "https://localhost:8080/",
          "height": 424
        },
        "outputId": "62fa1958-fb8e-468e-f891-398c6e317dc3"
      },
      "source": [
        "#бинарное кодирование категориальной переменной с типом магазина. Тип точно влияет на чек, и мы должны создать отдельные переменные\n",
        "\n",
        "from sklearn.preprocessing import OneHotEncoder\n",
        "ohe = OneHotEncoder(sparse=False) # sparse=False categorical_features=...\n",
        "new_ohe_features = ohe.fit_transform(df.type.values.reshape(-1, 1))\n",
        "tmp = pd.DataFrame(new_ohe_features, columns=['type' + str(i) for i in range(new_ohe_features.shape[1])])\n",
        "df = pd.concat([df, tmp], axis=1)\n",
        "df"
      ],
      "execution_count": null,
      "outputs": [
        {
          "output_type": "execute_result",
          "data": {
            "text/html": [
              "<div>\n",
              "<style scoped>\n",
              "    .dataframe tbody tr th:only-of-type {\n",
              "        vertical-align: middle;\n",
              "    }\n",
              "\n",
              "    .dataframe tbody tr th {\n",
              "        vertical-align: top;\n",
              "    }\n",
              "\n",
              "    .dataframe thead th {\n",
              "        text-align: right;\n",
              "    }\n",
              "</style>\n",
              "<table border=\"1\" class=\"dataframe\">\n",
              "  <thead>\n",
              "    <tr style=\"text-align: right;\">\n",
              "      <th></th>\n",
              "      <th>square</th>\n",
              "      <th>floor</th>\n",
              "      <th>Количество сотрудников в магазине</th>\n",
              "      <th>type</th>\n",
              "      <th>Google_marks</th>\n",
              "      <th>receipt</th>\n",
              "      <th>midQ_receipt</th>\n",
              "      <th>People</th>\n",
              "      <th>mid_income</th>\n",
              "      <th>mobile</th>\n",
              "      <th>food_market</th>\n",
              "      <th>product_market</th>\n",
              "      <th>int_stop</th>\n",
              "      <th>city_stop</th>\n",
              "      <th>success</th>\n",
              "      <th>type0</th>\n",
              "      <th>type1</th>\n",
              "      <th>type2</th>\n",
              "      <th>type3</th>\n",
              "      <th>type4</th>\n",
              "    </tr>\n",
              "  </thead>\n",
              "  <tbody>\n",
              "    <tr>\n",
              "      <th>0</th>\n",
              "      <td>9.00</td>\n",
              "      <td>1.0</td>\n",
              "      <td>1.0</td>\n",
              "      <td>Соціальний</td>\n",
              "      <td>43.0</td>\n",
              "      <td>571.0</td>\n",
              "      <td>2.0</td>\n",
              "      <td>108.0</td>\n",
              "      <td>13884.0</td>\n",
              "      <td>0.0</td>\n",
              "      <td>0.0</td>\n",
              "      <td>0.0</td>\n",
              "      <td>0.0</td>\n",
              "      <td>1.0</td>\n",
              "      <td>0.0</td>\n",
              "      <td>0.0</td>\n",
              "      <td>1.0</td>\n",
              "      <td>0.0</td>\n",
              "      <td>0.0</td>\n",
              "      <td>0.0</td>\n",
              "    </tr>\n",
              "    <tr>\n",
              "      <th>1</th>\n",
              "      <td>30.00</td>\n",
              "      <td>1.0</td>\n",
              "      <td>1.0</td>\n",
              "      <td>Соціальний</td>\n",
              "      <td>8.0</td>\n",
              "      <td>1197.0</td>\n",
              "      <td>2.0</td>\n",
              "      <td>750.0</td>\n",
              "      <td>11700.0</td>\n",
              "      <td>0.0</td>\n",
              "      <td>0.0</td>\n",
              "      <td>0.0</td>\n",
              "      <td>1.0</td>\n",
              "      <td>1.0</td>\n",
              "      <td>0.0</td>\n",
              "      <td>0.0</td>\n",
              "      <td>1.0</td>\n",
              "      <td>0.0</td>\n",
              "      <td>0.0</td>\n",
              "      <td>0.0</td>\n",
              "    </tr>\n",
              "    <tr>\n",
              "      <th>2</th>\n",
              "      <td>15.00</td>\n",
              "      <td>1.0</td>\n",
              "      <td>1.0</td>\n",
              "      <td>Соціальний</td>\n",
              "      <td>43.0</td>\n",
              "      <td>402.0</td>\n",
              "      <td>2.0</td>\n",
              "      <td>0.0</td>\n",
              "      <td>6786.0</td>\n",
              "      <td>0.0</td>\n",
              "      <td>0.0</td>\n",
              "      <td>0.0</td>\n",
              "      <td>1.0</td>\n",
              "      <td>1.0</td>\n",
              "      <td>0.0</td>\n",
              "      <td>0.0</td>\n",
              "      <td>1.0</td>\n",
              "      <td>0.0</td>\n",
              "      <td>0.0</td>\n",
              "      <td>0.0</td>\n",
              "    </tr>\n",
              "    <tr>\n",
              "      <th>3</th>\n",
              "      <td>20.00</td>\n",
              "      <td>1.0</td>\n",
              "      <td>1.0</td>\n",
              "      <td>Стандартний</td>\n",
              "      <td>43.0</td>\n",
              "      <td>1036.0</td>\n",
              "      <td>2.0</td>\n",
              "      <td>0.0</td>\n",
              "      <td>12948.0</td>\n",
              "      <td>0.0</td>\n",
              "      <td>0.0</td>\n",
              "      <td>0.0</td>\n",
              "      <td>1.0</td>\n",
              "      <td>1.0</td>\n",
              "      <td>0.0</td>\n",
              "      <td>0.0</td>\n",
              "      <td>0.0</td>\n",
              "      <td>0.0</td>\n",
              "      <td>0.0</td>\n",
              "      <td>1.0</td>\n",
              "    </tr>\n",
              "    <tr>\n",
              "      <th>4</th>\n",
              "      <td>30.00</td>\n",
              "      <td>1.0</td>\n",
              "      <td>1.0</td>\n",
              "      <td>Соціальний</td>\n",
              "      <td>43.0</td>\n",
              "      <td>513.0</td>\n",
              "      <td>2.0</td>\n",
              "      <td>0.0</td>\n",
              "      <td>11427.0</td>\n",
              "      <td>0.0</td>\n",
              "      <td>0.0</td>\n",
              "      <td>0.0</td>\n",
              "      <td>0.0</td>\n",
              "      <td>0.0</td>\n",
              "      <td>0.0</td>\n",
              "      <td>0.0</td>\n",
              "      <td>1.0</td>\n",
              "      <td>0.0</td>\n",
              "      <td>0.0</td>\n",
              "      <td>0.0</td>\n",
              "    </tr>\n",
              "    <tr>\n",
              "      <th>...</th>\n",
              "      <td>...</td>\n",
              "      <td>...</td>\n",
              "      <td>...</td>\n",
              "      <td>...</td>\n",
              "      <td>...</td>\n",
              "      <td>...</td>\n",
              "      <td>...</td>\n",
              "      <td>...</td>\n",
              "      <td>...</td>\n",
              "      <td>...</td>\n",
              "      <td>...</td>\n",
              "      <td>...</td>\n",
              "      <td>...</td>\n",
              "      <td>...</td>\n",
              "      <td>...</td>\n",
              "      <td>...</td>\n",
              "      <td>...</td>\n",
              "      <td>...</td>\n",
              "      <td>...</td>\n",
              "      <td>...</td>\n",
              "    </tr>\n",
              "    <tr>\n",
              "      <th>64</th>\n",
              "      <td>51.77</td>\n",
              "      <td>1.0</td>\n",
              "      <td>3.0</td>\n",
              "      <td>Преміальний</td>\n",
              "      <td>4.0</td>\n",
              "      <td>6669.0</td>\n",
              "      <td>2.0</td>\n",
              "      <td>963.0</td>\n",
              "      <td>9399.0</td>\n",
              "      <td>0.0</td>\n",
              "      <td>0.0</td>\n",
              "      <td>0.0</td>\n",
              "      <td>0.0</td>\n",
              "      <td>0.0</td>\n",
              "      <td>1.0</td>\n",
              "      <td>0.0</td>\n",
              "      <td>0.0</td>\n",
              "      <td>0.0</td>\n",
              "      <td>0.0</td>\n",
              "      <td>1.0</td>\n",
              "    </tr>\n",
              "    <tr>\n",
              "      <th>65</th>\n",
              "      <td>27.26</td>\n",
              "      <td>1.0</td>\n",
              "      <td>2.0</td>\n",
              "      <td>Преміальний</td>\n",
              "      <td>3.0</td>\n",
              "      <td>2877.0</td>\n",
              "      <td>2.0</td>\n",
              "      <td>0.0</td>\n",
              "      <td>14079.0</td>\n",
              "      <td>0.0</td>\n",
              "      <td>1.0</td>\n",
              "      <td>1.0</td>\n",
              "      <td>0.0</td>\n",
              "      <td>0.0</td>\n",
              "      <td>1.0</td>\n",
              "      <td>0.0</td>\n",
              "      <td>1.0</td>\n",
              "      <td>0.0</td>\n",
              "      <td>0.0</td>\n",
              "      <td>0.0</td>\n",
              "    </tr>\n",
              "    <tr>\n",
              "      <th>66</th>\n",
              "      <td>148.91</td>\n",
              "      <td>1.0</td>\n",
              "      <td>1.0</td>\n",
              "      <td>Стандартний</td>\n",
              "      <td>12.0</td>\n",
              "      <td>2146.0</td>\n",
              "      <td>2.0</td>\n",
              "      <td>315.0</td>\n",
              "      <td>11427.0</td>\n",
              "      <td>0.0</td>\n",
              "      <td>0.0</td>\n",
              "      <td>0.0</td>\n",
              "      <td>0.0</td>\n",
              "      <td>0.0</td>\n",
              "      <td>0.0</td>\n",
              "      <td>1.0</td>\n",
              "      <td>0.0</td>\n",
              "      <td>0.0</td>\n",
              "      <td>0.0</td>\n",
              "      <td>0.0</td>\n",
              "    </tr>\n",
              "    <tr>\n",
              "      <th>67</th>\n",
              "      <td>50.93</td>\n",
              "      <td>1.0</td>\n",
              "      <td>2.0</td>\n",
              "      <td>Соціальний</td>\n",
              "      <td>17.0</td>\n",
              "      <td>413.0</td>\n",
              "      <td>2.0</td>\n",
              "      <td>0.0</td>\n",
              "      <td>13338.0</td>\n",
              "      <td>0.0</td>\n",
              "      <td>1.0</td>\n",
              "      <td>1.0</td>\n",
              "      <td>0.0</td>\n",
              "      <td>0.0</td>\n",
              "      <td>0.0</td>\n",
              "      <td>NaN</td>\n",
              "      <td>NaN</td>\n",
              "      <td>NaN</td>\n",
              "      <td>NaN</td>\n",
              "      <td>NaN</td>\n",
              "    </tr>\n",
              "    <tr>\n",
              "      <th>68</th>\n",
              "      <td>30.00</td>\n",
              "      <td>1.0</td>\n",
              "      <td>2.0</td>\n",
              "      <td>Преміальний</td>\n",
              "      <td>12.0</td>\n",
              "      <td>3156.0</td>\n",
              "      <td>2.0</td>\n",
              "      <td>678.0</td>\n",
              "      <td>10296.0</td>\n",
              "      <td>0.0</td>\n",
              "      <td>0.0</td>\n",
              "      <td>0.0</td>\n",
              "      <td>0.0</td>\n",
              "      <td>0.0</td>\n",
              "      <td>1.0</td>\n",
              "      <td>NaN</td>\n",
              "      <td>NaN</td>\n",
              "      <td>NaN</td>\n",
              "      <td>NaN</td>\n",
              "      <td>NaN</td>\n",
              "    </tr>\n",
              "  </tbody>\n",
              "</table>\n",
              "<p>69 rows × 20 columns</p>\n",
              "</div>"
            ],
            "text/plain": [
              "    square  floor  Количество сотрудников в магазине   ... type2  type3  type4\n",
              "0     9.00    1.0                                 1.0  ...   0.0    0.0    0.0\n",
              "1    30.00    1.0                                 1.0  ...   0.0    0.0    0.0\n",
              "2    15.00    1.0                                 1.0  ...   0.0    0.0    0.0\n",
              "3    20.00    1.0                                 1.0  ...   0.0    0.0    1.0\n",
              "4    30.00    1.0                                 1.0  ...   0.0    0.0    0.0\n",
              "..     ...    ...                                 ...  ...   ...    ...    ...\n",
              "64   51.77    1.0                                 3.0  ...   0.0    0.0    1.0\n",
              "65   27.26    1.0                                 2.0  ...   0.0    0.0    0.0\n",
              "66  148.91    1.0                                 1.0  ...   0.0    0.0    0.0\n",
              "67   50.93    1.0                                 2.0  ...   NaN    NaN    NaN\n",
              "68   30.00    1.0                                 2.0  ...   NaN    NaN    NaN\n",
              "\n",
              "[69 rows x 20 columns]"
            ]
          },
          "metadata": {},
          "execution_count": 313
        }
      ]
    },
    {
      "cell_type": "code",
      "metadata": {
        "id": "eb0mMbCJ4s07",
        "colab": {
          "base_uri": "https://localhost:8080/",
          "height": 282
        },
        "outputId": "50ded0f4-3871-41a7-9083-066fce3bb4cd"
      },
      "source": [
        "#бинарная переменная. Оставим для исследования.\n",
        "\n",
        "df.type0.hist()"
      ],
      "execution_count": null,
      "outputs": [
        {
          "output_type": "execute_result",
          "data": {
            "text/plain": [
              "<matplotlib.axes._subplots.AxesSubplot at 0x7f9915ee7c90>"
            ]
          },
          "metadata": {},
          "execution_count": 314
        },
        {
          "output_type": "display_data",
          "data": {
            "image/png": "[encoded data removed]",
            "text/plain": [
              "<Figure size 432x288 with 1 Axes>"
            ]
          },
          "metadata": {
            "needs_background": "light"
          }
        }
      ]
    },
    {
      "cell_type": "code",
      "metadata": {
        "id": "OFSnCvTZ40-z",
        "colab": {
          "base_uri": "https://localhost:8080/",
          "height": 282
        },
        "outputId": "c97269c2-2472-4771-e976-ba8c8bf7f084"
      },
      "source": [
        "#бинарная переменная. Оставим для исследования.\n",
        "\n",
        "df.type1.hist()"
      ],
      "execution_count": null,
      "outputs": [
        {
          "output_type": "execute_result",
          "data": {
            "text/plain": [
              "<matplotlib.axes._subplots.AxesSubplot at 0x7f9915e0c190>"
            ]
          },
          "metadata": {},
          "execution_count": 315
        },
        {
          "output_type": "display_data",
          "data": {
            "image/png": "[encoded data removed]",
            "text/plain": [
              "<Figure size 432x288 with 1 Axes>"
            ]
          },
          "metadata": {
            "needs_background": "light"
          }
        }
      ]
    },
    {
      "cell_type": "code",
      "metadata": {
        "id": "lzoyHS0r42gu",
        "colab": {
          "base_uri": "https://localhost:8080/",
          "height": 282
        },
        "outputId": "ff4d3892-8295-4422-ee03-e325b9a5e943"
      },
      "source": [
        "#бинарная переменная. Слишком редкая и может создать перекос в модели, удаляем\n",
        "\n",
        "df.type2.hist()"
      ],
      "execution_count": null,
      "outputs": [
        {
          "output_type": "execute_result",
          "data": {
            "text/plain": [
              "<matplotlib.axes._subplots.AxesSubplot at 0x7f9915d967d0>"
            ]
          },
          "metadata": {},
          "execution_count": 316
        },
        {
          "output_type": "display_data",
          "data": {
            "image/png": "[encoded data removed]",
            "text/plain": [
              "<Figure size 432x288 with 1 Axes>"
            ]
          },
          "metadata": {
            "needs_background": "light"
          }
        }
      ]
    },
    {
      "cell_type": "code",
      "metadata": {
        "id": "CTNk_ROZ43xX",
        "colab": {
          "base_uri": "https://localhost:8080/",
          "height": 282
        },
        "outputId": "a76bdb46-d22c-416a-a988-16617ad29a6a"
      },
      "source": [
        "#бинарная переменная. Слишком редкая и может создать перекос в модели, удаляем. Добавлять им замену не будем, пусть эти типы будут пропущены\n",
        "\n",
        "df.type3.hist()"
      ],
      "execution_count": null,
      "outputs": [
        {
          "output_type": "execute_result",
          "data": {
            "text/plain": [
              "<matplotlib.axes._subplots.AxesSubplot at 0x7f9915d182d0>"
            ]
          },
          "metadata": {},
          "execution_count": 317
        },
        {
          "output_type": "display_data",
          "data": {
            "image/png": "[encoded data removed]",
            "text/plain": [
              "<Figure size 432x288 with 1 Axes>"
            ]
          },
          "metadata": {
            "needs_background": "light"
          }
        }
      ]
    },
    {
      "cell_type": "code",
      "metadata": {
        "id": "nj_hlG3w45xo",
        "colab": {
          "base_uri": "https://localhost:8080/",
          "height": 285
        },
        "outputId": "c732019c-e156-422b-de42-011ed97fd48f"
      },
      "source": [
        "#бинарная переменная. Оставим для исследования.\n",
        "\n",
        "df.type4.hist()"
      ],
      "execution_count": null,
      "outputs": [
        {
          "output_type": "execute_result",
          "data": {
            "text/plain": [
              "<matplotlib.axes._subplots.AxesSubplot at 0x7f9915c93150>"
            ]
          },
          "metadata": {},
          "execution_count": 318
        },
        {
          "output_type": "display_data",
          "data": {
            "image/png": "[encoded data removed]",
            "text/plain": [
              "<Figure size 432x288 with 1 Axes>"
            ]
          },
          "metadata": {
            "needs_background": "light"
          }
        }
      ]
    },
    {
      "cell_type": "code",
      "metadata": {
        "id": "A_l3vtNv47ef"
      },
      "source": [
        "#Удаляем лишние колонки и заполняем 0 пропущенные в категориальных переменных значения(так как оставшиеся 3 магазина не относятся ни к одному из типов)\n",
        "\n",
        "df = df.drop(columns = ['type3'], );\n",
        "df = df.drop(columns = ['type2'], );\n",
        "df = df.drop(columns = ['midQ_receipt'], );\n",
        "df = df.drop(columns = ['mobile'], );\n",
        "df = df.drop(columns = ['floor'], );\n",
        "df = df.drop(columns = ['type'], );\n",
        "df = df.drop(columns = ['Google_marks'], );\n",
        "df = df.fillna(0) "
      ],
      "execution_count": null,
      "outputs": []
    },
    {
      "cell_type": "code",
      "metadata": {
        "id": "MakubSfN4-6n",
        "colab": {
          "base_uri": "https://localhost:8080/",
          "height": 424
        },
        "outputId": "1cb6d663-3c7c-4b8b-9bc5-552b06ba46a1"
      },
      "source": [
        "#поменяем порядок колонок и выделим объясняемую переменную справа\n",
        "\n",
        "new_order = [0,1,2,3,4,5,6,7,8,10,11,12,9]\n",
        "df = df[df.columns[new_order]]\n",
        "df"
      ],
      "execution_count": null,
      "outputs": [
        {
          "output_type": "execute_result",
          "data": {
            "text/html": [
              "<div>\n",
              "<style scoped>\n",
              "    .dataframe tbody tr th:only-of-type {\n",
              "        vertical-align: middle;\n",
              "    }\n",
              "\n",
              "    .dataframe tbody tr th {\n",
              "        vertical-align: top;\n",
              "    }\n",
              "\n",
              "    .dataframe thead th {\n",
              "        text-align: right;\n",
              "    }\n",
              "</style>\n",
              "<table border=\"1\" class=\"dataframe\">\n",
              "  <thead>\n",
              "    <tr style=\"text-align: right;\">\n",
              "      <th></th>\n",
              "      <th>square</th>\n",
              "      <th>Количество сотрудников в магазине</th>\n",
              "      <th>receipt</th>\n",
              "      <th>People</th>\n",
              "      <th>mid_income</th>\n",
              "      <th>food_market</th>\n",
              "      <th>product_market</th>\n",
              "      <th>int_stop</th>\n",
              "      <th>city_stop</th>\n",
              "      <th>type0</th>\n",
              "      <th>type1</th>\n",
              "      <th>type4</th>\n",
              "      <th>success</th>\n",
              "    </tr>\n",
              "  </thead>\n",
              "  <tbody>\n",
              "    <tr>\n",
              "      <th>0</th>\n",
              "      <td>9.00</td>\n",
              "      <td>1.0</td>\n",
              "      <td>571.0</td>\n",
              "      <td>108.0</td>\n",
              "      <td>13884.0</td>\n",
              "      <td>0.0</td>\n",
              "      <td>0.0</td>\n",
              "      <td>0.0</td>\n",
              "      <td>1.0</td>\n",
              "      <td>0.0</td>\n",
              "      <td>1.0</td>\n",
              "      <td>0.0</td>\n",
              "      <td>0.0</td>\n",
              "    </tr>\n",
              "    <tr>\n",
              "      <th>1</th>\n",
              "      <td>30.00</td>\n",
              "      <td>1.0</td>\n",
              "      <td>1197.0</td>\n",
              "      <td>750.0</td>\n",
              "      <td>11700.0</td>\n",
              "      <td>0.0</td>\n",
              "      <td>0.0</td>\n",
              "      <td>1.0</td>\n",
              "      <td>1.0</td>\n",
              "      <td>0.0</td>\n",
              "      <td>1.0</td>\n",
              "      <td>0.0</td>\n",
              "      <td>0.0</td>\n",
              "    </tr>\n",
              "    <tr>\n",
              "      <th>2</th>\n",
              "      <td>15.00</td>\n",
              "      <td>1.0</td>\n",
              "      <td>402.0</td>\n",
              "      <td>0.0</td>\n",
              "      <td>6786.0</td>\n",
              "      <td>0.0</td>\n",
              "      <td>0.0</td>\n",
              "      <td>1.0</td>\n",
              "      <td>1.0</td>\n",
              "      <td>0.0</td>\n",
              "      <td>1.0</td>\n",
              "      <td>0.0</td>\n",
              "      <td>0.0</td>\n",
              "    </tr>\n",
              "    <tr>\n",
              "      <th>3</th>\n",
              "      <td>20.00</td>\n",
              "      <td>1.0</td>\n",
              "      <td>1036.0</td>\n",
              "      <td>0.0</td>\n",
              "      <td>12948.0</td>\n",
              "      <td>0.0</td>\n",
              "      <td>0.0</td>\n",
              "      <td>1.0</td>\n",
              "      <td>1.0</td>\n",
              "      <td>0.0</td>\n",
              "      <td>0.0</td>\n",
              "      <td>1.0</td>\n",
              "      <td>0.0</td>\n",
              "    </tr>\n",
              "    <tr>\n",
              "      <th>4</th>\n",
              "      <td>30.00</td>\n",
              "      <td>1.0</td>\n",
              "      <td>513.0</td>\n",
              "      <td>0.0</td>\n",
              "      <td>11427.0</td>\n",
              "      <td>0.0</td>\n",
              "      <td>0.0</td>\n",
              "      <td>0.0</td>\n",
              "      <td>0.0</td>\n",
              "      <td>0.0</td>\n",
              "      <td>1.0</td>\n",
              "      <td>0.0</td>\n",
              "      <td>0.0</td>\n",
              "    </tr>\n",
              "    <tr>\n",
              "      <th>...</th>\n",
              "      <td>...</td>\n",
              "      <td>...</td>\n",
              "      <td>...</td>\n",
              "      <td>...</td>\n",
              "      <td>...</td>\n",
              "      <td>...</td>\n",
              "      <td>...</td>\n",
              "      <td>...</td>\n",
              "      <td>...</td>\n",
              "      <td>...</td>\n",
              "      <td>...</td>\n",
              "      <td>...</td>\n",
              "      <td>...</td>\n",
              "    </tr>\n",
              "    <tr>\n",
              "      <th>64</th>\n",
              "      <td>51.77</td>\n",
              "      <td>3.0</td>\n",
              "      <td>6669.0</td>\n",
              "      <td>963.0</td>\n",
              "      <td>9399.0</td>\n",
              "      <td>0.0</td>\n",
              "      <td>0.0</td>\n",
              "      <td>0.0</td>\n",
              "      <td>0.0</td>\n",
              "      <td>0.0</td>\n",
              "      <td>0.0</td>\n",
              "      <td>1.0</td>\n",
              "      <td>1.0</td>\n",
              "    </tr>\n",
              "    <tr>\n",
              "      <th>65</th>\n",
              "      <td>27.26</td>\n",
              "      <td>2.0</td>\n",
              "      <td>2877.0</td>\n",
              "      <td>0.0</td>\n",
              "      <td>14079.0</td>\n",
              "      <td>1.0</td>\n",
              "      <td>1.0</td>\n",
              "      <td>0.0</td>\n",
              "      <td>0.0</td>\n",
              "      <td>0.0</td>\n",
              "      <td>1.0</td>\n",
              "      <td>0.0</td>\n",
              "      <td>1.0</td>\n",
              "    </tr>\n",
              "    <tr>\n",
              "      <th>66</th>\n",
              "      <td>148.91</td>\n",
              "      <td>1.0</td>\n",
              "      <td>2146.0</td>\n",
              "      <td>315.0</td>\n",
              "      <td>11427.0</td>\n",
              "      <td>0.0</td>\n",
              "      <td>0.0</td>\n",
              "      <td>0.0</td>\n",
              "      <td>0.0</td>\n",
              "      <td>1.0</td>\n",
              "      <td>0.0</td>\n",
              "      <td>0.0</td>\n",
              "      <td>0.0</td>\n",
              "    </tr>\n",
              "    <tr>\n",
              "      <th>67</th>\n",
              "      <td>50.93</td>\n",
              "      <td>2.0</td>\n",
              "      <td>413.0</td>\n",
              "      <td>0.0</td>\n",
              "      <td>13338.0</td>\n",
              "      <td>1.0</td>\n",
              "      <td>1.0</td>\n",
              "      <td>0.0</td>\n",
              "      <td>0.0</td>\n",
              "      <td>0.0</td>\n",
              "      <td>0.0</td>\n",
              "      <td>0.0</td>\n",
              "      <td>0.0</td>\n",
              "    </tr>\n",
              "    <tr>\n",
              "      <th>68</th>\n",
              "      <td>30.00</td>\n",
              "      <td>2.0</td>\n",
              "      <td>3156.0</td>\n",
              "      <td>678.0</td>\n",
              "      <td>10296.0</td>\n",
              "      <td>0.0</td>\n",
              "      <td>0.0</td>\n",
              "      <td>0.0</td>\n",
              "      <td>0.0</td>\n",
              "      <td>0.0</td>\n",
              "      <td>0.0</td>\n",
              "      <td>0.0</td>\n",
              "      <td>1.0</td>\n",
              "    </tr>\n",
              "  </tbody>\n",
              "</table>\n",
              "<p>69 rows × 13 columns</p>\n",
              "</div>"
            ],
            "text/plain": [
              "    square  Количество сотрудников в магазине   receipt  ...  type1  type4  success\n",
              "0     9.00                                 1.0    571.0  ...    1.0    0.0      0.0\n",
              "1    30.00                                 1.0   1197.0  ...    1.0    0.0      0.0\n",
              "2    15.00                                 1.0    402.0  ...    1.0    0.0      0.0\n",
              "3    20.00                                 1.0   1036.0  ...    0.0    1.0      0.0\n",
              "4    30.00                                 1.0    513.0  ...    1.0    0.0      0.0\n",
              "..     ...                                 ...      ...  ...    ...    ...      ...\n",
              "64   51.77                                 3.0   6669.0  ...    0.0    1.0      1.0\n",
              "65   27.26                                 2.0   2877.0  ...    1.0    0.0      1.0\n",
              "66  148.91                                 1.0   2146.0  ...    0.0    0.0      0.0\n",
              "67   50.93                                 2.0    413.0  ...    0.0    0.0      0.0\n",
              "68   30.00                                 2.0   3156.0  ...    0.0    0.0      1.0\n",
              "\n",
              "[69 rows x 13 columns]"
            ]
          },
          "metadata": {},
          "execution_count": 320
        }
      ]
    },
    {
      "cell_type": "code",
      "metadata": {
        "id": "XST-cRmR7ltJ",
        "colab": {
          "base_uri": "https://localhost:8080/",
          "height": 728
        },
        "outputId": "34b9ac29-9f07-4b83-fcf0-d7b1bed8a784"
      },
      "source": [
        "# Cheking correlations\n",
        "import seaborn as sns\n",
        "corrmat = df.corr()\n",
        "f, ax = plt.subplots(figsize=(12, 9))\n",
        "sns.heatmap(corrmat, annot=True)\n",
        "plt.show()"
      ],
      "execution_count": null,
      "outputs": [
        {
          "output_type": "display_data",
          "data": {
            "image/png": "[encoded data removed]",
            "text/plain": [
              "<Figure size 864x648 with 2 Axes>"
            ]
          },
          "metadata": {
            "needs_background": "light"
          }
        }
      ]
    },
    {
      "cell_type": "code",
      "metadata": {
        "id": "QWR7cQJj9yYg"
      },
      "source": [
        "#две переменные имеют слишком большую корреляцию и успехом и поэтому их необходимо убрать, иначе модель выдает ошибку\n",
        "df = df.drop(columns = ['Количество сотрудников в магазине '], );\n",
        "df = df.drop(columns = ['receipt'], );"
      ],
      "execution_count": null,
      "outputs": []
    },
    {
      "cell_type": "code",
      "metadata": {
        "id": "sZOrJN505Djy"
      },
      "source": [
        "# Splitting the dataset into the Training set and Test set\n",
        "X = df.iloc[:, :-1]\n",
        "y = df['success']\n",
        "from sklearn.model_selection import train_test_split\n",
        "X_train, X_test, y_train, y_test = train_test_split(X, y, test_size=0.2, random_state=13)"
      ],
      "execution_count": null,
      "outputs": []
    },
    {
      "cell_type": "code",
      "metadata": {
        "id": "zcCaawJM6RCn"
      },
      "source": [
        "# Feature Scaling\n",
        "from sklearn.preprocessing import StandardScaler\n",
        "sc_X = StandardScaler().fit(X_train)\n",
        "X_train = sc_X.transform(X_train)\n",
        "X_test = sc_X.transform(X_test)"
      ],
      "execution_count": null,
      "outputs": []
    },
    {
      "cell_type": "code",
      "metadata": {
        "id": "9w4dwKuJ6Wh4",
        "colab": {
          "base_uri": "https://localhost:8080/"
        },
        "outputId": "e0374d6d-42f4-4412-b4a2-bb1d2bdfae2c"
      },
      "source": [
        "#baseline model\n",
        "import statsmodels.api as sm\n",
        "lr = sm.Logit(y_train, X_train).fit()\n",
        "print(lr.summary2())"
      ],
      "execution_count": null,
      "outputs": [
        {
          "output_type": "stream",
          "name": "stdout",
          "text": [
            "Optimization terminated successfully.\n",
            "         Current function value: 0.565586\n",
            "         Iterations 6\n",
            "                        Results: Logit\n",
            "===============================================================\n",
            "Model:              Logit            Pseudo R-squared: 0.137   \n",
            "Dependent Variable: success          AIC:              82.2145 \n",
            "Date:               2021-12-02 12:17 BIC:              102.2878\n",
            "No. Observations:   55               Log-Likelihood:   -31.107 \n",
            "Df Model:           9                LL-Null:          -36.051 \n",
            "Df Residuals:       45               LLR p-value:      0.35959 \n",
            "Converged:          1.0000           Scale:            1.0000  \n",
            "No. Iterations:     6.0000                                     \n",
            "-----------------------------------------------------------------\n",
            "          Coef.    Std.Err.      z      P>|z|     [0.025   0.975]\n",
            "-----------------------------------------------------------------\n",
            "x1        0.7850     0.3996    1.9644   0.0495    0.0018   1.5682\n",
            "x2        0.5953     0.3219    1.8492   0.0644   -0.0356   1.2263\n",
            "x3        0.0894     0.4102    0.2178   0.8276   -0.7146   0.8934\n",
            "x4       -0.4117     0.4513   -0.9124   0.3616   -1.2963   0.4728\n",
            "x5        0.3691     0.4396    0.8395   0.4012   -0.4926   1.2308\n",
            "x6        0.0790     0.3506    0.2252   0.8218   -0.6083   0.7662\n",
            "x7       -0.2607     0.3552   -0.7340   0.4630   -0.9568   0.4354\n",
            "x8        0.6742     0.5673    1.1884   0.2347   -0.4377   1.7862\n",
            "x9       -0.1139     0.5303   -0.2148   0.8299   -1.1534   0.9255\n",
            "x10       0.3828     0.5322    0.7194   0.4719   -0.6602   1.4259\n",
            "===============================================================\n",
            "\n"
          ]
        }
      ]
    },
    {
      "cell_type": "code",
      "metadata": {
        "id": "feRN3uaR6Yth",
        "colab": {
          "base_uri": "https://localhost:8080/"
        },
        "outputId": "c1152cbb-6c86-45af-bd50-da82bae403c3"
      },
      "source": [
        "# Automatic Feature Selection\n",
        "from sklearn.feature_selection import RFECV\n",
        "from sklearn.linear_model import LogisticRegression\n",
        "estimator=LogisticRegression()\n",
        "selector=RFECV(estimator, step=1)\n",
        "selector=selector.fit(X_train, y_train)\n",
        "print(selector.n_features_)\n",
        "print(selector.support_)\n",
        "print(selector.ranking_)"
      ],
      "execution_count": null,
      "outputs": [
        {
          "output_type": "stream",
          "name": "stdout",
          "text": [
            "8\n",
            "[ True  True  True  True  True False False  True  True  True]\n",
            "[1 1 1 1 1 3 2 1 1 1]\n"
          ]
        }
      ]
    },
    {
      "cell_type": "code",
      "metadata": {
        "id": "MhGu4cRoBpVk"
      },
      "source": [
        "# Leaving only Selected Features\n",
        "X_train_select=X_train[:,[True, True , True , True , True, False, False, True, True, True]]\n",
        "X_test_select=X_test[:,[True, True , True , True , True, False, False, True, True, True]]"
      ],
      "execution_count": null,
      "outputs": []
    },
    {
      "cell_type": "code",
      "metadata": {
        "id": "CZ_pVL8sCB_J"
      },
      "source": [
        "# Fitting Logistic Regression to the Training set (8 variables)\n",
        "from sklearn.linear_model import LogisticRegression\n",
        "lr = LogisticRegression().fit(X_train_select, y_train)"
      ],
      "execution_count": null,
      "outputs": []
    },
    {
      "cell_type": "code",
      "metadata": {
        "id": "TW455JNHCUS2",
        "colab": {
          "base_uri": "https://localhost:8080/"
        },
        "outputId": "ad191cdd-7328-43d2-92d0-7037e9803b0e"
      },
      "source": [
        "# Predicting the Test set results\n",
        "y_pred = lr.predict(X_test_select)\n",
        "lr.score(X_test_select,y_test).round(2)"
      ],
      "execution_count": null,
      "outputs": [
        {
          "output_type": "execute_result",
          "data": {
            "text/plain": [
              "0.79"
            ]
          },
          "metadata": {},
          "execution_count": 329
        }
      ]
    },
    {
      "cell_type": "code",
      "metadata": {
        "id": "DgsJcdLxCV3w",
        "colab": {
          "base_uri": "https://localhost:8080/"
        },
        "outputId": "34d94eee-84a4-4758-f532-444cf7b5d3a5"
      },
      "source": [
        "# Making the Confusion Matrix\n",
        "from sklearn.metrics import confusion_matrix\n",
        "cm = confusion_matrix(y_test, y_pred)\n",
        "print(cm)"
      ],
      "execution_count": null,
      "outputs": [
        {
          "output_type": "stream",
          "name": "stdout",
          "text": [
            "[[8 2]\n",
            " [1 3]]\n"
          ]
        }
      ]
    },
    {
      "cell_type": "code",
      "metadata": {
        "id": "U30sV3ZOCXp2"
      },
      "source": [
        "# 2 features\n",
        "X_train = X_train[:,[0,2]]\n",
        "X_test = X_test[:,[0,2]]"
      ],
      "execution_count": null,
      "outputs": []
    },
    {
      "cell_type": "code",
      "metadata": {
        "id": "NKA5TwUECfJL"
      },
      "source": [
        "# Fitting Logistic Regression to the Training set (2 variables)\n",
        "from sklearn.linear_model import LogisticRegression\n",
        "lr = LogisticRegression(random_state = 13).fit(X_train, y_train)"
      ],
      "execution_count": null,
      "outputs": []
    },
    {
      "cell_type": "code",
      "metadata": {
        "id": "uDtHrDUSEsx9",
        "colab": {
          "base_uri": "https://localhost:8080/"
        },
        "outputId": "fc1b6907-6241-410d-dad9-89b26cb4b7ff"
      },
      "source": [
        "# Predicting the Test set results\n",
        "y_pred = lr.predict(X_test)\n",
        "lr.score(X_test,y_test).round(2)"
      ],
      "execution_count": null,
      "outputs": [
        {
          "output_type": "execute_result",
          "data": {
            "text/plain": [
              "0.71"
            ]
          },
          "metadata": {},
          "execution_count": 333
        }
      ]
    },
    {
      "cell_type": "code",
      "metadata": {
        "id": "sY5fVH-wEw4E",
        "colab": {
          "base_uri": "https://localhost:8080/"
        },
        "outputId": "db656bcc-0e94-463b-debe-2c9d33233fbd"
      },
      "source": [
        "# Making the Confusion Matrix\n",
        "from sklearn.metrics import confusion_matrix\n",
        "cm = confusion_matrix(y_test, y_pred)\n",
        "print(cm)"
      ],
      "execution_count": null,
      "outputs": [
        {
          "output_type": "stream",
          "name": "stdout",
          "text": [
            "[[10  0]\n",
            " [ 4  0]]\n"
          ]
        }
      ]
    },
    {
      "cell_type": "code",
      "metadata": {
        "id": "ej-Ky1AaE406",
        "colab": {
          "base_uri": "https://localhost:8080/",
          "height": 332
        },
        "outputId": "9ad6dafc-f4d2-4f21-b41f-28a923a6c5ed"
      },
      "source": [
        "# Visualising the Test set results\n",
        "from matplotlib.colors import ListedColormap\n",
        "X_set, y_set = X_test, y_test\n",
        "X1, X2 = np.meshgrid(np.arange(start = X_set[:, 0].min() - 1, stop = X_set[:, 0].max() + 1, step = 0.01),\n",
        "                     np.arange(start = X_set[:, 1].min() - 1, stop = X_set[:, 1].max() + 1, step = 0.01))\n",
        "plt.contourf(X1, X2, lr.predict(np.array([X1.ravel(), X2.ravel()]).T).reshape(X1.shape),\n",
        "             alpha = 0.75, cmap = ListedColormap(('red', 'green')))\n",
        "plt.xlim(X1.min(), X1.max())\n",
        "plt.ylim(X2.min(), X2.max())\n",
        "for i, j in enumerate(np.unique(y_set)):\n",
        "    plt.scatter(X_set[y_set == j, 0], X_set[y_set == j, 1],\n",
        "                c = ListedColormap(('red', 'green'))(i), label = j)\n",
        "plt.title('Logistic Regression (Test set)')\n",
        "plt.xlabel('Square')\n",
        "plt.ylabel('Success')\n",
        "plt.legend()\n",
        "plt.show()"
      ],
      "execution_count": null,
      "outputs": [
        {
          "output_type": "stream",
          "name": "stderr",
          "text": [
            "*c* argument looks like a single numeric RGB or RGBA sequence, which should be avoided as value-mapping will have precedence in case its length matches with *x* & *y*.  Please use the *color* keyword-argument or provide a 2-D array with a single row if you intend to specify the same RGB or RGBA value for all points.\n"
          ]
        },
        {
          "output_type": "display_data",
          "data": {
            "image/png": "[encoded data removed]",
            "text/plain": [
              "<Figure size 432x288 with 1 Axes>"
            ]
          },
          "metadata": {
            "needs_background": "light"
          }
        }
      ]
    },
    {
      "cell_type": "code",
      "metadata": {
        "id": "RgC5L7IXFkta"
      },
      "source": [
        "#видим, что на такой маленькой выборке при большом количестве бинарных параметров модель начинает запутываться. Однако, она выделяет практически все параметры как значимые и дает объясняемость почти в 80%, что неплохо\n",
        "# тем не менее, для качества параметров нужно учитывать практически все критерии - отношения к типам, наличие остановок, рынков, площадь, количество сотрудников и доход\n",
        "# большой потерей для качества стало удаление количества чеков и количества сотрудников, ведь в реальной жизни они имеют влияние, но тут получается, что существует прямая корреляция между показателями, из-за чего мы их исключили\n",
        "# кроме того, модель сильно склонна к отклонению гипотез, что вызывает большое количество ошибок первого рода. Это может говорить как о неравномерности параметра \"успех\" (он не очень близко к 0,5 в среднем)\n",
        "# и говорит про то, что модель перестраховывается, что хорошо видно на графике. скорее всего, ее можно улучшить, но данных факторов не совсем достаточно для прогнозирования успешности магазина\n",
        "\n"
      ],
      "execution_count": null,
      "outputs": []
    },
    {
      "cell_type": "code",
      "metadata": {
        "id": "Cs7GD0h5G_Ix"
      },
      "source": [
        "# Install Tensorflow\n",
        "# Install Keras\n",
        "# Importing the Keras libraries and packages\n",
        "import keras\n",
        "from keras.models import Sequential\n",
        "from keras.layers import Dense"
      ],
      "execution_count": null,
      "outputs": []
    },
    {
      "cell_type": "code",
      "metadata": {
        "id": "pBPtIVP-GF6G"
      },
      "source": [
        "# Initialising the ANN\n",
        "cnn = Sequential()\n",
        "\n",
        "# Adding the input layer and the first hidden layer\n",
        "cnn.add(Dense(2, activation = 'relu', input_dim = 2))\n",
        "\n",
        "# Adding the output layer\n",
        "cnn.add(Dense(2, activation = 'sigmoid'))\n",
        "\n",
        "# Adding the output layer\n",
        "cnn.add(Dense(1, activation = 'sigmoid'))\n",
        "\n",
        "# Compiling the ANN\n",
        "cnn.compile(optimizer = 'adam', loss = 'binary_crossentropy', metrics = ['accuracy'])"
      ],
      "execution_count": null,
      "outputs": []
    },
    {
      "cell_type": "code",
      "metadata": {
        "id": "IPPrdUGFHIBe"
      },
      "source": [
        "import sys\n",
        "sys.setrecursionlimit(10000)"
      ],
      "execution_count": null,
      "outputs": []
    },
    {
      "cell_type": "code",
      "metadata": {
        "id": "rMn1j-91IofV"
      },
      "source": [
        "import tensorflow as tf"
      ],
      "execution_count": null,
      "outputs": []
    },
    {
      "cell_type": "code",
      "metadata": {
        "id": "3AgCd_buHJu3",
        "colab": {
          "base_uri": "https://localhost:8080/"
        },
        "outputId": "61eb86c8-e172-4668-843f-d920f1509f66"
      },
      "source": [
        "# Fitting the ANN to the Training set\n",
        "history = cnn.fit(X_train, y_train, batch_size = 64, epochs = 100, validation_data=(X_test, y_test))"
      ],
      "execution_count": null,
      "outputs": [
        {
          "output_type": "stream",
          "name": "stdout",
          "text": [
            "Epoch 1/50\n",
            "1/1 [==============================] - 1s 933ms/step - loss: 0.6534 - accuracy: 0.6364 - val_loss: 0.6479 - val_accuracy: 0.7143\n",
            "Epoch 2/50\n",
            "1/1 [==============================] - 0s 24ms/step - loss: 0.6532 - accuracy: 0.6364 - val_loss: 0.6475 - val_accuracy: 0.7143\n",
            "Epoch 3/50\n",
            "1/1 [==============================] - 0s 24ms/step - loss: 0.6529 - accuracy: 0.6364 - val_loss: 0.6470 - val_accuracy: 0.7143\n",
            "Epoch 4/50\n",
            "1/1 [==============================] - 0s 26ms/step - loss: 0.6527 - accuracy: 0.6364 - val_loss: 0.6466 - val_accuracy: 0.7143\n",
            "Epoch 5/50\n",
            "1/1 [==============================] - 0s 24ms/step - loss: 0.6525 - accuracy: 0.6364 - val_loss: 0.6462 - val_accuracy: 0.7143\n",
            "Epoch 6/50\n",
            "1/1 [==============================] - 0s 26ms/step - loss: 0.6523 - accuracy: 0.6364 - val_loss: 0.6458 - val_accuracy: 0.7143\n",
            "Epoch 7/50\n",
            "1/1 [==============================] - 0s 28ms/step - loss: 0.6521 - accuracy: 0.6364 - val_loss: 0.6454 - val_accuracy: 0.7143\n",
            "Epoch 8/50\n",
            "1/1 [==============================] - 0s 28ms/step - loss: 0.6519 - accuracy: 0.6364 - val_loss: 0.6449 - val_accuracy: 0.7143\n",
            "Epoch 9/50\n",
            "1/1 [==============================] - 0s 25ms/step - loss: 0.6516 - accuracy: 0.6364 - val_loss: 0.6445 - val_accuracy: 0.7143\n",
            "Epoch 10/50\n",
            "1/1 [==============================] - 0s 27ms/step - loss: 0.6514 - accuracy: 0.6364 - val_loss: 0.6441 - val_accuracy: 0.7143\n",
            "Epoch 11/50\n",
            "1/1 [==============================] - 0s 28ms/step - loss: 0.6512 - accuracy: 0.6364 - val_loss: 0.6437 - val_accuracy: 0.7143\n",
            "Epoch 12/50\n",
            "1/1 [==============================] - 0s 28ms/step - loss: 0.6510 - accuracy: 0.6364 - val_loss: 0.6433 - val_accuracy: 0.7143\n",
            "Epoch 13/50\n",
            "1/1 [==============================] - 0s 35ms/step - loss: 0.6508 - accuracy: 0.6364 - val_loss: 0.6429 - val_accuracy: 0.7143\n",
            "Epoch 14/50\n",
            "1/1 [==============================] - 0s 34ms/step - loss: 0.6506 - accuracy: 0.6364 - val_loss: 0.6425 - val_accuracy: 0.7143\n",
            "Epoch 15/50\n",
            "1/1 [==============================] - 0s 27ms/step - loss: 0.6504 - accuracy: 0.6364 - val_loss: 0.6421 - val_accuracy: 0.7143\n",
            "Epoch 16/50\n",
            "1/1 [==============================] - 0s 30ms/step - loss: 0.6502 - accuracy: 0.6364 - val_loss: 0.6417 - val_accuracy: 0.7143\n",
            "Epoch 17/50\n",
            "1/1 [==============================] - 0s 26ms/step - loss: 0.6501 - accuracy: 0.6364 - val_loss: 0.6413 - val_accuracy: 0.7143\n",
            "Epoch 18/50\n",
            "1/1 [==============================] - 0s 25ms/step - loss: 0.6499 - accuracy: 0.6364 - val_loss: 0.6409 - val_accuracy: 0.7143\n",
            "Epoch 19/50\n",
            "1/1 [==============================] - 0s 30ms/step - loss: 0.6497 - accuracy: 0.6364 - val_loss: 0.6406 - val_accuracy: 0.7143\n",
            "Epoch 20/50\n",
            "1/1 [==============================] - 0s 28ms/step - loss: 0.6495 - accuracy: 0.6364 - val_loss: 0.6402 - val_accuracy: 0.7143\n",
            "Epoch 21/50\n",
            "1/1 [==============================] - 0s 32ms/step - loss: 0.6493 - accuracy: 0.6364 - val_loss: 0.6398 - val_accuracy: 0.7143\n",
            "Epoch 22/50\n",
            "1/1 [==============================] - 0s 38ms/step - loss: 0.6491 - accuracy: 0.6364 - val_loss: 0.6394 - val_accuracy: 0.7143\n",
            "Epoch 23/50\n",
            "1/1 [==============================] - 0s 26ms/step - loss: 0.6490 - accuracy: 0.6364 - val_loss: 0.6391 - val_accuracy: 0.7143\n",
            "Epoch 24/50\n",
            "1/1 [==============================] - 0s 30ms/step - loss: 0.6488 - accuracy: 0.6364 - val_loss: 0.6387 - val_accuracy: 0.7143\n",
            "Epoch 25/50\n",
            "1/1 [==============================] - 0s 28ms/step - loss: 0.6486 - accuracy: 0.6364 - val_loss: 0.6383 - val_accuracy: 0.7143\n",
            "Epoch 26/50\n",
            "1/1 [==============================] - 0s 28ms/step - loss: 0.6484 - accuracy: 0.6364 - val_loss: 0.6380 - val_accuracy: 0.7143\n",
            "Epoch 27/50\n",
            "1/1 [==============================] - 0s 26ms/step - loss: 0.6483 - accuracy: 0.6364 - val_loss: 0.6376 - val_accuracy: 0.7143\n",
            "Epoch 28/50\n",
            "1/1 [==============================] - 0s 27ms/step - loss: 0.6481 - accuracy: 0.6364 - val_loss: 0.6373 - val_accuracy: 0.7143\n",
            "Epoch 29/50\n",
            "1/1 [==============================] - 0s 27ms/step - loss: 0.6480 - accuracy: 0.6364 - val_loss: 0.6369 - val_accuracy: 0.7143\n",
            "Epoch 30/50\n",
            "1/1 [==============================] - 0s 27ms/step - loss: 0.6478 - accuracy: 0.6364 - val_loss: 0.6366 - val_accuracy: 0.7143\n",
            "Epoch 31/50\n",
            "1/1 [==============================] - 0s 37ms/step - loss: 0.6476 - accuracy: 0.6364 - val_loss: 0.6362 - val_accuracy: 0.7143\n",
            "Epoch 32/50\n",
            "1/1 [==============================] - 0s 26ms/step - loss: 0.6475 - accuracy: 0.6364 - val_loss: 0.6359 - val_accuracy: 0.7143\n",
            "Epoch 33/50\n",
            "1/1 [==============================] - 0s 27ms/step - loss: 0.6473 - accuracy: 0.6364 - val_loss: 0.6356 - val_accuracy: 0.7143\n",
            "Epoch 34/50\n",
            "1/1 [==============================] - 0s 27ms/step - loss: 0.6472 - accuracy: 0.6364 - val_loss: 0.6352 - val_accuracy: 0.7143\n",
            "Epoch 35/50\n",
            "1/1 [==============================] - 0s 27ms/step - loss: 0.6470 - accuracy: 0.6364 - val_loss: 0.6349 - val_accuracy: 0.7143\n",
            "Epoch 36/50\n",
            "1/1 [==============================] - 0s 29ms/step - loss: 0.6469 - accuracy: 0.6364 - val_loss: 0.6346 - val_accuracy: 0.7143\n",
            "Epoch 37/50\n",
            "1/1 [==============================] - 0s 31ms/step - loss: 0.6468 - accuracy: 0.6364 - val_loss: 0.6342 - val_accuracy: 0.7143\n",
            "Epoch 38/50\n",
            "1/1 [==============================] - 0s 31ms/step - loss: 0.6466 - accuracy: 0.6364 - val_loss: 0.6339 - val_accuracy: 0.7143\n",
            "Epoch 39/50\n",
            "1/1 [==============================] - 0s 30ms/step - loss: 0.6465 - accuracy: 0.6364 - val_loss: 0.6336 - val_accuracy: 0.7143\n",
            "Epoch 40/50\n",
            "1/1 [==============================] - 0s 27ms/step - loss: 0.6463 - accuracy: 0.6364 - val_loss: 0.6333 - val_accuracy: 0.7143\n",
            "Epoch 41/50\n",
            "1/1 [==============================] - 0s 27ms/step - loss: 0.6462 - accuracy: 0.6364 - val_loss: 0.6330 - val_accuracy: 0.7143\n",
            "Epoch 42/50\n",
            "1/1 [==============================] - 0s 25ms/step - loss: 0.6461 - accuracy: 0.6364 - val_loss: 0.6327 - val_accuracy: 0.7143\n",
            "Epoch 43/50\n",
            "1/1 [==============================] - 0s 32ms/step - loss: 0.6459 - accuracy: 0.6364 - val_loss: 0.6324 - val_accuracy: 0.7143\n",
            "Epoch 44/50\n",
            "1/1 [==============================] - 0s 28ms/step - loss: 0.6458 - accuracy: 0.6364 - val_loss: 0.6321 - val_accuracy: 0.7143\n",
            "Epoch 45/50\n",
            "1/1 [==============================] - 0s 30ms/step - loss: 0.6457 - accuracy: 0.6364 - val_loss: 0.6318 - val_accuracy: 0.7143\n",
            "Epoch 46/50\n",
            "1/1 [==============================] - 0s 34ms/step - loss: 0.6456 - accuracy: 0.6364 - val_loss: 0.6315 - val_accuracy: 0.7143\n",
            "Epoch 47/50\n",
            "1/1 [==============================] - 0s 32ms/step - loss: 0.6454 - accuracy: 0.6364 - val_loss: 0.6312 - val_accuracy: 0.7143\n",
            "Epoch 48/50\n",
            "1/1 [==============================] - 0s 37ms/step - loss: 0.6453 - accuracy: 0.6364 - val_loss: 0.6309 - val_accuracy: 0.7143\n",
            "Epoch 49/50\n",
            "1/1 [==============================] - 0s 29ms/step - loss: 0.6452 - accuracy: 0.6364 - val_loss: 0.6306 - val_accuracy: 0.7143\n",
            "Epoch 50/50\n",
            "1/1 [==============================] - 0s 44ms/step - loss: 0.6451 - accuracy: 0.6364 - val_loss: 0.6303 - val_accuracy: 0.7143\n"
          ]
        }
      ]
    },
    {
      "cell_type": "code",
      "metadata": {
        "id": "_kZvz5YyHOKJ",
        "colab": {
          "base_uri": "https://localhost:8080/",
          "height": 295
        },
        "outputId": "cc173641-6304-46c7-885c-88aa6500e51e"
      },
      "source": [
        "# Plotting loss & accuracy\n",
        "plt.figure()\n",
        "plt.plot(history.history['loss'])\n",
        "plt.plot(history.history['val_loss'])\n",
        "plt.title('model loss')\n",
        "plt.ylabel('loss')\n",
        "plt.xlabel('epoch')\n",
        "plt.legend(['train', 'test'], loc='best')\n",
        "plt.show()"
      ],
      "execution_count": null,
      "outputs": [
        {
          "output_type": "display_data",
          "data": {
            "image/png": "[encoded data removed]",
            "text/plain": [
              "<Figure size 432x288 with 1 Axes>"
            ]
          },
          "metadata": {
            "needs_background": "light"
          }
        }
      ]
    },
    {
      "cell_type": "code",
      "metadata": {
        "id": "uPlci8l5LBdc"
      },
      "source": [
        "# Predicting the Test set results\n",
        "y_pred = cnn.predict(X_test)\n",
        "y_pred = (y_pred > 0.5)"
      ],
      "execution_count": null,
      "outputs": []
    },
    {
      "cell_type": "code",
      "metadata": {
        "id": "VhiSb28QLDqh",
        "colab": {
          "base_uri": "https://localhost:8080/"
        },
        "outputId": "3487dc39-705c-4597-aa07-c6d0f44c6444"
      },
      "source": [
        "# Making the Confusion Matrix\n",
        "from sklearn.metrics import confusion_matrix\n",
        "cm = confusion_matrix(y_test, y_pred)\n",
        "print(cm)"
      ],
      "execution_count": null,
      "outputs": [
        {
          "output_type": "stream",
          "name": "stdout",
          "text": [
            "[[10  0]\n",
            " [ 4  0]]\n"
          ]
        }
      ]
    },
    {
      "cell_type": "code",
      "metadata": {
        "id": "0ETy_ra7LE4z",
        "colab": {
          "base_uri": "https://localhost:8080/",
          "height": 332
        },
        "outputId": "617e39a1-ea39-451a-cc34-931405a66ed5"
      },
      "source": [
        "# Visualising the Test set results\n",
        "from matplotlib.colors import ListedColormap\n",
        "X_set, y_set = X_test, y_test\n",
        "X1, X2 = np.meshgrid(np.arange(start = X_set[:, 0].min() - 1, stop = X_set[:, 0].max() + 1, step = 0.01),\n",
        "                     np.arange(start = X_set[:, 1].min() - 1, stop = X_set[:, 1].max() + 1, step = 0.01))\n",
        "plt.contourf(X1, X2, cnn.predict(np.array([X1.ravel(), X2.ravel()]).T).reshape(X1.shape),\n",
        "             alpha = 0.75, cmap = ListedColormap(('red', 'green')))\n",
        "plt.xlim(X1.min(), X1.max())\n",
        "plt.ylim(X2.min(), X2.max())\n",
        "for i, j in enumerate(np.unique(y_set)):\n",
        "    plt.scatter(X_set[y_set == j, 0], X_set[y_set == j, 1],\n",
        "                c = ListedColormap(('red', 'green'))(i), label = j)\n",
        "plt.title('NN (Test set)')\n",
        "plt.xlabel('Square')\n",
        "plt.ylabel('Succcess')\n",
        "plt.legend()\n",
        "plt.show()"
      ],
      "execution_count": null,
      "outputs": [
        {
          "output_type": "stream",
          "name": "stderr",
          "text": [
            "*c* argument looks like a single numeric RGB or RGBA sequence, which should be avoided as value-mapping will have precedence in case its length matches with *x* & *y*.  Please use the *color* keyword-argument or provide a 2-D array with a single row if you intend to specify the same RGB or RGBA value for all points.\n"
          ]
        },
        {
          "output_type": "display_data",
          "data": {
            "image/png": "[encoded data removed]",
            "text/plain": [
              "<Figure size 432x288 with 1 Axes>"
            ]
          },
          "metadata": {
            "needs_background": "light"
          }
        }
      ]
    },
    {
      "cell_type": "code",
      "metadata": {
        "id": "o2-1-AswNSPp"
      },
      "source": [
        "#можно сказать, что результаты нейронной классификации предельно схожи с результатами того, что мы уже получили. \n",
        "#По сути, мы подтверждаем наши догадки в решении данной задачи о недостаточной объясняемости распределения на успех/не успех на имеющихся и возможных для использования данных"
      ],
      "execution_count": null,
      "outputs": []
    },
    {
      "cell_type": "code",
      "metadata": {
        "id": "6FRqwc3XOE2J"
      },
      "source": [
        ""
      ],
      "execution_count": null,
      "outputs": []
    }
  ]
}