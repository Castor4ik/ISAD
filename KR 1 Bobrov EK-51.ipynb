{
 "cells": [
  {
   "cell_type": "code",
   "execution_count": 536,
   "metadata": {},
   "outputs": [],
   "source": [
    "import numpy as np\n",
    "import matplotlib.pyplot as plt\n",
    "import pandas as pd"
   ]
  },
  {
   "cell_type": "code",
   "execution_count": 537,
   "metadata": {},
   "outputs": [
    {
     "data": {
      "text/html": [
       "<div>\n",
       "<style scoped>\n",
       "    .dataframe tbody tr th:only-of-type {\n",
       "        vertical-align: middle;\n",
       "    }\n",
       "\n",
       "    .dataframe tbody tr th {\n",
       "        vertical-align: top;\n",
       "    }\n",
       "\n",
       "    .dataframe thead th {\n",
       "        text-align: right;\n",
       "    }\n",
       "</style>\n",
       "<table border=\"1\" class=\"dataframe\">\n",
       "  <thead>\n",
       "    <tr style=\"text-align: right;\">\n",
       "      <th></th>\n",
       "      <th>Площадь загальна кв.м</th>\n",
       "      <th>Этаж</th>\n",
       "      <th>Количество сотрудников в магазине</th>\n",
       "      <th>Тип</th>\n",
       "      <th>Кількість відгуків в гуглі</th>\n",
       "      <th>Количество чеков</th>\n",
       "      <th>Среднее количество единиц в чеке</th>\n",
       "      <th>Населення</th>\n",
       "      <th>Середній дохід наелення,грн</th>\n",
       "      <th>Магазин мобільного звязку</th>\n",
       "      <th>Продуктовий ринок</th>\n",
       "      <th>Речовий ринок</th>\n",
       "      <th>Транзитна зупинка міжміського ГТ</th>\n",
       "      <th>Зупинка ГТ</th>\n",
       "    </tr>\n",
       "  </thead>\n",
       "  <tbody>\n",
       "    <tr>\n",
       "      <th>0</th>\n",
       "      <td>9.00</td>\n",
       "      <td>1</td>\n",
       "      <td>1</td>\n",
       "      <td>Соціальний</td>\n",
       "      <td>NaN</td>\n",
       "      <td>571.0</td>\n",
       "      <td>1.56</td>\n",
       "      <td>108.0</td>\n",
       "      <td>13884.0</td>\n",
       "      <td>0</td>\n",
       "      <td>0</td>\n",
       "      <td>0</td>\n",
       "      <td>0</td>\n",
       "      <td>1</td>\n",
       "    </tr>\n",
       "    <tr>\n",
       "      <th>1</th>\n",
       "      <td>30.00</td>\n",
       "      <td>1</td>\n",
       "      <td>1</td>\n",
       "      <td>Соціальний</td>\n",
       "      <td>8.0</td>\n",
       "      <td>1197.0</td>\n",
       "      <td>2.03</td>\n",
       "      <td>750.0</td>\n",
       "      <td>11700.0</td>\n",
       "      <td>0</td>\n",
       "      <td>0</td>\n",
       "      <td>0</td>\n",
       "      <td>1</td>\n",
       "      <td>1</td>\n",
       "    </tr>\n",
       "    <tr>\n",
       "      <th>2</th>\n",
       "      <td>15.00</td>\n",
       "      <td>1</td>\n",
       "      <td>1</td>\n",
       "      <td>Соціальний</td>\n",
       "      <td>NaN</td>\n",
       "      <td>402.0</td>\n",
       "      <td>1.81</td>\n",
       "      <td>0.0</td>\n",
       "      <td>6786.0</td>\n",
       "      <td>0</td>\n",
       "      <td>0</td>\n",
       "      <td>0</td>\n",
       "      <td>1</td>\n",
       "      <td>1</td>\n",
       "    </tr>\n",
       "    <tr>\n",
       "      <th>3</th>\n",
       "      <td>20.00</td>\n",
       "      <td>1</td>\n",
       "      <td>1</td>\n",
       "      <td>Стандартний</td>\n",
       "      <td>NaN</td>\n",
       "      <td>1036.0</td>\n",
       "      <td>2.18</td>\n",
       "      <td>0.0</td>\n",
       "      <td>12948.0</td>\n",
       "      <td>0</td>\n",
       "      <td>0</td>\n",
       "      <td>0</td>\n",
       "      <td>1</td>\n",
       "      <td>1</td>\n",
       "    </tr>\n",
       "    <tr>\n",
       "      <th>4</th>\n",
       "      <td>30.00</td>\n",
       "      <td>1</td>\n",
       "      <td>1</td>\n",
       "      <td>Соціальний</td>\n",
       "      <td>NaN</td>\n",
       "      <td>513.0</td>\n",
       "      <td>1.63</td>\n",
       "      <td>0.0</td>\n",
       "      <td>11427.0</td>\n",
       "      <td>0</td>\n",
       "      <td>0</td>\n",
       "      <td>0</td>\n",
       "      <td>0</td>\n",
       "      <td>0</td>\n",
       "    </tr>\n",
       "    <tr>\n",
       "      <th>...</th>\n",
       "      <td>...</td>\n",
       "      <td>...</td>\n",
       "      <td>...</td>\n",
       "      <td>...</td>\n",
       "      <td>...</td>\n",
       "      <td>...</td>\n",
       "      <td>...</td>\n",
       "      <td>...</td>\n",
       "      <td>...</td>\n",
       "      <td>...</td>\n",
       "      <td>...</td>\n",
       "      <td>...</td>\n",
       "      <td>...</td>\n",
       "      <td>...</td>\n",
       "    </tr>\n",
       "    <tr>\n",
       "      <th>64</th>\n",
       "      <td>51.77</td>\n",
       "      <td>1</td>\n",
       "      <td>3</td>\n",
       "      <td>Преміальний</td>\n",
       "      <td>4.0</td>\n",
       "      <td>6669.0</td>\n",
       "      <td>1.89</td>\n",
       "      <td>963.0</td>\n",
       "      <td>9399.0</td>\n",
       "      <td>0</td>\n",
       "      <td>0</td>\n",
       "      <td>0</td>\n",
       "      <td>0</td>\n",
       "      <td>0</td>\n",
       "    </tr>\n",
       "    <tr>\n",
       "      <th>65</th>\n",
       "      <td>27.26</td>\n",
       "      <td>1</td>\n",
       "      <td>2</td>\n",
       "      <td>Преміальний</td>\n",
       "      <td>3.0</td>\n",
       "      <td>2877.0</td>\n",
       "      <td>1.85</td>\n",
       "      <td>0.0</td>\n",
       "      <td>14079.0</td>\n",
       "      <td>0</td>\n",
       "      <td>1</td>\n",
       "      <td>1</td>\n",
       "      <td>0</td>\n",
       "      <td>0</td>\n",
       "    </tr>\n",
       "    <tr>\n",
       "      <th>66</th>\n",
       "      <td>148.91</td>\n",
       "      <td>1</td>\n",
       "      <td>1</td>\n",
       "      <td>Стандартний</td>\n",
       "      <td>12.0</td>\n",
       "      <td>2146.0</td>\n",
       "      <td>1.99</td>\n",
       "      <td>315.0</td>\n",
       "      <td>11427.0</td>\n",
       "      <td>0</td>\n",
       "      <td>0</td>\n",
       "      <td>0</td>\n",
       "      <td>0</td>\n",
       "      <td>0</td>\n",
       "    </tr>\n",
       "    <tr>\n",
       "      <th>67</th>\n",
       "      <td>50.93</td>\n",
       "      <td>1</td>\n",
       "      <td>2</td>\n",
       "      <td>Соціальний</td>\n",
       "      <td>17.0</td>\n",
       "      <td>413.0</td>\n",
       "      <td>1.73</td>\n",
       "      <td>0.0</td>\n",
       "      <td>13338.0</td>\n",
       "      <td>0</td>\n",
       "      <td>1</td>\n",
       "      <td>1</td>\n",
       "      <td>0</td>\n",
       "      <td>0</td>\n",
       "    </tr>\n",
       "    <tr>\n",
       "      <th>68</th>\n",
       "      <td>30.00</td>\n",
       "      <td>1</td>\n",
       "      <td>2</td>\n",
       "      <td>Преміальний</td>\n",
       "      <td>12.0</td>\n",
       "      <td>3156.0</td>\n",
       "      <td>2.13</td>\n",
       "      <td>678.0</td>\n",
       "      <td>10296.0</td>\n",
       "      <td>0</td>\n",
       "      <td>0</td>\n",
       "      <td>0</td>\n",
       "      <td>0</td>\n",
       "      <td>0</td>\n",
       "    </tr>\n",
       "  </tbody>\n",
       "</table>\n",
       "<p>69 rows × 14 columns</p>\n",
       "</div>"
      ],
      "text/plain": [
       "    Площадь загальна кв.м  Этаж  Количество сотрудников в магазине   \\\n",
       "0                    9.00     1                                   1   \n",
       "1                   30.00     1                                   1   \n",
       "2                   15.00     1                                   1   \n",
       "3                   20.00     1                                   1   \n",
       "4                   30.00     1                                   1   \n",
       "..                    ...   ...                                 ...   \n",
       "64                  51.77     1                                   3   \n",
       "65                  27.26     1                                   2   \n",
       "66                 148.91     1                                   1   \n",
       "67                  50.93     1                                   2   \n",
       "68                  30.00     1                                   2   \n",
       "\n",
       "            Тип  Кількість відгуків в гуглі  Количество чеков  \\\n",
       "0    Соціальний                         NaN             571.0   \n",
       "1    Соціальний                         8.0            1197.0   \n",
       "2    Соціальний                         NaN             402.0   \n",
       "3   Стандартний                         NaN            1036.0   \n",
       "4    Соціальний                         NaN             513.0   \n",
       "..          ...                         ...               ...   \n",
       "64  Преміальний                         4.0            6669.0   \n",
       "65  Преміальний                         3.0            2877.0   \n",
       "66  Стандартний                        12.0            2146.0   \n",
       "67   Соціальний                        17.0             413.0   \n",
       "68  Преміальний                        12.0            3156.0   \n",
       "\n",
       "    Среднее количество единиц в чеке  Населення  Середній дохід наелення,грн  \\\n",
       "0                               1.56      108.0                      13884.0   \n",
       "1                               2.03      750.0                      11700.0   \n",
       "2                               1.81        0.0                       6786.0   \n",
       "3                               2.18        0.0                      12948.0   \n",
       "4                               1.63        0.0                      11427.0   \n",
       "..                               ...        ...                          ...   \n",
       "64                              1.89      963.0                       9399.0   \n",
       "65                              1.85        0.0                      14079.0   \n",
       "66                              1.99      315.0                      11427.0   \n",
       "67                              1.73        0.0                      13338.0   \n",
       "68                              2.13      678.0                      10296.0   \n",
       "\n",
       "    Магазин мобільного звязку  Продуктовий ринок  Речовий ринок  \\\n",
       "0                           0                  0              0   \n",
       "1                           0                  0              0   \n",
       "2                           0                  0              0   \n",
       "3                           0                  0              0   \n",
       "4                           0                  0              0   \n",
       "..                        ...                ...            ...   \n",
       "64                          0                  0              0   \n",
       "65                          0                  1              1   \n",
       "66                          0                  0              0   \n",
       "67                          0                  1              1   \n",
       "68                          0                  0              0   \n",
       "\n",
       "    Транзитна зупинка міжміського ГТ  Зупинка ГТ  \n",
       "0                                  0           1  \n",
       "1                                  1           1  \n",
       "2                                  1           1  \n",
       "3                                  1           1  \n",
       "4                                  0           0  \n",
       "..                               ...         ...  \n",
       "64                                 0           0  \n",
       "65                                 0           0  \n",
       "66                                 0           0  \n",
       "67                                 0           0  \n",
       "68                                 0           0  \n",
       "\n",
       "[69 rows x 14 columns]"
      ]
     },
     "execution_count": 537,
     "metadata": {},
     "output_type": "execute_result"
    }
   ],
   "source": [
    "df = pd.read_excel('КР-1.xlsx', sheet_name='Вар (1)')\n",
    "df"
   ]
  },
  {
   "cell_type": "code",
   "execution_count": 538,
   "metadata": {},
   "outputs": [
    {
     "data": {
      "text/plain": [
       "Площадь загальна кв.м                  0\n",
       "Этаж                                   0\n",
       "Количество сотрудников в магазине      0\n",
       "Тип                                    0\n",
       "Кількість відгуків в гуглі            30\n",
       "Количество чеков                       0\n",
       "Среднее количество единиц в чеке       7\n",
       "Населення                              5\n",
       "Середній дохід наелення,грн            5\n",
       "Магазин мобільного звязку              0\n",
       "Продуктовий ринок                      0\n",
       "Речовий ринок                          0\n",
       "Транзитна зупинка міжміського ГТ       0\n",
       "Зупинка ГТ                             0\n",
       "dtype: int64"
      ]
     },
     "execution_count": 538,
     "metadata": {},
     "output_type": "execute_result"
    }
   ],
   "source": [
    "df.isna().sum()"
   ]
  },
  {
   "cell_type": "code",
   "execution_count": 539,
   "metadata": {},
   "outputs": [],
   "source": [
    "#!pip install sklearn"
   ]
  },
  {
   "cell_type": "code",
   "execution_count": 540,
   "metadata": {},
   "outputs": [],
   "source": [
    "dfm = df\n",
    "\n",
    "from sklearn.impute import SimpleImputer\n",
    "#numeric\n",
    "'''SimpleImputer - класс\n",
    "imputer_mean - экземпляр\n",
    "fit - метод класса'''\n",
    "\n",
    "imputer_mean = SimpleImputer(missing_values=np.nan, strategy='mean')\n",
    "dfm[['Кількість відгуків в гуглі']] = imputer_mean.fit_transform(dfm[['Кількість відгуків в гуглі']]).round()\n",
    "\n",
    "imputer_mean = SimpleImputer(missing_values=np.nan, strategy='mean')\n",
    "dfm[['Среднее количество единиц в чеке']] = imputer_mean.fit_transform(dfm[['Среднее количество единиц в чеке']]).round()\n",
    "\n",
    "imputer_mean = SimpleImputer(missing_values=np.nan, strategy='mean')\n",
    "dfm[['Населення']] = imputer_mean.fit_transform(dfm[['Населення']]).round()\n",
    "\n",
    "imputer_mean = SimpleImputer(missing_values=np.nan, strategy='mean')\n",
    "dfm[['Середній дохід наелення,грн']] = imputer_mean.fit_transform(dfm[['Середній дохід наелення,грн']]).round()"
   ]
  },
  {
   "cell_type": "code",
   "execution_count": 541,
   "metadata": {},
   "outputs": [
    {
     "data": {
      "text/html": [
       "<div>\n",
       "<style scoped>\n",
       "    .dataframe tbody tr th:only-of-type {\n",
       "        vertical-align: middle;\n",
       "    }\n",
       "\n",
       "    .dataframe tbody tr th {\n",
       "        vertical-align: top;\n",
       "    }\n",
       "\n",
       "    .dataframe thead th {\n",
       "        text-align: right;\n",
       "    }\n",
       "</style>\n",
       "<table border=\"1\" class=\"dataframe\">\n",
       "  <thead>\n",
       "    <tr style=\"text-align: right;\">\n",
       "      <th></th>\n",
       "      <th>Площадь загальна кв.м</th>\n",
       "      <th>Этаж</th>\n",
       "      <th>Количество сотрудников в магазине</th>\n",
       "      <th>Кількість відгуків в гуглі</th>\n",
       "      <th>Количество чеков</th>\n",
       "      <th>Среднее количество единиц в чеке</th>\n",
       "      <th>Населення</th>\n",
       "      <th>Середній дохід наелення,грн</th>\n",
       "      <th>Магазин мобільного звязку</th>\n",
       "      <th>Продуктовий ринок</th>\n",
       "      <th>Речовий ринок</th>\n",
       "      <th>Транзитна зупинка міжміського ГТ</th>\n",
       "      <th>Зупинка ГТ</th>\n",
       "    </tr>\n",
       "  </thead>\n",
       "  <tbody>\n",
       "    <tr>\n",
       "      <th>count</th>\n",
       "      <td>69.000000</td>\n",
       "      <td>69.0</td>\n",
       "      <td>69.000000</td>\n",
       "      <td>69.000000</td>\n",
       "      <td>69.000000</td>\n",
       "      <td>69.000000</td>\n",
       "      <td>69.000000</td>\n",
       "      <td>69.000000</td>\n",
       "      <td>69.000000</td>\n",
       "      <td>69.000000</td>\n",
       "      <td>69.000000</td>\n",
       "      <td>69.000000</td>\n",
       "      <td>69.000000</td>\n",
       "    </tr>\n",
       "    <tr>\n",
       "      <th>mean</th>\n",
       "      <td>47.412725</td>\n",
       "      <td>1.0</td>\n",
       "      <td>1.869565</td>\n",
       "      <td>42.898551</td>\n",
       "      <td>3021.576882</td>\n",
       "      <td>1.971014</td>\n",
       "      <td>295.956522</td>\n",
       "      <td>11306.855072</td>\n",
       "      <td>0.057971</td>\n",
       "      <td>0.173913</td>\n",
       "      <td>0.130435</td>\n",
       "      <td>0.101449</td>\n",
       "      <td>0.362319</td>\n",
       "    </tr>\n",
       "    <tr>\n",
       "      <th>std</th>\n",
       "      <td>37.862989</td>\n",
       "      <td>0.0</td>\n",
       "      <td>0.838645</td>\n",
       "      <td>61.280489</td>\n",
       "      <td>1904.285820</td>\n",
       "      <td>0.240772</td>\n",
       "      <td>310.467836</td>\n",
       "      <td>2347.336283</td>\n",
       "      <td>0.235401</td>\n",
       "      <td>0.381812</td>\n",
       "      <td>0.339248</td>\n",
       "      <td>0.304135</td>\n",
       "      <td>0.484192</td>\n",
       "    </tr>\n",
       "    <tr>\n",
       "      <th>min</th>\n",
       "      <td>4.000000</td>\n",
       "      <td>1.0</td>\n",
       "      <td>1.000000</td>\n",
       "      <td>1.000000</td>\n",
       "      <td>369.000000</td>\n",
       "      <td>1.000000</td>\n",
       "      <td>0.000000</td>\n",
       "      <td>0.000000</td>\n",
       "      <td>0.000000</td>\n",
       "      <td>0.000000</td>\n",
       "      <td>0.000000</td>\n",
       "      <td>0.000000</td>\n",
       "      <td>0.000000</td>\n",
       "    </tr>\n",
       "    <tr>\n",
       "      <th>25%</th>\n",
       "      <td>26.720000</td>\n",
       "      <td>1.0</td>\n",
       "      <td>1.000000</td>\n",
       "      <td>12.000000</td>\n",
       "      <td>1651.000000</td>\n",
       "      <td>2.000000</td>\n",
       "      <td>0.000000</td>\n",
       "      <td>10296.000000</td>\n",
       "      <td>0.000000</td>\n",
       "      <td>0.000000</td>\n",
       "      <td>0.000000</td>\n",
       "      <td>0.000000</td>\n",
       "      <td>0.000000</td>\n",
       "    </tr>\n",
       "    <tr>\n",
       "      <th>50%</th>\n",
       "      <td>32.300000</td>\n",
       "      <td>1.0</td>\n",
       "      <td>2.000000</td>\n",
       "      <td>43.000000</td>\n",
       "      <td>2679.000000</td>\n",
       "      <td>2.000000</td>\n",
       "      <td>253.000000</td>\n",
       "      <td>11427.000000</td>\n",
       "      <td>0.000000</td>\n",
       "      <td>0.000000</td>\n",
       "      <td>0.000000</td>\n",
       "      <td>0.000000</td>\n",
       "      <td>0.000000</td>\n",
       "    </tr>\n",
       "    <tr>\n",
       "      <th>75%</th>\n",
       "      <td>56.240000</td>\n",
       "      <td>1.0</td>\n",
       "      <td>2.000000</td>\n",
       "      <td>43.000000</td>\n",
       "      <td>3826.000000</td>\n",
       "      <td>2.000000</td>\n",
       "      <td>545.000000</td>\n",
       "      <td>12948.000000</td>\n",
       "      <td>0.000000</td>\n",
       "      <td>0.000000</td>\n",
       "      <td>0.000000</td>\n",
       "      <td>0.000000</td>\n",
       "      <td>1.000000</td>\n",
       "    </tr>\n",
       "    <tr>\n",
       "      <th>max</th>\n",
       "      <td>232.300000</td>\n",
       "      <td>1.0</td>\n",
       "      <td>4.000000</td>\n",
       "      <td>367.000000</td>\n",
       "      <td>7852.000000</td>\n",
       "      <td>3.000000</td>\n",
       "      <td>963.000000</td>\n",
       "      <td>14937.000000</td>\n",
       "      <td>1.000000</td>\n",
       "      <td>1.000000</td>\n",
       "      <td>1.000000</td>\n",
       "      <td>1.000000</td>\n",
       "      <td>1.000000</td>\n",
       "    </tr>\n",
       "  </tbody>\n",
       "</table>\n",
       "</div>"
      ],
      "text/plain": [
       "       Площадь загальна кв.м  Этаж  Количество сотрудников в магазине   \\\n",
       "count              69.000000  69.0                           69.000000   \n",
       "mean               47.412725   1.0                            1.869565   \n",
       "std                37.862989   0.0                            0.838645   \n",
       "min                 4.000000   1.0                            1.000000   \n",
       "25%                26.720000   1.0                            1.000000   \n",
       "50%                32.300000   1.0                            2.000000   \n",
       "75%                56.240000   1.0                            2.000000   \n",
       "max               232.300000   1.0                            4.000000   \n",
       "\n",
       "       Кількість відгуків в гуглі  Количество чеков  \\\n",
       "count                   69.000000         69.000000   \n",
       "mean                    42.898551       3021.576882   \n",
       "std                     61.280489       1904.285820   \n",
       "min                      1.000000        369.000000   \n",
       "25%                     12.000000       1651.000000   \n",
       "50%                     43.000000       2679.000000   \n",
       "75%                     43.000000       3826.000000   \n",
       "max                    367.000000       7852.000000   \n",
       "\n",
       "       Среднее количество единиц в чеке   Населення  \\\n",
       "count                         69.000000   69.000000   \n",
       "mean                           1.971014  295.956522   \n",
       "std                            0.240772  310.467836   \n",
       "min                            1.000000    0.000000   \n",
       "25%                            2.000000    0.000000   \n",
       "50%                            2.000000  253.000000   \n",
       "75%                            2.000000  545.000000   \n",
       "max                            3.000000  963.000000   \n",
       "\n",
       "       Середній дохід наелення,грн  Магазин мобільного звязку  \\\n",
       "count                    69.000000                  69.000000   \n",
       "mean                  11306.855072                   0.057971   \n",
       "std                    2347.336283                   0.235401   \n",
       "min                       0.000000                   0.000000   \n",
       "25%                   10296.000000                   0.000000   \n",
       "50%                   11427.000000                   0.000000   \n",
       "75%                   12948.000000                   0.000000   \n",
       "max                   14937.000000                   1.000000   \n",
       "\n",
       "       Продуктовий ринок  Речовий ринок  Транзитна зупинка міжміського ГТ  \\\n",
       "count          69.000000      69.000000                         69.000000   \n",
       "mean            0.173913       0.130435                          0.101449   \n",
       "std             0.381812       0.339248                          0.304135   \n",
       "min             0.000000       0.000000                          0.000000   \n",
       "25%             0.000000       0.000000                          0.000000   \n",
       "50%             0.000000       0.000000                          0.000000   \n",
       "75%             0.000000       0.000000                          0.000000   \n",
       "max             1.000000       1.000000                          1.000000   \n",
       "\n",
       "       Зупинка ГТ  \n",
       "count   69.000000  \n",
       "mean     0.362319  \n",
       "std      0.484192  \n",
       "min      0.000000  \n",
       "25%      0.000000  \n",
       "50%      0.000000  \n",
       "75%      1.000000  \n",
       "max      1.000000  "
      ]
     },
     "execution_count": 541,
     "metadata": {},
     "output_type": "execute_result"
    }
   ],
   "source": [
    "df.describe()"
   ]
  },
  {
   "cell_type": "code",
   "execution_count": 542,
   "metadata": {},
   "outputs": [],
   "source": [
    "df.rename(columns={'Площадь загальна кв.м': 'square'}, inplace=True)\n",
    "df.rename(columns={'Этаж': 'floor'}, inplace=True)\n",
    "df.rename(columns={'Количество чеков': 'receipt'}, inplace=True)\n",
    "df.rename(columns={'Кількість відгуків в гуглі': 'Google_marks'}, inplace=True)\n",
    "df.rename(columns={'Среднее количество единиц в чеке': 'midQ_receipt'}, inplace=True)\n",
    "df.rename(columns={'Населення': 'People'}, inplace=True)\n",
    "df.rename(columns={'Середній дохід наелення,грн': 'mid_income'}, inplace=True)\n",
    "df.rename(columns={'Магазин мобільного звязку': 'mobile'}, inplace=True)\n",
    "df.rename(columns={'Продуктовий ринок': 'food_market'}, inplace=True)\n",
    "df.rename(columns={'Речовий ринок': 'product_market'}, inplace=True)\n",
    "df.rename(columns={'Транзитна зупинка міжміського ГТ': 'int_stop'}, inplace=True)\n",
    "df.rename(columns={'Зупинка ГТ': 'city_stop'}, inplace=True)\n",
    "df.rename(columns={'Тип': 'type'}, inplace=True)\n",
    "df.rename(columns={'Количество сотрудников в магазине ': 'ds'}, inplace=True)"
   ]
  },
  {
   "cell_type": "code",
   "execution_count": 543,
   "metadata": {
    "scrolled": true
   },
   "outputs": [
    {
     "data": {
      "text/html": [
       "<div>\n",
       "<style scoped>\n",
       "    .dataframe tbody tr th:only-of-type {\n",
       "        vertical-align: middle;\n",
       "    }\n",
       "\n",
       "    .dataframe tbody tr th {\n",
       "        vertical-align: top;\n",
       "    }\n",
       "\n",
       "    .dataframe thead th {\n",
       "        text-align: right;\n",
       "    }\n",
       "</style>\n",
       "<table border=\"1\" class=\"dataframe\">\n",
       "  <thead>\n",
       "    <tr style=\"text-align: right;\">\n",
       "      <th></th>\n",
       "      <th>square</th>\n",
       "      <th>floor</th>\n",
       "      <th>ds</th>\n",
       "      <th>type</th>\n",
       "      <th>Google_marks</th>\n",
       "      <th>receipt</th>\n",
       "      <th>midQ_receipt</th>\n",
       "      <th>People</th>\n",
       "      <th>mid_income</th>\n",
       "      <th>mobile</th>\n",
       "      <th>food_market</th>\n",
       "      <th>product_market</th>\n",
       "      <th>int_stop</th>\n",
       "      <th>city_stop</th>\n",
       "    </tr>\n",
       "  </thead>\n",
       "  <tbody>\n",
       "    <tr>\n",
       "      <th>0</th>\n",
       "      <td>9.00</td>\n",
       "      <td>1</td>\n",
       "      <td>1</td>\n",
       "      <td>Соціальний</td>\n",
       "      <td>43.0</td>\n",
       "      <td>571.0</td>\n",
       "      <td>2.0</td>\n",
       "      <td>108.0</td>\n",
       "      <td>13884.0</td>\n",
       "      <td>0</td>\n",
       "      <td>0</td>\n",
       "      <td>0</td>\n",
       "      <td>0</td>\n",
       "      <td>1</td>\n",
       "    </tr>\n",
       "    <tr>\n",
       "      <th>1</th>\n",
       "      <td>30.00</td>\n",
       "      <td>1</td>\n",
       "      <td>1</td>\n",
       "      <td>Соціальний</td>\n",
       "      <td>8.0</td>\n",
       "      <td>1197.0</td>\n",
       "      <td>2.0</td>\n",
       "      <td>750.0</td>\n",
       "      <td>11700.0</td>\n",
       "      <td>0</td>\n",
       "      <td>0</td>\n",
       "      <td>0</td>\n",
       "      <td>1</td>\n",
       "      <td>1</td>\n",
       "    </tr>\n",
       "    <tr>\n",
       "      <th>2</th>\n",
       "      <td>15.00</td>\n",
       "      <td>1</td>\n",
       "      <td>1</td>\n",
       "      <td>Соціальний</td>\n",
       "      <td>43.0</td>\n",
       "      <td>402.0</td>\n",
       "      <td>2.0</td>\n",
       "      <td>0.0</td>\n",
       "      <td>6786.0</td>\n",
       "      <td>0</td>\n",
       "      <td>0</td>\n",
       "      <td>0</td>\n",
       "      <td>1</td>\n",
       "      <td>1</td>\n",
       "    </tr>\n",
       "    <tr>\n",
       "      <th>3</th>\n",
       "      <td>20.00</td>\n",
       "      <td>1</td>\n",
       "      <td>1</td>\n",
       "      <td>Стандартний</td>\n",
       "      <td>43.0</td>\n",
       "      <td>1036.0</td>\n",
       "      <td>2.0</td>\n",
       "      <td>0.0</td>\n",
       "      <td>12948.0</td>\n",
       "      <td>0</td>\n",
       "      <td>0</td>\n",
       "      <td>0</td>\n",
       "      <td>1</td>\n",
       "      <td>1</td>\n",
       "    </tr>\n",
       "    <tr>\n",
       "      <th>4</th>\n",
       "      <td>30.00</td>\n",
       "      <td>1</td>\n",
       "      <td>1</td>\n",
       "      <td>Соціальний</td>\n",
       "      <td>43.0</td>\n",
       "      <td>513.0</td>\n",
       "      <td>2.0</td>\n",
       "      <td>0.0</td>\n",
       "      <td>11427.0</td>\n",
       "      <td>0</td>\n",
       "      <td>0</td>\n",
       "      <td>0</td>\n",
       "      <td>0</td>\n",
       "      <td>0</td>\n",
       "    </tr>\n",
       "    <tr>\n",
       "      <th>...</th>\n",
       "      <td>...</td>\n",
       "      <td>...</td>\n",
       "      <td>...</td>\n",
       "      <td>...</td>\n",
       "      <td>...</td>\n",
       "      <td>...</td>\n",
       "      <td>...</td>\n",
       "      <td>...</td>\n",
       "      <td>...</td>\n",
       "      <td>...</td>\n",
       "      <td>...</td>\n",
       "      <td>...</td>\n",
       "      <td>...</td>\n",
       "      <td>...</td>\n",
       "    </tr>\n",
       "    <tr>\n",
       "      <th>64</th>\n",
       "      <td>51.77</td>\n",
       "      <td>1</td>\n",
       "      <td>3</td>\n",
       "      <td>Преміальний</td>\n",
       "      <td>4.0</td>\n",
       "      <td>6669.0</td>\n",
       "      <td>2.0</td>\n",
       "      <td>963.0</td>\n",
       "      <td>9399.0</td>\n",
       "      <td>0</td>\n",
       "      <td>0</td>\n",
       "      <td>0</td>\n",
       "      <td>0</td>\n",
       "      <td>0</td>\n",
       "    </tr>\n",
       "    <tr>\n",
       "      <th>65</th>\n",
       "      <td>27.26</td>\n",
       "      <td>1</td>\n",
       "      <td>2</td>\n",
       "      <td>Преміальний</td>\n",
       "      <td>3.0</td>\n",
       "      <td>2877.0</td>\n",
       "      <td>2.0</td>\n",
       "      <td>0.0</td>\n",
       "      <td>14079.0</td>\n",
       "      <td>0</td>\n",
       "      <td>1</td>\n",
       "      <td>1</td>\n",
       "      <td>0</td>\n",
       "      <td>0</td>\n",
       "    </tr>\n",
       "    <tr>\n",
       "      <th>66</th>\n",
       "      <td>148.91</td>\n",
       "      <td>1</td>\n",
       "      <td>1</td>\n",
       "      <td>Стандартний</td>\n",
       "      <td>12.0</td>\n",
       "      <td>2146.0</td>\n",
       "      <td>2.0</td>\n",
       "      <td>315.0</td>\n",
       "      <td>11427.0</td>\n",
       "      <td>0</td>\n",
       "      <td>0</td>\n",
       "      <td>0</td>\n",
       "      <td>0</td>\n",
       "      <td>0</td>\n",
       "    </tr>\n",
       "    <tr>\n",
       "      <th>67</th>\n",
       "      <td>50.93</td>\n",
       "      <td>1</td>\n",
       "      <td>2</td>\n",
       "      <td>Соціальний</td>\n",
       "      <td>17.0</td>\n",
       "      <td>413.0</td>\n",
       "      <td>2.0</td>\n",
       "      <td>0.0</td>\n",
       "      <td>13338.0</td>\n",
       "      <td>0</td>\n",
       "      <td>1</td>\n",
       "      <td>1</td>\n",
       "      <td>0</td>\n",
       "      <td>0</td>\n",
       "    </tr>\n",
       "    <tr>\n",
       "      <th>68</th>\n",
       "      <td>30.00</td>\n",
       "      <td>1</td>\n",
       "      <td>2</td>\n",
       "      <td>Преміальний</td>\n",
       "      <td>12.0</td>\n",
       "      <td>3156.0</td>\n",
       "      <td>2.0</td>\n",
       "      <td>678.0</td>\n",
       "      <td>10296.0</td>\n",
       "      <td>0</td>\n",
       "      <td>0</td>\n",
       "      <td>0</td>\n",
       "      <td>0</td>\n",
       "      <td>0</td>\n",
       "    </tr>\n",
       "  </tbody>\n",
       "</table>\n",
       "<p>69 rows × 14 columns</p>\n",
       "</div>"
      ],
      "text/plain": [
       "    square  floor  ds         type  Google_marks  receipt  midQ_receipt  \\\n",
       "0     9.00      1   1   Соціальний          43.0    571.0           2.0   \n",
       "1    30.00      1   1   Соціальний           8.0   1197.0           2.0   \n",
       "2    15.00      1   1   Соціальний          43.0    402.0           2.0   \n",
       "3    20.00      1   1  Стандартний          43.0   1036.0           2.0   \n",
       "4    30.00      1   1   Соціальний          43.0    513.0           2.0   \n",
       "..     ...    ...  ..          ...           ...      ...           ...   \n",
       "64   51.77      1   3  Преміальний           4.0   6669.0           2.0   \n",
       "65   27.26      1   2  Преміальний           3.0   2877.0           2.0   \n",
       "66  148.91      1   1  Стандартний          12.0   2146.0           2.0   \n",
       "67   50.93      1   2   Соціальний          17.0    413.0           2.0   \n",
       "68   30.00      1   2  Преміальний          12.0   3156.0           2.0   \n",
       "\n",
       "    People  mid_income  mobile  food_market  product_market  int_stop  \\\n",
       "0    108.0     13884.0       0            0               0         0   \n",
       "1    750.0     11700.0       0            0               0         1   \n",
       "2      0.0      6786.0       0            0               0         1   \n",
       "3      0.0     12948.0       0            0               0         1   \n",
       "4      0.0     11427.0       0            0               0         0   \n",
       "..     ...         ...     ...          ...             ...       ...   \n",
       "64   963.0      9399.0       0            0               0         0   \n",
       "65     0.0     14079.0       0            1               1         0   \n",
       "66   315.0     11427.0       0            0               0         0   \n",
       "67     0.0     13338.0       0            1               1         0   \n",
       "68   678.0     10296.0       0            0               0         0   \n",
       "\n",
       "    city_stop  \n",
       "0           1  \n",
       "1           1  \n",
       "2           1  \n",
       "3           1  \n",
       "4           0  \n",
       "..        ...  \n",
       "64          0  \n",
       "65          0  \n",
       "66          0  \n",
       "67          0  \n",
       "68          0  \n",
       "\n",
       "[69 rows x 14 columns]"
      ]
     },
     "execution_count": 543,
     "metadata": {},
     "output_type": "execute_result"
    }
   ],
   "source": [
    "df"
   ]
  },
  {
   "cell_type": "code",
   "execution_count": 544,
   "metadata": {
    "scrolled": true
   },
   "outputs": [
    {
     "data": {
      "text/plain": [
       "square            float64\n",
       "floor               int64\n",
       "ds                  int64\n",
       "type               object\n",
       "Google_marks      float64\n",
       "receipt           float64\n",
       "midQ_receipt      float64\n",
       "People            float64\n",
       "mid_income        float64\n",
       "mobile              int64\n",
       "food_market         int64\n",
       "product_market      int64\n",
       "int_stop            int64\n",
       "city_stop           int64\n",
       "dtype: object"
      ]
     },
     "execution_count": 544,
     "metadata": {},
     "output_type": "execute_result"
    }
   ],
   "source": [
    "df.dtypes"
   ]
  },
  {
   "cell_type": "code",
   "execution_count": 545,
   "metadata": {},
   "outputs": [
    {
     "data": {
      "image/png": "[encoded data removed]",
      "text/plain": [
       "<Figure size 432x288 with 1 Axes>"
      ]
     },
     "metadata": {
      "needs_background": "light"
     },
     "output_type": "display_data"
    }
   ],
   "source": [
    "df.square.hist()\n",
    "df = df.loc[df['square'] < 180]"
   ]
  },
  {
   "cell_type": "code",
   "execution_count": 546,
   "metadata": {},
   "outputs": [
    {
     "data": {
      "text/plain": [
       "<matplotlib.axes._subplots.AxesSubplot at 0x16d2d5d35b0>"
      ]
     },
     "execution_count": 546,
     "metadata": {},
     "output_type": "execute_result"
    },
    {
     "data": {
      "image/png": "[encoded data removed]",
      "text/plain": [
       "<Figure size 432x288 with 1 Axes>"
      ]
     },
     "metadata": {
      "needs_background": "light"
     },
     "output_type": "display_data"
    }
   ],
   "source": [
    "df.floor.hist()"
   ]
  },
  {
   "cell_type": "code",
   "execution_count": 547,
   "metadata": {},
   "outputs": [
    {
     "data": {
      "text/plain": [
       "<matplotlib.axes._subplots.AxesSubplot at 0x16d2e35e760>"
      ]
     },
     "execution_count": 547,
     "metadata": {},
     "output_type": "execute_result"
    },
    {
     "data": {
      "image/png": "[encoded data removed]",
      "text/plain": [
       "<Figure size 432x288 with 1 Axes>"
      ]
     },
     "metadata": {
      "needs_background": "light"
     },
     "output_type": "display_data"
    }
   ],
   "source": [
    "df.Google_marks.hist()"
   ]
  },
  {
   "cell_type": "code",
   "execution_count": 548,
   "metadata": {},
   "outputs": [
    {
     "data": {
      "text/plain": [
       "<matplotlib.axes._subplots.AxesSubplot at 0x16d2f474cd0>"
      ]
     },
     "execution_count": 548,
     "metadata": {},
     "output_type": "execute_result"
    },
    {
     "data": {
      "image/png": "[encoded data removed]",
      "text/plain": [
       "<Figure size 432x288 with 1 Axes>"
      ]
     },
     "metadata": {
      "needs_background": "light"
     },
     "output_type": "display_data"
    }
   ],
   "source": [
    "df.receipt.hist()"
   ]
  },
  {
   "cell_type": "code",
   "execution_count": 549,
   "metadata": {},
   "outputs": [
    {
     "data": {
      "text/plain": [
       "<matplotlib.axes._subplots.AxesSubplot at 0x16d2c642ee0>"
      ]
     },
     "execution_count": 549,
     "metadata": {},
     "output_type": "execute_result"
    },
    {
     "data": {
      "image/png": "[encoded data removed]",
      "text/plain": [
       "<Figure size 432x288 with 1 Axes>"
      ]
     },
     "metadata": {
      "needs_background": "light"
     },
     "output_type": "display_data"
    }
   ],
   "source": [
    "df.midQ_receipt.hist()"
   ]
  },
  {
   "cell_type": "code",
   "execution_count": 550,
   "metadata": {},
   "outputs": [
    {
     "data": {
      "text/plain": [
       "<matplotlib.axes._subplots.AxesSubplot at 0x16d2c55f130>"
      ]
     },
     "execution_count": 550,
     "metadata": {},
     "output_type": "execute_result"
    },
    {
     "data": {
      "image/png": "[encoded data removed]",
      "text/plain": [
       "<Figure size 432x288 with 1 Axes>"
      ]
     },
     "metadata": {
      "needs_background": "light"
     },
     "output_type": "display_data"
    }
   ],
   "source": [
    "df.People.hist()"
   ]
  },
  {
   "cell_type": "code",
   "execution_count": 551,
   "metadata": {},
   "outputs": [
    {
     "data": {
      "image/png": "[encoded data removed]",
      "text/plain": [
       "<Figure size 432x288 with 1 Axes>"
      ]
     },
     "metadata": {
      "needs_background": "light"
     },
     "output_type": "display_data"
    }
   ],
   "source": [
    "df.mid_income.hist()\n",
    "df = df.loc[df['mid_income'] > 5000]"
   ]
  },
  {
   "cell_type": "code",
   "execution_count": 552,
   "metadata": {},
   "outputs": [
    {
     "data": {
      "text/plain": [
       "<matplotlib.axes._subplots.AxesSubplot at 0x16d2c5b03a0>"
      ]
     },
     "execution_count": 552,
     "metadata": {},
     "output_type": "execute_result"
    },
    {
     "data": {
      "image/png": "[encoded data removed]",
      "text/plain": [
       "<Figure size 432x288 with 1 Axes>"
      ]
     },
     "metadata": {
      "needs_background": "light"
     },
     "output_type": "display_data"
    }
   ],
   "source": [
    "df.mobile.hist()"
   ]
  },
  {
   "cell_type": "code",
   "execution_count": 553,
   "metadata": {},
   "outputs": [
    {
     "data": {
      "text/plain": [
       "<matplotlib.axes._subplots.AxesSubplot at 0x16d2d440310>"
      ]
     },
     "execution_count": 553,
     "metadata": {},
     "output_type": "execute_result"
    },
    {
     "data": {
      "image/png": "[encoded data removed]",
      "text/plain": [
       "<Figure size 432x288 with 1 Axes>"
      ]
     },
     "metadata": {
      "needs_background": "light"
     },
     "output_type": "display_data"
    }
   ],
   "source": [
    "df.food_market.hist()"
   ]
  },
  {
   "cell_type": "code",
   "execution_count": 554,
   "metadata": {},
   "outputs": [
    {
     "data": {
      "text/plain": [
       "<matplotlib.axes._subplots.AxesSubplot at 0x16d2d455f70>"
      ]
     },
     "execution_count": 554,
     "metadata": {},
     "output_type": "execute_result"
    },
    {
     "data": {
      "image/png": "[encoded data removed]",
      "text/plain": [
       "<Figure size 432x288 with 1 Axes>"
      ]
     },
     "metadata": {
      "needs_background": "light"
     },
     "output_type": "display_data"
    }
   ],
   "source": [
    "df.product_market.hist()"
   ]
  },
  {
   "cell_type": "code",
   "execution_count": 555,
   "metadata": {},
   "outputs": [
    {
     "data": {
      "text/plain": [
       "<matplotlib.axes._subplots.AxesSubplot at 0x16d2c93e130>"
      ]
     },
     "execution_count": 555,
     "metadata": {},
     "output_type": "execute_result"
    },
    {
     "data": {
      "image/png": "[encoded data removed]",
      "text/plain": [
       "<Figure size 432x288 with 1 Axes>"
      ]
     },
     "metadata": {
      "needs_background": "light"
     },
     "output_type": "display_data"
    }
   ],
   "source": [
    "df.int_stop.hist()"
   ]
  },
  {
   "cell_type": "code",
   "execution_count": 556,
   "metadata": {},
   "outputs": [
    {
     "data": {
      "text/plain": [
       "<matplotlib.axes._subplots.AxesSubplot at 0x16d36f0b550>"
      ]
     },
     "execution_count": 556,
     "metadata": {},
     "output_type": "execute_result"
    },
    {
     "data": {
      "image/png": "[encoded data removed]",
      "text/plain": [
       "<Figure size 432x288 with 1 Axes>"
      ]
     },
     "metadata": {
      "needs_background": "light"
     },
     "output_type": "display_data"
    }
   ],
   "source": [
    "df.city_stop.hist()"
   ]
  },
  {
   "cell_type": "code",
   "execution_count": 557,
   "metadata": {},
   "outputs": [
    {
     "data": {
      "text/html": [
       "<div>\n",
       "<style scoped>\n",
       "    .dataframe tbody tr th:only-of-type {\n",
       "        vertical-align: middle;\n",
       "    }\n",
       "\n",
       "    .dataframe tbody tr th {\n",
       "        vertical-align: top;\n",
       "    }\n",
       "\n",
       "    .dataframe thead th {\n",
       "        text-align: right;\n",
       "    }\n",
       "</style>\n",
       "<table border=\"1\" class=\"dataframe\">\n",
       "  <thead>\n",
       "    <tr style=\"text-align: right;\">\n",
       "      <th></th>\n",
       "      <th>square</th>\n",
       "      <th>floor</th>\n",
       "      <th>ds</th>\n",
       "      <th>type</th>\n",
       "      <th>Google_marks</th>\n",
       "      <th>receipt</th>\n",
       "      <th>midQ_receipt</th>\n",
       "      <th>People</th>\n",
       "      <th>mid_income</th>\n",
       "      <th>mobile</th>\n",
       "      <th>food_market</th>\n",
       "      <th>product_market</th>\n",
       "      <th>int_stop</th>\n",
       "      <th>city_stop</th>\n",
       "      <th>type0</th>\n",
       "      <th>type1</th>\n",
       "      <th>type2</th>\n",
       "      <th>type3</th>\n",
       "      <th>type4</th>\n",
       "    </tr>\n",
       "  </thead>\n",
       "  <tbody>\n",
       "    <tr>\n",
       "      <th>0</th>\n",
       "      <td>9.00</td>\n",
       "      <td>1.0</td>\n",
       "      <td>1.0</td>\n",
       "      <td>Соціальний</td>\n",
       "      <td>43.0</td>\n",
       "      <td>571.0</td>\n",
       "      <td>2.0</td>\n",
       "      <td>108.0</td>\n",
       "      <td>13884.0</td>\n",
       "      <td>0.0</td>\n",
       "      <td>0.0</td>\n",
       "      <td>0.0</td>\n",
       "      <td>0.0</td>\n",
       "      <td>1.0</td>\n",
       "      <td>0.0</td>\n",
       "      <td>1.0</td>\n",
       "      <td>0.0</td>\n",
       "      <td>0.0</td>\n",
       "      <td>0.0</td>\n",
       "    </tr>\n",
       "    <tr>\n",
       "      <th>1</th>\n",
       "      <td>30.00</td>\n",
       "      <td>1.0</td>\n",
       "      <td>1.0</td>\n",
       "      <td>Соціальний</td>\n",
       "      <td>8.0</td>\n",
       "      <td>1197.0</td>\n",
       "      <td>2.0</td>\n",
       "      <td>750.0</td>\n",
       "      <td>11700.0</td>\n",
       "      <td>0.0</td>\n",
       "      <td>0.0</td>\n",
       "      <td>0.0</td>\n",
       "      <td>1.0</td>\n",
       "      <td>1.0</td>\n",
       "      <td>0.0</td>\n",
       "      <td>1.0</td>\n",
       "      <td>0.0</td>\n",
       "      <td>0.0</td>\n",
       "      <td>0.0</td>\n",
       "    </tr>\n",
       "    <tr>\n",
       "      <th>2</th>\n",
       "      <td>15.00</td>\n",
       "      <td>1.0</td>\n",
       "      <td>1.0</td>\n",
       "      <td>Соціальний</td>\n",
       "      <td>43.0</td>\n",
       "      <td>402.0</td>\n",
       "      <td>2.0</td>\n",
       "      <td>0.0</td>\n",
       "      <td>6786.0</td>\n",
       "      <td>0.0</td>\n",
       "      <td>0.0</td>\n",
       "      <td>0.0</td>\n",
       "      <td>1.0</td>\n",
       "      <td>1.0</td>\n",
       "      <td>0.0</td>\n",
       "      <td>1.0</td>\n",
       "      <td>0.0</td>\n",
       "      <td>0.0</td>\n",
       "      <td>0.0</td>\n",
       "    </tr>\n",
       "    <tr>\n",
       "      <th>3</th>\n",
       "      <td>20.00</td>\n",
       "      <td>1.0</td>\n",
       "      <td>1.0</td>\n",
       "      <td>Стандартний</td>\n",
       "      <td>43.0</td>\n",
       "      <td>1036.0</td>\n",
       "      <td>2.0</td>\n",
       "      <td>0.0</td>\n",
       "      <td>12948.0</td>\n",
       "      <td>0.0</td>\n",
       "      <td>0.0</td>\n",
       "      <td>0.0</td>\n",
       "      <td>1.0</td>\n",
       "      <td>1.0</td>\n",
       "      <td>0.0</td>\n",
       "      <td>0.0</td>\n",
       "      <td>0.0</td>\n",
       "      <td>0.0</td>\n",
       "      <td>1.0</td>\n",
       "    </tr>\n",
       "    <tr>\n",
       "      <th>4</th>\n",
       "      <td>30.00</td>\n",
       "      <td>1.0</td>\n",
       "      <td>1.0</td>\n",
       "      <td>Соціальний</td>\n",
       "      <td>43.0</td>\n",
       "      <td>513.0</td>\n",
       "      <td>2.0</td>\n",
       "      <td>0.0</td>\n",
       "      <td>11427.0</td>\n",
       "      <td>0.0</td>\n",
       "      <td>0.0</td>\n",
       "      <td>0.0</td>\n",
       "      <td>0.0</td>\n",
       "      <td>0.0</td>\n",
       "      <td>0.0</td>\n",
       "      <td>1.0</td>\n",
       "      <td>0.0</td>\n",
       "      <td>0.0</td>\n",
       "      <td>0.0</td>\n",
       "    </tr>\n",
       "    <tr>\n",
       "      <th>...</th>\n",
       "      <td>...</td>\n",
       "      <td>...</td>\n",
       "      <td>...</td>\n",
       "      <td>...</td>\n",
       "      <td>...</td>\n",
       "      <td>...</td>\n",
       "      <td>...</td>\n",
       "      <td>...</td>\n",
       "      <td>...</td>\n",
       "      <td>...</td>\n",
       "      <td>...</td>\n",
       "      <td>...</td>\n",
       "      <td>...</td>\n",
       "      <td>...</td>\n",
       "      <td>...</td>\n",
       "      <td>...</td>\n",
       "      <td>...</td>\n",
       "      <td>...</td>\n",
       "      <td>...</td>\n",
       "    </tr>\n",
       "    <tr>\n",
       "      <th>64</th>\n",
       "      <td>51.77</td>\n",
       "      <td>1.0</td>\n",
       "      <td>3.0</td>\n",
       "      <td>Преміальний</td>\n",
       "      <td>4.0</td>\n",
       "      <td>6669.0</td>\n",
       "      <td>2.0</td>\n",
       "      <td>963.0</td>\n",
       "      <td>9399.0</td>\n",
       "      <td>0.0</td>\n",
       "      <td>0.0</td>\n",
       "      <td>0.0</td>\n",
       "      <td>0.0</td>\n",
       "      <td>0.0</td>\n",
       "      <td>0.0</td>\n",
       "      <td>0.0</td>\n",
       "      <td>0.0</td>\n",
       "      <td>0.0</td>\n",
       "      <td>1.0</td>\n",
       "    </tr>\n",
       "    <tr>\n",
       "      <th>65</th>\n",
       "      <td>27.26</td>\n",
       "      <td>1.0</td>\n",
       "      <td>2.0</td>\n",
       "      <td>Преміальний</td>\n",
       "      <td>3.0</td>\n",
       "      <td>2877.0</td>\n",
       "      <td>2.0</td>\n",
       "      <td>0.0</td>\n",
       "      <td>14079.0</td>\n",
       "      <td>0.0</td>\n",
       "      <td>1.0</td>\n",
       "      <td>1.0</td>\n",
       "      <td>0.0</td>\n",
       "      <td>0.0</td>\n",
       "      <td>0.0</td>\n",
       "      <td>1.0</td>\n",
       "      <td>0.0</td>\n",
       "      <td>0.0</td>\n",
       "      <td>0.0</td>\n",
       "    </tr>\n",
       "    <tr>\n",
       "      <th>66</th>\n",
       "      <td>148.91</td>\n",
       "      <td>1.0</td>\n",
       "      <td>1.0</td>\n",
       "      <td>Стандартний</td>\n",
       "      <td>12.0</td>\n",
       "      <td>2146.0</td>\n",
       "      <td>2.0</td>\n",
       "      <td>315.0</td>\n",
       "      <td>11427.0</td>\n",
       "      <td>0.0</td>\n",
       "      <td>0.0</td>\n",
       "      <td>0.0</td>\n",
       "      <td>0.0</td>\n",
       "      <td>0.0</td>\n",
       "      <td>1.0</td>\n",
       "      <td>0.0</td>\n",
       "      <td>0.0</td>\n",
       "      <td>0.0</td>\n",
       "      <td>0.0</td>\n",
       "    </tr>\n",
       "    <tr>\n",
       "      <th>67</th>\n",
       "      <td>50.93</td>\n",
       "      <td>1.0</td>\n",
       "      <td>2.0</td>\n",
       "      <td>Соціальний</td>\n",
       "      <td>17.0</td>\n",
       "      <td>413.0</td>\n",
       "      <td>2.0</td>\n",
       "      <td>0.0</td>\n",
       "      <td>13338.0</td>\n",
       "      <td>0.0</td>\n",
       "      <td>1.0</td>\n",
       "      <td>1.0</td>\n",
       "      <td>0.0</td>\n",
       "      <td>0.0</td>\n",
       "      <td>NaN</td>\n",
       "      <td>NaN</td>\n",
       "      <td>NaN</td>\n",
       "      <td>NaN</td>\n",
       "      <td>NaN</td>\n",
       "    </tr>\n",
       "    <tr>\n",
       "      <th>68</th>\n",
       "      <td>30.00</td>\n",
       "      <td>1.0</td>\n",
       "      <td>2.0</td>\n",
       "      <td>Преміальний</td>\n",
       "      <td>12.0</td>\n",
       "      <td>3156.0</td>\n",
       "      <td>2.0</td>\n",
       "      <td>678.0</td>\n",
       "      <td>10296.0</td>\n",
       "      <td>0.0</td>\n",
       "      <td>0.0</td>\n",
       "      <td>0.0</td>\n",
       "      <td>0.0</td>\n",
       "      <td>0.0</td>\n",
       "      <td>NaN</td>\n",
       "      <td>NaN</td>\n",
       "      <td>NaN</td>\n",
       "      <td>NaN</td>\n",
       "      <td>NaN</td>\n",
       "    </tr>\n",
       "  </tbody>\n",
       "</table>\n",
       "<p>69 rows × 19 columns</p>\n",
       "</div>"
      ],
      "text/plain": [
       "    square  floor   ds         type  Google_marks  receipt  midQ_receipt  \\\n",
       "0     9.00    1.0  1.0   Соціальний          43.0    571.0           2.0   \n",
       "1    30.00    1.0  1.0   Соціальний           8.0   1197.0           2.0   \n",
       "2    15.00    1.0  1.0   Соціальний          43.0    402.0           2.0   \n",
       "3    20.00    1.0  1.0  Стандартний          43.0   1036.0           2.0   \n",
       "4    30.00    1.0  1.0   Соціальний          43.0    513.0           2.0   \n",
       "..     ...    ...  ...          ...           ...      ...           ...   \n",
       "64   51.77    1.0  3.0  Преміальний           4.0   6669.0           2.0   \n",
       "65   27.26    1.0  2.0  Преміальний           3.0   2877.0           2.0   \n",
       "66  148.91    1.0  1.0  Стандартний          12.0   2146.0           2.0   \n",
       "67   50.93    1.0  2.0   Соціальний          17.0    413.0           2.0   \n",
       "68   30.00    1.0  2.0  Преміальний          12.0   3156.0           2.0   \n",
       "\n",
       "    People  mid_income  mobile  food_market  product_market  int_stop  \\\n",
       "0    108.0     13884.0     0.0          0.0             0.0       0.0   \n",
       "1    750.0     11700.0     0.0          0.0             0.0       1.0   \n",
       "2      0.0      6786.0     0.0          0.0             0.0       1.0   \n",
       "3      0.0     12948.0     0.0          0.0             0.0       1.0   \n",
       "4      0.0     11427.0     0.0          0.0             0.0       0.0   \n",
       "..     ...         ...     ...          ...             ...       ...   \n",
       "64   963.0      9399.0     0.0          0.0             0.0       0.0   \n",
       "65     0.0     14079.0     0.0          1.0             1.0       0.0   \n",
       "66   315.0     11427.0     0.0          0.0             0.0       0.0   \n",
       "67     0.0     13338.0     0.0          1.0             1.0       0.0   \n",
       "68   678.0     10296.0     0.0          0.0             0.0       0.0   \n",
       "\n",
       "    city_stop  type0  type1  type2  type3  type4  \n",
       "0         1.0    0.0    1.0    0.0    0.0    0.0  \n",
       "1         1.0    0.0    1.0    0.0    0.0    0.0  \n",
       "2         1.0    0.0    1.0    0.0    0.0    0.0  \n",
       "3         1.0    0.0    0.0    0.0    0.0    1.0  \n",
       "4         0.0    0.0    1.0    0.0    0.0    0.0  \n",
       "..        ...    ...    ...    ...    ...    ...  \n",
       "64        0.0    0.0    0.0    0.0    0.0    1.0  \n",
       "65        0.0    0.0    1.0    0.0    0.0    0.0  \n",
       "66        0.0    1.0    0.0    0.0    0.0    0.0  \n",
       "67        0.0    NaN    NaN    NaN    NaN    NaN  \n",
       "68        0.0    NaN    NaN    NaN    NaN    NaN  \n",
       "\n",
       "[69 rows x 19 columns]"
      ]
     },
     "execution_count": 557,
     "metadata": {},
     "output_type": "execute_result"
    }
   ],
   "source": [
    "#binary coding\n",
    "\n",
    "from sklearn.preprocessing import OneHotEncoder\n",
    "ohe = OneHotEncoder(sparse=False) # sparse=False categorical_features=...\n",
    "new_ohe_features = ohe.fit_transform(df.type.values.reshape(-1, 1))\n",
    "tmp = pd.DataFrame(new_ohe_features, columns=['type' + str(i) for i in range(new_ohe_features.shape[1])])\n",
    "df = pd.concat([df, tmp], axis=1)\n",
    "df"
   ]
  },
  {
   "cell_type": "code",
   "execution_count": 558,
   "metadata": {},
   "outputs": [
    {
     "data": {
      "text/plain": [
       "<matplotlib.axes._subplots.AxesSubplot at 0x16d3684d310>"
      ]
     },
     "execution_count": 558,
     "metadata": {},
     "output_type": "execute_result"
    },
    {
     "data": {
      "image/png": "[encoded data removed]",
      "text/plain": [
       "<Figure size 432x288 with 1 Axes>"
      ]
     },
     "metadata": {
      "needs_background": "light"
     },
     "output_type": "display_data"
    }
   ],
   "source": [
    "df.type0.hist()"
   ]
  },
  {
   "cell_type": "code",
   "execution_count": 559,
   "metadata": {},
   "outputs": [
    {
     "data": {
      "text/plain": [
       "<matplotlib.axes._subplots.AxesSubplot at 0x16d3564e0d0>"
      ]
     },
     "execution_count": 559,
     "metadata": {},
     "output_type": "execute_result"
    },
    {
     "data": {
      "image/png": "[encoded data removed]",
      "text/plain": [
       "<Figure size 432x288 with 1 Axes>"
      ]
     },
     "metadata": {
      "needs_background": "light"
     },
     "output_type": "display_data"
    }
   ],
   "source": [
    "df.type1.hist()"
   ]
  },
  {
   "cell_type": "code",
   "execution_count": 560,
   "metadata": {},
   "outputs": [
    {
     "data": {
      "text/plain": [
       "<matplotlib.axes._subplots.AxesSubplot at 0x16d35408f70>"
      ]
     },
     "execution_count": 560,
     "metadata": {},
     "output_type": "execute_result"
    },
    {
     "data": {
      "image/png": "[encoded data removed]",
      "text/plain": [
       "<Figure size 432x288 with 1 Axes>"
      ]
     },
     "metadata": {
      "needs_background": "light"
     },
     "output_type": "display_data"
    }
   ],
   "source": [
    "df.type2.hist()"
   ]
  },
  {
   "cell_type": "code",
   "execution_count": 561,
   "metadata": {},
   "outputs": [
    {
     "data": {
      "text/plain": [
       "<matplotlib.axes._subplots.AxesSubplot at 0x16d353621c0>"
      ]
     },
     "execution_count": 561,
     "metadata": {},
     "output_type": "execute_result"
    },
    {
     "data": {
      "image/png": "[encoded data removed]",
      "text/plain": [
       "<Figure size 432x288 with 1 Axes>"
      ]
     },
     "metadata": {
      "needs_background": "light"
     },
     "output_type": "display_data"
    }
   ],
   "source": [
    "df.type3.hist()"
   ]
  },
  {
   "cell_type": "code",
   "execution_count": 562,
   "metadata": {},
   "outputs": [
    {
     "data": {
      "text/plain": [
       "<matplotlib.axes._subplots.AxesSubplot at 0x16d352a3310>"
      ]
     },
     "execution_count": 562,
     "metadata": {},
     "output_type": "execute_result"
    },
    {
     "data": {
      "image/png": "[encoded data removed]",
      "text/plain": [
       "<Figure size 432x288 with 1 Axes>"
      ]
     },
     "metadata": {
      "needs_background": "light"
     },
     "output_type": "display_data"
    }
   ],
   "source": [
    "df.type4.hist()"
   ]
  },
  {
   "cell_type": "code",
   "execution_count": 563,
   "metadata": {},
   "outputs": [],
   "source": [
    "df = df.drop(columns = ['type3'], );\n",
    "df = df.drop(columns = ['type2'], );\n",
    "df = df.drop(columns = ['midQ_receipt'], );\n",
    "df = df.drop(columns = ['mobile'], );\n",
    "df = df.drop(columns = ['floor'], );\n",
    "df = df.drop(columns = ['type'], );\n",
    "df = df.drop(columns = ['Google_marks'], );\n",
    "df = df.fillna(0) "
   ]
  },
  {
   "cell_type": "code",
   "execution_count": 564,
   "metadata": {},
   "outputs": [
    {
     "data": {
      "text/html": [
       "<div>\n",
       "<style scoped>\n",
       "    .dataframe tbody tr th:only-of-type {\n",
       "        vertical-align: middle;\n",
       "    }\n",
       "\n",
       "    .dataframe tbody tr th {\n",
       "        vertical-align: top;\n",
       "    }\n",
       "\n",
       "    .dataframe thead th {\n",
       "        text-align: right;\n",
       "    }\n",
       "</style>\n",
       "<table border=\"1\" class=\"dataframe\">\n",
       "  <thead>\n",
       "    <tr style=\"text-align: right;\">\n",
       "      <th></th>\n",
       "      <th>square</th>\n",
       "      <th>ds</th>\n",
       "      <th>People</th>\n",
       "      <th>mid_income</th>\n",
       "      <th>food_market</th>\n",
       "      <th>product_market</th>\n",
       "      <th>int_stop</th>\n",
       "      <th>city_stop</th>\n",
       "      <th>type0</th>\n",
       "      <th>type1</th>\n",
       "      <th>type4</th>\n",
       "      <th>receipt</th>\n",
       "    </tr>\n",
       "  </thead>\n",
       "  <tbody>\n",
       "    <tr>\n",
       "      <th>0</th>\n",
       "      <td>9.00</td>\n",
       "      <td>1.0</td>\n",
       "      <td>108.0</td>\n",
       "      <td>13884.0</td>\n",
       "      <td>0.0</td>\n",
       "      <td>0.0</td>\n",
       "      <td>0.0</td>\n",
       "      <td>1.0</td>\n",
       "      <td>0.0</td>\n",
       "      <td>1.0</td>\n",
       "      <td>0.0</td>\n",
       "      <td>571.0</td>\n",
       "    </tr>\n",
       "    <tr>\n",
       "      <th>1</th>\n",
       "      <td>30.00</td>\n",
       "      <td>1.0</td>\n",
       "      <td>750.0</td>\n",
       "      <td>11700.0</td>\n",
       "      <td>0.0</td>\n",
       "      <td>0.0</td>\n",
       "      <td>1.0</td>\n",
       "      <td>1.0</td>\n",
       "      <td>0.0</td>\n",
       "      <td>1.0</td>\n",
       "      <td>0.0</td>\n",
       "      <td>1197.0</td>\n",
       "    </tr>\n",
       "    <tr>\n",
       "      <th>2</th>\n",
       "      <td>15.00</td>\n",
       "      <td>1.0</td>\n",
       "      <td>0.0</td>\n",
       "      <td>6786.0</td>\n",
       "      <td>0.0</td>\n",
       "      <td>0.0</td>\n",
       "      <td>1.0</td>\n",
       "      <td>1.0</td>\n",
       "      <td>0.0</td>\n",
       "      <td>1.0</td>\n",
       "      <td>0.0</td>\n",
       "      <td>402.0</td>\n",
       "    </tr>\n",
       "    <tr>\n",
       "      <th>3</th>\n",
       "      <td>20.00</td>\n",
       "      <td>1.0</td>\n",
       "      <td>0.0</td>\n",
       "      <td>12948.0</td>\n",
       "      <td>0.0</td>\n",
       "      <td>0.0</td>\n",
       "      <td>1.0</td>\n",
       "      <td>1.0</td>\n",
       "      <td>0.0</td>\n",
       "      <td>0.0</td>\n",
       "      <td>1.0</td>\n",
       "      <td>1036.0</td>\n",
       "    </tr>\n",
       "    <tr>\n",
       "      <th>4</th>\n",
       "      <td>30.00</td>\n",
       "      <td>1.0</td>\n",
       "      <td>0.0</td>\n",
       "      <td>11427.0</td>\n",
       "      <td>0.0</td>\n",
       "      <td>0.0</td>\n",
       "      <td>0.0</td>\n",
       "      <td>0.0</td>\n",
       "      <td>0.0</td>\n",
       "      <td>1.0</td>\n",
       "      <td>0.0</td>\n",
       "      <td>513.0</td>\n",
       "    </tr>\n",
       "    <tr>\n",
       "      <th>...</th>\n",
       "      <td>...</td>\n",
       "      <td>...</td>\n",
       "      <td>...</td>\n",
       "      <td>...</td>\n",
       "      <td>...</td>\n",
       "      <td>...</td>\n",
       "      <td>...</td>\n",
       "      <td>...</td>\n",
       "      <td>...</td>\n",
       "      <td>...</td>\n",
       "      <td>...</td>\n",
       "      <td>...</td>\n",
       "    </tr>\n",
       "    <tr>\n",
       "      <th>64</th>\n",
       "      <td>51.77</td>\n",
       "      <td>3.0</td>\n",
       "      <td>963.0</td>\n",
       "      <td>9399.0</td>\n",
       "      <td>0.0</td>\n",
       "      <td>0.0</td>\n",
       "      <td>0.0</td>\n",
       "      <td>0.0</td>\n",
       "      <td>0.0</td>\n",
       "      <td>0.0</td>\n",
       "      <td>1.0</td>\n",
       "      <td>6669.0</td>\n",
       "    </tr>\n",
       "    <tr>\n",
       "      <th>65</th>\n",
       "      <td>27.26</td>\n",
       "      <td>2.0</td>\n",
       "      <td>0.0</td>\n",
       "      <td>14079.0</td>\n",
       "      <td>1.0</td>\n",
       "      <td>1.0</td>\n",
       "      <td>0.0</td>\n",
       "      <td>0.0</td>\n",
       "      <td>0.0</td>\n",
       "      <td>1.0</td>\n",
       "      <td>0.0</td>\n",
       "      <td>2877.0</td>\n",
       "    </tr>\n",
       "    <tr>\n",
       "      <th>66</th>\n",
       "      <td>148.91</td>\n",
       "      <td>1.0</td>\n",
       "      <td>315.0</td>\n",
       "      <td>11427.0</td>\n",
       "      <td>0.0</td>\n",
       "      <td>0.0</td>\n",
       "      <td>0.0</td>\n",
       "      <td>0.0</td>\n",
       "      <td>1.0</td>\n",
       "      <td>0.0</td>\n",
       "      <td>0.0</td>\n",
       "      <td>2146.0</td>\n",
       "    </tr>\n",
       "    <tr>\n",
       "      <th>67</th>\n",
       "      <td>50.93</td>\n",
       "      <td>2.0</td>\n",
       "      <td>0.0</td>\n",
       "      <td>13338.0</td>\n",
       "      <td>1.0</td>\n",
       "      <td>1.0</td>\n",
       "      <td>0.0</td>\n",
       "      <td>0.0</td>\n",
       "      <td>0.0</td>\n",
       "      <td>0.0</td>\n",
       "      <td>0.0</td>\n",
       "      <td>413.0</td>\n",
       "    </tr>\n",
       "    <tr>\n",
       "      <th>68</th>\n",
       "      <td>30.00</td>\n",
       "      <td>2.0</td>\n",
       "      <td>678.0</td>\n",
       "      <td>10296.0</td>\n",
       "      <td>0.0</td>\n",
       "      <td>0.0</td>\n",
       "      <td>0.0</td>\n",
       "      <td>0.0</td>\n",
       "      <td>0.0</td>\n",
       "      <td>0.0</td>\n",
       "      <td>0.0</td>\n",
       "      <td>3156.0</td>\n",
       "    </tr>\n",
       "  </tbody>\n",
       "</table>\n",
       "<p>69 rows × 12 columns</p>\n",
       "</div>"
      ],
      "text/plain": [
       "    square   ds  People  mid_income  food_market  product_market  int_stop  \\\n",
       "0     9.00  1.0   108.0     13884.0          0.0             0.0       0.0   \n",
       "1    30.00  1.0   750.0     11700.0          0.0             0.0       1.0   \n",
       "2    15.00  1.0     0.0      6786.0          0.0             0.0       1.0   \n",
       "3    20.00  1.0     0.0     12948.0          0.0             0.0       1.0   \n",
       "4    30.00  1.0     0.0     11427.0          0.0             0.0       0.0   \n",
       "..     ...  ...     ...         ...          ...             ...       ...   \n",
       "64   51.77  3.0   963.0      9399.0          0.0             0.0       0.0   \n",
       "65   27.26  2.0     0.0     14079.0          1.0             1.0       0.0   \n",
       "66  148.91  1.0   315.0     11427.0          0.0             0.0       0.0   \n",
       "67   50.93  2.0     0.0     13338.0          1.0             1.0       0.0   \n",
       "68   30.00  2.0   678.0     10296.0          0.0             0.0       0.0   \n",
       "\n",
       "    city_stop  type0  type1  type4  receipt  \n",
       "0         1.0    0.0    1.0    0.0    571.0  \n",
       "1         1.0    0.0    1.0    0.0   1197.0  \n",
       "2         1.0    0.0    1.0    0.0    402.0  \n",
       "3         1.0    0.0    0.0    1.0   1036.0  \n",
       "4         0.0    0.0    1.0    0.0    513.0  \n",
       "..        ...    ...    ...    ...      ...  \n",
       "64        0.0    0.0    0.0    1.0   6669.0  \n",
       "65        0.0    0.0    1.0    0.0   2877.0  \n",
       "66        0.0    1.0    0.0    0.0   2146.0  \n",
       "67        0.0    0.0    0.0    0.0    413.0  \n",
       "68        0.0    0.0    0.0    0.0   3156.0  \n",
       "\n",
       "[69 rows x 12 columns]"
      ]
     },
     "execution_count": 564,
     "metadata": {},
     "output_type": "execute_result"
    }
   ],
   "source": [
    "new_order = [0,1,3,4, 5,6,7,8,9,10,11,2]\n",
    "df = df[df.columns[new_order]]\n",
    "df"
   ]
  },
  {
   "cell_type": "code",
   "execution_count": 565,
   "metadata": {},
   "outputs": [
    {
     "data": {
      "image/png": "[encoded data removed]",
      "text/plain": [
       "<Figure size 720x720 with 144 Axes>"
      ]
     },
     "metadata": {
      "needs_background": "light"
     },
     "output_type": "display_data"
    }
   ],
   "source": [
    "from pandas.plotting import scatter_matrix\n",
    "scatter_matrix(df, alpha=0.2, figsize=(10, 10))\n",
    "plt.show()"
   ]
  },
  {
   "cell_type": "code",
   "execution_count": 570,
   "metadata": {},
   "outputs": [],
   "source": [
    "# Splitting the dataset into the Training set and Test set\n",
    "X = df.iloc[:, :-1]\n",
    "y = df['receipt']\n",
    "from sklearn.model_selection import train_test_split\n",
    "X_train, X_test, y_train, y_test = train_test_split(X, y, test_size=0.2, random_state=10)\n"
   ]
  },
  {
   "cell_type": "code",
   "execution_count": 571,
   "metadata": {},
   "outputs": [],
   "source": [
    "#!pip install statsmodels"
   ]
  },
  {
   "cell_type": "code",
   "execution_count": 572,
   "metadata": {},
   "outputs": [
    {
     "data": {
      "text/plain": [
       "array([ 8,  7,  9, 10,  5,  3,  6,  4,  1,  2])"
      ]
     },
     "execution_count": 572,
     "metadata": {},
     "output_type": "execute_result"
    }
   ],
   "source": [
    "#RFE results\n",
    "fit.n_features_\n",
    "fit.support_\n",
    "fit.ranking_"
   ]
  },
  {
   "cell_type": "code",
   "execution_count": 573,
   "metadata": {},
   "outputs": [
    {
     "data": {
      "text/plain": [
       "0.657"
      ]
     },
     "execution_count": 573,
     "metadata": {},
     "output_type": "execute_result"
    }
   ],
   "source": [
    "# Fitting Multiple Regression\n",
    "mr = LinearRegression().fit(X_train, y_train)\n",
    "\n",
    "# Coefficient of determination R^2\n",
    "mr.score(X_train, y_train).round(3)"
   ]
  },
  {
   "cell_type": "code",
   "execution_count": 574,
   "metadata": {},
   "outputs": [
    {
     "data": {
      "text/html": [
       "<table class=\"simpletable\">\n",
       "<caption>OLS Regression Results</caption>\n",
       "<tr>\n",
       "  <th>Dep. Variable:</th>         <td>receipt</td>     <th>  R-squared:         </th> <td>   0.657</td>\n",
       "</tr>\n",
       "<tr>\n",
       "  <th>Model:</th>                   <td>OLS</td>       <th>  Adj. R-squared:    </th> <td>   0.569</td>\n",
       "</tr>\n",
       "<tr>\n",
       "  <th>Method:</th>             <td>Least Squares</td>  <th>  F-statistic:       </th> <td>   7.474</td>\n",
       "</tr>\n",
       "<tr>\n",
       "  <th>Date:</th>             <td>Thu, 21 Oct 2021</td> <th>  Prob (F-statistic):</th> <td>5.68e-07</td>\n",
       "</tr>\n",
       "<tr>\n",
       "  <th>Time:</th>                 <td>17:28:53</td>     <th>  Log-Likelihood:    </th> <td> -466.86</td>\n",
       "</tr>\n",
       "<tr>\n",
       "  <th>No. Observations:</th>      <td>    55</td>      <th>  AIC:               </th> <td>   957.7</td>\n",
       "</tr>\n",
       "<tr>\n",
       "  <th>Df Residuals:</th>          <td>    43</td>      <th>  BIC:               </th> <td>   981.8</td>\n",
       "</tr>\n",
       "<tr>\n",
       "  <th>Df Model:</th>              <td>    11</td>      <th>                     </th>     <td> </td>   \n",
       "</tr>\n",
       "<tr>\n",
       "  <th>Covariance Type:</th>      <td>nonrobust</td>    <th>                     </th>     <td> </td>   \n",
       "</tr>\n",
       "</table>\n",
       "<table class=\"simpletable\">\n",
       "<tr>\n",
       "         <td></td>           <th>coef</th>     <th>std err</th>      <th>t</th>      <th>P>|t|</th>  <th>[0.025</th>    <th>0.975]</th>  \n",
       "</tr>\n",
       "<tr>\n",
       "  <th>const</th>          <td> -112.2572</td> <td> 1085.705</td> <td>   -0.103</td> <td> 0.918</td> <td>-2301.791</td> <td> 2077.276</td>\n",
       "</tr>\n",
       "<tr>\n",
       "  <th>square</th>         <td>   -6.8511</td> <td>    9.298</td> <td>   -0.737</td> <td> 0.465</td> <td>  -25.602</td> <td>   11.900</td>\n",
       "</tr>\n",
       "<tr>\n",
       "  <th>ds</th>             <td> 1756.1715</td> <td>  308.598</td> <td>    5.691</td> <td> 0.000</td> <td> 1133.824</td> <td> 2378.519</td>\n",
       "</tr>\n",
       "<tr>\n",
       "  <th>People</th>         <td>    0.0121</td> <td>    0.689</td> <td>    0.018</td> <td> 0.986</td> <td>   -1.377</td> <td>    1.401</td>\n",
       "</tr>\n",
       "<tr>\n",
       "  <th>mid_income</th>     <td>   -0.0222</td> <td>    0.072</td> <td>   -0.307</td> <td> 0.760</td> <td>   -0.168</td> <td>    0.124</td>\n",
       "</tr>\n",
       "<tr>\n",
       "  <th>food_market</th>    <td> -364.0311</td> <td>  660.129</td> <td>   -0.551</td> <td> 0.584</td> <td>-1695.308</td> <td>  967.246</td>\n",
       "</tr>\n",
       "<tr>\n",
       "  <th>product_market</th> <td>  451.6519</td> <td>  736.271</td> <td>    0.613</td> <td> 0.543</td> <td>-1033.180</td> <td> 1936.484</td>\n",
       "</tr>\n",
       "<tr>\n",
       "  <th>int_stop</th>       <td> -999.2337</td> <td>  759.197</td> <td>   -1.316</td> <td> 0.195</td> <td>-2530.300</td> <td>  531.832</td>\n",
       "</tr>\n",
       "<tr>\n",
       "  <th>city_stop</th>      <td>  543.2856</td> <td>  411.394</td> <td>    1.321</td> <td> 0.194</td> <td> -286.370</td> <td> 1372.941</td>\n",
       "</tr>\n",
       "<tr>\n",
       "  <th>type0</th>          <td>    7.7813</td> <td>  783.314</td> <td>    0.010</td> <td> 0.992</td> <td>-1571.922</td> <td> 1587.484</td>\n",
       "</tr>\n",
       "<tr>\n",
       "  <th>type1</th>          <td> -113.5785</td> <td>  779.549</td> <td>   -0.146</td> <td> 0.885</td> <td>-1685.690</td> <td> 1458.533</td>\n",
       "</tr>\n",
       "<tr>\n",
       "  <th>type4</th>          <td> 1071.5901</td> <td>  772.309</td> <td>    1.388</td> <td> 0.172</td> <td> -485.919</td> <td> 2629.099</td>\n",
       "</tr>\n",
       "</table>\n",
       "<table class=\"simpletable\">\n",
       "<tr>\n",
       "  <th>Omnibus:</th>       <td> 0.342</td> <th>  Durbin-Watson:     </th> <td>   1.936</td>\n",
       "</tr>\n",
       "<tr>\n",
       "  <th>Prob(Omnibus):</th> <td> 0.843</td> <th>  Jarque-Bera (JB):  </th> <td>   0.179</td>\n",
       "</tr>\n",
       "<tr>\n",
       "  <th>Skew:</th>          <td>-0.139</td> <th>  Prob(JB):          </th> <td>   0.914</td>\n",
       "</tr>\n",
       "<tr>\n",
       "  <th>Kurtosis:</th>      <td> 2.971</td> <th>  Cond. No.          </th> <td>9.62e+04</td>\n",
       "</tr>\n",
       "</table><br/><br/>Warnings:<br/>[1] Standard Errors assume that the covariance matrix of the errors is correctly specified.<br/>[2] The condition number is large, 9.62e+04. This might indicate that there are<br/>strong multicollinearity or other numerical problems."
      ],
      "text/plain": [
       "<class 'statsmodels.iolib.summary.Summary'>\n",
       "\"\"\"\n",
       "                            OLS Regression Results                            \n",
       "==============================================================================\n",
       "Dep. Variable:                receipt   R-squared:                       0.657\n",
       "Model:                            OLS   Adj. R-squared:                  0.569\n",
       "Method:                 Least Squares   F-statistic:                     7.474\n",
       "Date:                Thu, 21 Oct 2021   Prob (F-statistic):           5.68e-07\n",
       "Time:                        17:28:53   Log-Likelihood:                -466.86\n",
       "No. Observations:                  55   AIC:                             957.7\n",
       "Df Residuals:                      43   BIC:                             981.8\n",
       "Df Model:                          11                                         \n",
       "Covariance Type:            nonrobust                                         \n",
       "==================================================================================\n",
       "                     coef    std err          t      P>|t|      [0.025      0.975]\n",
       "----------------------------------------------------------------------------------\n",
       "const           -112.2572   1085.705     -0.103      0.918   -2301.791    2077.276\n",
       "square            -6.8511      9.298     -0.737      0.465     -25.602      11.900\n",
       "ds              1756.1715    308.598      5.691      0.000    1133.824    2378.519\n",
       "People             0.0121      0.689      0.018      0.986      -1.377       1.401\n",
       "mid_income        -0.0222      0.072     -0.307      0.760      -0.168       0.124\n",
       "food_market     -364.0311    660.129     -0.551      0.584   -1695.308     967.246\n",
       "product_market   451.6519    736.271      0.613      0.543   -1033.180    1936.484\n",
       "int_stop        -999.2337    759.197     -1.316      0.195   -2530.300     531.832\n",
       "city_stop        543.2856    411.394      1.321      0.194    -286.370    1372.941\n",
       "type0              7.7813    783.314      0.010      0.992   -1571.922    1587.484\n",
       "type1           -113.5785    779.549     -0.146      0.885   -1685.690    1458.533\n",
       "type4           1071.5901    772.309      1.388      0.172    -485.919    2629.099\n",
       "==============================================================================\n",
       "Omnibus:                        0.342   Durbin-Watson:                   1.936\n",
       "Prob(Omnibus):                  0.843   Jarque-Bera (JB):                0.179\n",
       "Skew:                          -0.139   Prob(JB):                        0.914\n",
       "Kurtosis:                       2.971   Cond. No.                     9.62e+04\n",
       "==============================================================================\n",
       "\n",
       "Warnings:\n",
       "[1] Standard Errors assume that the covariance matrix of the errors is correctly specified.\n",
       "[2] The condition number is large, 9.62e+04. This might indicate that there are\n",
       "strong multicollinearity or other numerical problems.\n",
       "\"\"\""
      ]
     },
     "execution_count": 574,
     "metadata": {},
     "output_type": "execute_result"
    }
   ],
   "source": [
    "# Checking p-values\n",
    "import statsmodels.api as sm\n",
    "X1 = sm.add_constant(X_train)\n",
    "mr1 = sm.OLS(y_train, X1).fit()\n",
    "#mr1.pvalues\n",
    "mr1.summary()"
   ]
  },
  {
   "cell_type": "code",
   "execution_count": 579,
   "metadata": {},
   "outputs": [],
   "source": [
    "X_train = pd.DataFrame(X_train)\n",
    "X_test = pd.DataFrame(X_test)\n",
    "y_test = pd.DataFrame(y_test)\n",
    "y_train = pd.DataFrame(y_train)\n",
    "y_train = np.asarray(y_train).reshape(-1,1)\n",
    "y_test = np.asarray(y_test).reshape(-1,1)"
   ]
  },
  {
   "cell_type": "code",
   "execution_count": 580,
   "metadata": {},
   "outputs": [],
   "source": [
    "# Feature Scaling\n",
    "from sklearn.preprocessing import StandardScaler\n",
    "sc_X = StandardScaler().fit(X_train)\n",
    "X_train = sc_X.transform(X_train)\n",
    "X_test = sc_X.transform(X_test)\n",
    "sc_y = StandardScaler().fit(y_train)\n",
    "y_train = sc_y.transform(y_train)\n",
    "y_test = sc_y.transform(y_test)"
   ]
  },
  {
   "cell_type": "code",
   "execution_count": 581,
   "metadata": {},
   "outputs": [
    {
     "ename": "ModuleNotFoundError",
     "evalue": "No module named 'keras'",
     "output_type": "error",
     "traceback": [
      "\u001b[1;31m---------------------------------------------------------------------------\u001b[0m",
      "\u001b[1;31mModuleNotFoundError\u001b[0m                       Traceback (most recent call last)",
      "\u001b[1;32m<ipython-input-581-6527e39ea359>\u001b[0m in \u001b[0;36m<module>\u001b[1;34m\u001b[0m\n\u001b[0;32m      2\u001b[0m \u001b[1;31m#!pip install keras\u001b[0m\u001b[1;33m\u001b[0m\u001b[1;33m\u001b[0m\u001b[1;33m\u001b[0m\u001b[0m\n\u001b[0;32m      3\u001b[0m \u001b[1;31m# Importing the Keras libraries and packages\u001b[0m\u001b[1;33m\u001b[0m\u001b[1;33m\u001b[0m\u001b[1;33m\u001b[0m\u001b[0m\n\u001b[1;32m----> 4\u001b[1;33m \u001b[1;32mimport\u001b[0m \u001b[0mkeras\u001b[0m\u001b[1;33m\u001b[0m\u001b[1;33m\u001b[0m\u001b[0m\n\u001b[0m\u001b[0;32m      5\u001b[0m \u001b[1;32mfrom\u001b[0m \u001b[0mkeras\u001b[0m\u001b[1;33m.\u001b[0m\u001b[0mmodels\u001b[0m \u001b[1;32mimport\u001b[0m \u001b[0mSequential\u001b[0m\u001b[1;33m\u001b[0m\u001b[1;33m\u001b[0m\u001b[0m\n\u001b[0;32m      6\u001b[0m \u001b[1;32mfrom\u001b[0m \u001b[0mkeras\u001b[0m\u001b[1;33m.\u001b[0m\u001b[0mlayers\u001b[0m \u001b[1;32mimport\u001b[0m \u001b[0mDense\u001b[0m\u001b[1;33m\u001b[0m\u001b[1;33m\u001b[0m\u001b[0m\n",
      "\u001b[1;31mModuleNotFoundError\u001b[0m: No module named 'keras'"
     ]
    }
   ],
   "source": [
    "#!pip install tensorflow\n",
    "#!pip install keras\n",
    "# Importing the Keras libraries and packages\n",
    "import keras\n",
    "from keras.models import Sequential\n",
    "from keras.layers import Dense\n"
   ]
  },
  {
   "cell_type": "code",
   "execution_count": null,
   "metadata": {},
   "outputs": [],
   "source": []
  }
 ],
 "metadata": {
  "kernelspec": {
   "display_name": "Python 3",
   "language": "python",
   "name": "python3"
  },
  "language_info": {
   "codemirror_mode": {
    "name": "ipython",
    "version": 3
   },
   "file_extension": ".py",
   "mimetype": "text/x-python",
   "name": "python",
   "nbconvert_exporter": "python",
   "pygments_lexer": "ipython3",
   "version": "3.8.3"
  }
 },
 "nbformat": 4,
 "nbformat_minor": 4
}
